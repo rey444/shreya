{
 "cells": [
  {
   "attachments": {},
   "cell_type": "markdown",
   "metadata": {},
   "source": [
    "# Big Idea 5.4 Crowdsourcing \n",
    "\n",
    "- title: Big Idea 5.4 Crowdsourcing \n",
    "- toc: true\n",
    "- branch: master\n",
    "- badges: true\n",
    "- comments: true\n",
    "- categories: [t2]"
   ]
  },
  {
   "attachments": {},
   "cell_type": "markdown",
   "metadata": {},
   "source": [
    "### Crowdsourcing Notes\n",
    "\n",
    "- The more you crowdsource, the more you reduce computer bias\n",
    "- Crowdsourcing lets us:\n",
    "    - Obtain shared information\n",
    "    - Share information\n",
    "    - Participate in distributed computing\n",
    "\n",
    "### Examples of Crowdsourcing\n",
    "\n",
    "- Wikipedia is an example of crowdsourcing\n",
    "    - can have innacurate info, but incorrect info is usually corrected through Wiki's self-policing community\n",
    "    - multiple authors contribute to building the info --> some people argue that it is 'better' than other sources\n",
    "- Crypto currency and associated block chain\n",
    "    - exchanges of money are validated 3 times by independent miners\n",
    "    - if a flaw is detected, the calculations are checked and performed again\n",
    "    - has reinvented how governments think about currency\n",
    "    - using block chain algorithms is being considered for other uses, ie. crowdsourcing proivate data like medical records\n",
    "- COVID data\n",
    "    - example of crowdsourced data\n",
    "    - can see which regions are contributing and which aren't\n",
    "    - this data impacts the choices we make: ie. whether to travel or not, whether or not to wear a mask, etc.\n",
    "\n",
    "### Obtaining Data Through Crowdsourcing\n",
    "\n",
    "- APIs: data has influenced how we code; allows us to obtain and analyze data\n",
    "    - We build two car APIs for our website: one contains car data such as the color, brand, and power source of the car, and the cost, while the other API contains data such as the name, the seating capacity, the power source, the type of transmission, and the mileage/range of the car\n",
    "- GitHub\n",
    "    - we can see everyone's code files \n",
    "- Kaggle Datasets\n",
    "    - For science and code exploration\n",
    "    - points us to youtube or netflix channels\n",
    "\n",
    "### Hacks\n",
    "\n",
    "- We could create a site where everyone can share blogs about errors they ran into and how the solved them to crowdsource information among compsci students\n",
    "- Our project could be better with crowdsourcing, because we could have more cars represented in our API by having other people input the data using the parameters we have set\n",
    "- We could get people to comment reviews on our site at NATM\n"
   ]
  }
 ],
 "metadata": {
  "kernelspec": {
   "display_name": "base",
   "language": "python",
   "name": "python3"
  },
  "language_info": {
   "name": "python",
   "version": "3.9.12"
  },
  "orig_nbformat": 4,
  "vscode": {
   "interpreter": {
    "hash": "d4f40b15e6133daba1938c03094ab5050614a1b04d93d14e71faa6c0eef215a6"
   }
  }
 },
 "nbformat": 4,
 "nbformat_minor": 2
}
