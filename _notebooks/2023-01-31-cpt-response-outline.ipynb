{
 "cells": [
  {
   "attachments": {},
   "cell_type": "markdown",
   "metadata": {},
   "source": [
    "# Week 20 CPT Response Outline\n",
    "\n",
    "- title: Week 20 CPT Response Outline\n",
    "- toc: true\n",
    "- branch: master\n",
    "- badges: true\n",
    "- comments: true\n",
    "- categories: [t2]"
   ]
  },
  {
   "attachments": {},
   "cell_type": "markdown",
   "metadata": {},
   "source": [
    "### Program Purpose and Function\n",
    "\n",
    "1. In my video, I will demonstrate filling out the multiple choice questionnaire (input). Once I hit submit, it will show the output, which will be the model name (and possibly an image) of the best fit chevrolet car for the user.\n",
    "\n",
    "2. Written Response:\n",
    "\n",
    "    Function: A questionnarie on a website which recommends a chevrolet vehicle that would best match with a user's transportational needs\n",
    "\n",
    "    Purpose: To help people who are trying to buy a new car find the chevrolet car model which best meets their needs. This helps people save time when they're trying to buy a new car, and also to be prepared when they visit the dealership. \n",
    "\n",
    "    Input: user answering car search tool questionnaire on frontend\n",
    "\n",
    "    Output: car recommendation\n",
    "\n",
    "### Data Abstraction\n",
    "\n",
    "1. Code segment which shows that data is being stored in a list: create array with quiz questions and iterate through them\n",
    "\n",
    "2. Code segment which shows the data in the same list being used as a part of fulfilling the program's purpose: loop through questions --> if user's answer marches with a product's assigned answer --> add one point to that car model\n",
    "\n",
    "3. Identify name of variable representing list being used: carQ\n",
    "\n",
    "4. Describes what the data contained in this list is representing in the program: the data contained in the list will be the questions that the users will be asked and the answer sets that go along with them to determine which chevrolet car recommendation they'll get\n",
    "\n",
    "### Managing Complexity\n",
    "\n",
    "1. Explains how the list manages complexity, how the program would be different without the use of the list, and why I need it for my program: If I use a list to store the data for questions and the user's answers, it will be easier for the program to come up with a result for the car recommendation by adding up points for each car and then choosing the car which is the best fit for them\n",
    "\n",
    "### Procedural Abstraction\n",
    "\n",
    "1. Code segment that shows a student-developed procedure with at least one parameter that has an effect on the functionality of the procedure: Create function that adds points to the cars which match with the user's input --> whichever car has the most points will be printed as the best fit match --> works like a graded quiz, kind of\n",
    "\n",
    "2. Show a code segment where the student-develop procedure is being called: show a place where my quiz point adder will be called\n",
    "\n",
    "3. Describes what the identified procedure does and how it contributes to the overall functionality of the program: The procedure essentially finds the car in the list which is the best match for the user. Without the procedure, the program would not be able to find a best fit car for the user\n",
    "\n",
    "### Algorithm Implementation\n",
    "\n",
    "1. Code segment in student-developed procedure shows sequencing, iteration, and selection\n",
    "\n",
    "2. Explain in detail steps how the identified algorithm works in enough detail that someone else could recreate it: explain each step of the algorithm\n",
    "\n",
    "### Testing\n",
    "\n",
    "1. One call to program\n",
    "\n",
    "    - Question: \"What type of car do you prefer\"\n",
    "    - User Input: \"Sedan\"\n",
    "    - Condition: If loop, if user chooses \"sedan,\" add one point to all the variables for cars which are sedans\n",
    "    - Output: The car which is outputted will be a sedan\n",
    "\n",
    "2. Second call to program\n",
    "\n",
    "    - Question: \"What power source do you prefer\"\n",
    "    - User Input: \"Hybrid\"\n",
    "    - Condition: If loop, if user chooses \"hybrid,\" add one point to all the variables for cars which are hybrid\n",
    "    - Output: The car which is outputted will be a hybrid sedan, using both of these calls to come up with the final result\n",
    "\n"
   ]
  }
 ],
 "metadata": {
  "kernelspec": {
   "display_name": "base",
   "language": "python",
   "name": "python3"
  },
  "language_info": {
   "name": "python",
   "version": "3.9.12 (main, Apr  5 2022, 06:56:58) \n[GCC 7.5.0]"
  },
  "orig_nbformat": 4,
  "vscode": {
   "interpreter": {
    "hash": "d4f40b15e6133daba1938c03094ab5050614a1b04d93d14e71faa6c0eef215a6"
   }
  }
 },
 "nbformat": 4,
 "nbformat_minor": 2
}
