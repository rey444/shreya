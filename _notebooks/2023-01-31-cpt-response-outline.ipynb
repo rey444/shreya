{
 "cells": [
  {
   "attachments": {},
   "cell_type": "markdown",
   "metadata": {},
   "source": [
    "# Week 20 CPT Response Outline\n",
    "\n",
    "- title: Week 20 CPT Response Outline\n",
    "- toc: true\n",
    "- branch: master\n",
    "- badges: true\n",
    "- comments: true\n",
    "- categories: [t2]"
   ]
  },
  {
   "attachments": {},
   "cell_type": "markdown",
   "metadata": {},
   "source": [
    "### Program Purpose and Function\n",
    "\n",
    "1. In my video, I will demonstrate filling out the multiple choice questionnaire (input). Once I hit submit, it will show the output, which will be the model name (and possibly an image) of the best fit chevrolet car for the user.\n",
    "\n",
    "2. Written Response:\n",
    "\n",
    "    Function: A questionnarie on a website which recommends a chevrolet vehicle that would best match with a user's transportational needs\n",
    "\n",
    "    Purpose: To help people who are trying to buy a new car find the chevrolet car model which best meets their needs. This helps people save time when they're trying to buy a new car, and also to be prepared when they visit the dealership. \n",
    "\n",
    "    Input: user answering car search tool questionnaire on frontend\n",
    "\n",
    "    Output: car recommendation\n",
    "\n",
    "### Data Abstraction\n",
    "\n",
    "1. Code segment which shows that data is being stored in a list: create array with quiz questions and iterate through them\n",
    "\n",
    "2. Code segment which shows the data in the same list being used as a part of fulfilling the program's purpose: loop through questions --> if user's answer marches with a product's assigned answer --> add one point to that car model\n",
    "\n",
    "3. Identify name of variable representing list being used \n"
   ]
  }
 ],
 "metadata": {
  "kernelspec": {
   "display_name": "base",
   "language": "python",
   "name": "python3"
  },
  "language_info": {
   "name": "python",
   "version": "3.9.12 (main, Apr  5 2022, 06:56:58) \n[GCC 7.5.0]"
  },
  "orig_nbformat": 4,
  "vscode": {
   "interpreter": {
    "hash": "d4f40b15e6133daba1938c03094ab5050614a1b04d93d14e71faa6c0eef215a6"
   }
  }
 },
 "nbformat": 4,
 "nbformat_minor": 2
}
