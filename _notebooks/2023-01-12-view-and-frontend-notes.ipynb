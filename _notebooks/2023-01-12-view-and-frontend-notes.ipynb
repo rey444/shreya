{
 "cells": [
  {
   "attachments": {},
   "cell_type": "markdown",
   "metadata": {},
   "source": [
    "# View and Frontend Coding Notes & Hacks\n",
    "\n",
    "- title: View and Frontend Coding Notes\n",
    "- toc: true\n",
    "- branch: master\n",
    "- badges: true\n",
    "- comments: true\n",
    "- categories: [t2]"
   ]
  },
  {
   "attachments": {},
   "cell_type": "markdown",
   "metadata": {},
   "source": [
    "## Example of CSS Code"
   ]
  },
  {
   "cell_type": "code",
   "execution_count": null,
   "metadata": {
    "vscode": {
     "languageId": "javascript"
    }
   },
   "outputs": [],
   "source": [
    "/* example of CSS code in style.css */\n",
    "\n",
    "@import \"{{ site.theme }}\";\n",
    "\n",
    "/* \"row style\" is flexible size and aligns pictures in center */\n",
    ".row {\n",
    "    align-items: center;\n",
    "    display: flex;\n",
    "  }\n",
    "  \n",
    "  /* \"column style\" is one-third of the width with padding */\n",
    "  .column {\n",
    "    flex: 33.33%; /* creates a row with 3 pictures; 33.3 % of space is taken up by each picture */\n",
    "    padding: 5px;\n",
    "  }"
   ]
  },
  {
   "attachments": {},
   "cell_type": "markdown",
   "metadata": {},
   "source": [
    "## Organization and Design using HTML\n",
    "\n",
    "- If you want a certain style on just one page, you can put the style code at the top of that markdown file\n",
    "- Style/visual design: use SASS files in `assets/css/style.css`\n",
    "- Head and Body: HTML tags used to structure each page\n",
    "    - layout files: `layouts/default.html`\n",
    "    - `_includes`allows you to supplement layout\n",
    "        - ex: `_layouts/home.html` is used to add menu options to pages by including it in`_layouts/default.html`\n",
    "        - more resources in `readme` of theme page\n",
    "- Markdown can get generated into HTML for some files\n",
    "    - ex. jupyter notebook files\n",
    "    - generated files get placed into `.gitignore`\n",
    "    - we don't have to version control\n",
    "    - ex. `_sites` in our CPT project\n",
    "    "
   ]
  },
  {
   "attachments": {},
   "cell_type": "markdown",
   "metadata": {},
   "source": [
    "## CRUD Concepts\n",
    "\n",
    "- Create, Read, Update, Delete\n",
    "- In database projects, we need to build a system for capturing data\n",
    "- Frontend view elements correspond to a Backend database\n",
    "- **Create** new records\n",
    "- **Read** lists\n",
    "- **Update** the data\n",
    "- **Delete** records"
   ]
  },
  {
   "attachments": {},
   "cell_type": "markdown",
   "metadata": {},
   "source": [
    "## Create: Obtaining Inputs\n",
    "\n",
    "- obtain data from the user to store\n",
    "- can use HTML5 tables to organize inputs\n",
    "    - `th` for labels\n",
    "    - `td` for input types\n",
    "    - onclick action"
   ]
  },
  {
   "attachments": {},
   "cell_type": "markdown",
   "metadata": {},
   "source": [
    "### Obtaining Inputs using HTML Table"
   ]
  },
  {
   "cell_type": "code",
   "execution_count": null,
   "metadata": {
    "vscode": {
     "languageId": "html"
    }
   },
   "outputs": [],
   "source": [
    "<table>\n",
    "    <tr>\n",
    "        <th><label for=\"name\">Name</label></th>\n",
    "        <th><label for=\"email\">Email</label></th>\n",
    "        <th><label for=\"password\">Password</label></th>\n",
    "        <th><label for=\"phone\">Phone</label></th>\n",
    "    </tr>\n",
    "    <tr>\n",
    "        <td><input type=\"text\" name=\"name\" id=\"name\" required></td>\n",
    "        <td><input type=\"email\" name=\"email\" id=\"email\" placeholder=\"abc@xyz.org\" required></td>\n",
    "        <td><input type=\"password\" name=\"password\" id=\"password\" required></td>\n",
    "        <td><input type=\"tel\" name=\"phone_num\" id=\"phone_num\"\n",
    "            pattern=\"[0-9]{3}-[0-9]{3}-[0-9]{4}\"\n",
    "            placeholder=\"999-999-9999\"></td>\n",
    "        <td ><button onclick=\"create_User()\">Create</button></td>\n",
    "    </tr>\n",
    "</table>"
   ]
  },
  {
   "attachments": {
    "image.png": {
     "image/png": "[encoded data removed]"
    }
   },
   "cell_type": "markdown",
   "metadata": {},
   "source": [
    "![image.png](attachment:image.png)"
   ]
  },
  {
   "attachments": {},
   "cell_type": "markdown",
   "metadata": {},
   "source": [
    "### Obtaining Inputs using HTML5 Another Way\n",
    "\n",
    "- using `form action=` instead of `onclick=`\n",
    "- `<p>` for labels and input"
   ]
  },
  {
   "cell_type": "code",
   "execution_count": null,
   "metadata": {
    "vscode": {
     "languageId": "html"
    }
   },
   "outputs": [],
   "source": [
    "<form action=\"create_User()\">\n",
    "    <p><label>\n",
    "        Name:\n",
    "        <input type=\"text\" name=\"name\" id=\"name\" required>\n",
    "    </label></p>\n",
    "    <p><label>\n",
    "        User ID:\n",
    "        <input type=\"text\" name=\"uid\" id=\"uid\" required>\n",
    "    </label></p>\n",
    "    <p><label>\n",
    "        Password:\n",
    "        <input type=\"password\" name=\"password\" id=\"password\" required>\n",
    "        Verify Password:\n",
    "        <input type=\"password\" name=\"passwordV\" id=\"passwordV\" required>\n",
    "    </label></p>\n",
    "    <p><label>\n",
    "        Phone:\n",
    "        <input type=\"tel\" name=\"phone_num\" id=\"phone_num\"\n",
    "            pattern=\"[0-9]{3}-[0-9]{3}-[0-9]{4}\"\n",
    "            placeholder=\"999-999-9999\">\n",
    "    </label></p>\n",
    "    <p><label>\n",
    "        Birthday:\n",
    "        <input type=\"date\" name=\"dob\" id=\"dob\">\n",
    "    </label></p>\n",
    "    <p>\n",
    "        <button>Create</button>\n",
    "    </p>\n",
    "</form>"
   ]
  },
  {
   "attachments": {},
   "cell_type": "markdown",
   "metadata": {},
   "source": [
    "## Hacks\n",
    "\n",
    "Add new attributes/variables to the Class. Make class specific to your CPT work.\n",
    "\n",
    "- Add classOf attribute to define year of graduation\n",
    "    - Add setter and getter for classOf\n",
    "- Add dob attribute to define date of birth\n",
    "    - This will require investigation into Python datetime objects as shown in example code below\n",
    "    - Add setter and getter for dob\n",
    "- Add instance variable for age, make sure if dob changes age changes\n",
    "    - Add getter for age, but don't add/allow setter for age\n",
    "- Update and format tester function to work with changes\n",
    "\n",
    "Start a class design for each of your own Full Stack CPT sections of your project\n",
    "\n",
    "- Use new code cell in this notebook\n",
    "- Define init and self attributes\n",
    "- Define setters and getters\n",
    "- Make a tester"
   ]
  },
  {
   "cell_type": "code",
   "execution_count": 1,
   "metadata": {},
   "outputs": [
    {
     "name": "stdout",
     "output_type": "stream",
     "text": [
      "18\n"
     ]
    }
   ],
   "source": [
    "from datetime import date\n",
    "\n",
    "def calculate_age(born):\n",
    "    today = date.today()\n",
    "    return today.year - born.year - ((today.month, today.day) < (born.month, born.day))\n",
    "\n",
    "dob = date(2004, 12, 14)\n",
    "age = calculate_age(dob)\n",
    "print(age)"
   ]
  },
  {
   "cell_type": "code",
   "execution_count": 8,
   "metadata": {},
   "outputs": [
    {
     "name": "stdout",
     "output_type": "stream",
     "text": [
      "JSON ready string:\n",
      " {\"name\": \"Thomas Edison\", \"uid\": \"toby\", \"dob\": \"02-11-1847\", \"age\": 175, \"class of\": \"1872\"} \n",
      "\n",
      "Raw Variables of object:\n",
      " {'_name': 'Thomas Edison', '_uid': 'toby', '_password': 'sha256$GFUWF3ToPQuZWZet$72af6b0d2680dde18cf67ff67ae2ec1c9078d15cf61855e8e431b9fd26b78a25', '_dob': datetime.date(1847, 2, 11), '_classOf': '1872'} \n",
      "\n",
      "Raw Attributes and Methods of object:\n",
      " ['__class__', '__delattr__', '__dict__', '__dir__', '__doc__', '__eq__', '__format__', '__ge__', '__getattribute__', '__gt__', '__hash__', '__init__', '__init_subclass__', '__le__', '__lt__', '__module__', '__ne__', '__new__', '__reduce__', '__reduce_ex__', '__repr__', '__setattr__', '__sizeof__', '__str__', '__subclasshook__', '__weakref__', '_classOf', '_dob', '_name', '_password', '_uid', 'age', 'classOf', 'dictionary', 'dob', 'is_password', 'is_uid', 'name', 'set_password', 'uid'] \n",
      "\n",
      "Representation to Re-Create the object:\n",
      " User(name=Thomas Edison, uid=toby, password=sha256$GFUWF3ToPQuZWZet$72af6b0d2680dde18cf67ff67ae2ec1c9078d15cf61855e8e431b9fd26b78a25, dob=1847-02-11, class of=1872) \n",
      "\n",
      "JSON ready string:\n",
      " {\"name\": \"Shreya Sapkal\", \"uid\": \"rev\", \"dob\": \"01-01-2001\", \"age\": 22, \"class of\": \"2023\"} \n",
      "\n",
      "Raw Variables of object:\n",
      " {'_name': 'Shreya Sapkal', '_uid': 'rev', '_password': 'sha256$6Hoto9Ec0axg0OtI$3b6a72dfe7009519d8e0500ccd6684190e888ee83c8e5b4140358af212aecca0', '_dob': datetime.date(2001, 1, 1), '_classOf': '2023'} \n",
      "\n",
      "Raw Attributes and Methods of object:\n",
      " ['__class__', '__delattr__', '__dict__', '__dir__', '__doc__', '__eq__', '__format__', '__ge__', '__getattribute__', '__gt__', '__hash__', '__init__', '__init_subclass__', '__le__', '__lt__', '__module__', '__ne__', '__new__', '__reduce__', '__reduce_ex__', '__repr__', '__setattr__', '__sizeof__', '__str__', '__subclasshook__', '__weakref__', '_classOf', '_dob', '_name', '_password', '_uid', 'age', 'classOf', 'dictionary', 'dob', 'is_password', 'is_uid', 'name', 'set_password', 'uid'] \n",
      "\n",
      "Representation to Re-Create the object:\n",
      " User(name=Shreya Sapkal, uid=rev, password=sha256$6Hoto9Ec0axg0OtI$3b6a72dfe7009519d8e0500ccd6684190e888ee83c8e5b4140358af212aecca0, dob=2001-01-01, class of=2023) \n",
      "\n"
     ]
    }
   ],
   "source": [
    "from werkzeug.security import generate_password_hash, check_password_hash\n",
    "from datetime import date\n",
    "import json\n",
    "\n",
    "class User:    \n",
    "\n",
    "    def __init__(self, name, uid, password, dob, classOf): # also add classOf up here\n",
    "        self._name = name    # variables with self prefix become part of the object, \n",
    "        self._uid = uid\n",
    "        self.set_password(password)\n",
    "        self._dob = dob\n",
    "        self._classOf = classOf # adding classOf attribute to define year of graduation\n",
    "    \n",
    "    @property\n",
    "    def name(self):\n",
    "        return self._name\n",
    "    \n",
    "    # a setter function, allows name to be updated after initial object creation\n",
    "    @name.setter\n",
    "    def name(self, name):\n",
    "        self._name = name\n",
    "    \n",
    "    # a getter method, extracts email from object\n",
    "    @property\n",
    "    def uid(self):\n",
    "        return self._uid\n",
    "    \n",
    "    # a setter function, allows name to be updated after initial object creation\n",
    "    @uid.setter\n",
    "    def uid(self, uid):\n",
    "        self._uid = uid\n",
    "        \n",
    "    # check if uid parameter matches user id in object, return boolean\n",
    "    def is_uid(self, uid):\n",
    "        return self._uid == uid\n",
    "    \n",
    "    # dob property is returned as string, to avoid unfriendly outcomes\n",
    "    @property\n",
    "    def dob(self):\n",
    "        dob_string = self._dob.strftime('%m-%d-%Y')\n",
    "        return dob_string\n",
    "    \n",
    "    # dob should be have verification for type date\n",
    "    @dob.setter\n",
    "    def dob(self, dob):\n",
    "        self._dob = dob\n",
    "        \n",
    "    # age is calculated and returned each time it is accessed\n",
    "    @property\n",
    "    def age(self):\n",
    "        today = date.today()\n",
    "        return today.year - self._dob.year - ((today.month, today.day) < (self._dob.month, self._dob.day))\n",
    "    \n",
    "    @property\n",
    "    def classOf(self):\n",
    "        return self._classOf\n",
    "    \n",
    "    # add setter function for classOf\n",
    "    @classOf.setter\n",
    "    def classOf(self, classOf):\n",
    "        self._classOf = classOf\n",
    "        \n",
    "    # dictionary is customized, removing password for security purposes\n",
    "    @property\n",
    "    def dictionary(self):\n",
    "        dict = {\n",
    "            \"name\" : self.name,\n",
    "            \"uid\" : self.uid,\n",
    "            \"dob\" : self.dob,\n",
    "            \"age\" : self.age,\n",
    "            \"class of\" : self.classOf # update dictionary by adding classOf\n",
    "        }\n",
    "        return dict\n",
    "    \n",
    "    \n",
    "    # update password, this is conventional setter\n",
    "    def set_password(self, password):\n",
    "        \"\"\"Create a hashed password.\"\"\"\n",
    "        self._password = generate_password_hash(password, method='sha256')\n",
    "\n",
    "    # check password parameter versus stored/encrypted password\n",
    "    def is_password(self, password):\n",
    "        \"\"\"Check against hashed password.\"\"\"\n",
    "        result = check_password_hash(self._password, password)\n",
    "        return result\n",
    "    \n",
    "    # output content using json dumps, this is ready for API response\n",
    "    def __str__(self):\n",
    "        return json.dumps(self.dictionary)\n",
    "    \n",
    "    # output command to recreate the object, uses attribute directly\n",
    "    def __repr__(self):\n",
    "        return f'User(name={self._name}, uid={self._uid}, password={self._password}, dob={self._dob}, class of={self._classOf})' # update by adding classOf\n",
    "    \n",
    "\n",
    "if __name__ == \"__main__\":\n",
    "    u1 = User(name='Thomas Edison', uid='toby', password='123toby', dob=date(1847, 2, 11), classOf='1872')\n",
    "    u2 = User(name='Shreya Sapkal', uid=\"rev\", password='password', dob=date(2001, 1, 1), classOf='2023') # set new user, which is me\n",
    "    \n",
    "    print(\"JSON ready string:\\n\", u1, \"\\n\") \n",
    "    print(\"Raw Variables of object:\\n\", vars(u1), \"\\n\") \n",
    "    print(\"Raw Attributes and Methods of object:\\n\", dir(u1), \"\\n\")\n",
    "    print(\"Representation to Re-Create the object:\\n\", repr(u1), \"\\n\") \n",
    "    \n",
    "    print(\"JSON ready string:\\n\", u2, \"\\n\") # call new user data\n",
    "    print(\"Raw Variables of object:\\n\", vars(u2), \"\\n\") \n",
    "    print(\"Raw Attributes and Methods of object:\\n\", dir(u2), \"\\n\")\n",
    "    print(\"Representation to Re-Create the object:\\n\", repr(u2), \"\\n\") "
   ]
  },
  {
   "attachments": {},
   "cell_type": "markdown",
   "metadata": {},
   "source": [
    "### CPT Connection"
   ]
  },
  {
   "cell_type": "code",
   "execution_count": 9,
   "metadata": {},
   "outputs": [
    {
     "name": "stdout",
     "output_type": "stream",
     "text": [
      "JSON ready string:\n",
      " {\"name\": \"electric\", \"uid\": \"toby\", \"selected car type\": \"electric\"} \n",
      "\n",
      "Raw Variables of object:\n",
      " {'_name': 'Thomas Edison', '_uid': 'toby', '_password': 'sha256$rZsNQtnEOOY3T1bw$047a350a9a4dfdd9fea899573267f93cd867758f0bb99c69e3bd19a1c8de3b0a', '_carType': 'electric'} \n",
      "\n",
      "Raw Attributes and Methods of object:\n",
      " ['__class__', '__delattr__', '__dict__', '__dir__', '__doc__', '__eq__', '__format__', '__ge__', '__getattribute__', '__gt__', '__hash__', '__init__', '__init_subclass__', '__le__', '__lt__', '__module__', '__ne__', '__new__', '__reduce__', '__reduce_ex__', '__repr__', '__setattr__', '__sizeof__', '__str__', '__subclasshook__', '__weakref__', '_carType', '_name', '_password', '_uid', 'carType', 'dictionary', 'is_password', 'is_uid', 'name', 'set_password', 'uid'] \n",
      "\n",
      "Representation to Re-Create the object:\n",
      " User(name=Thomas Edison, uid=toby, password=sha256$rZsNQtnEOOY3T1bw$047a350a9a4dfdd9fea899573267f93cd867758f0bb99c69e3bd19a1c8de3b0a, selected car type=electric) \n",
      "\n",
      "JSON ready string:\n",
      " {\"name\": \"gasoline\", \"uid\": \"rev\", \"selected car type\": \"gasoline\"} \n",
      "\n",
      "Raw Variables of object:\n",
      " {'_name': 'Shreya Sapkal', '_uid': 'rev', '_password': 'sha256$OvRTlynob1ocRlDa$9429e7e095b8c91cd4d1fd0958c84e6d13389cdef19dcb80a577b399abe19740', '_carType': 'gasoline'} \n",
      "\n",
      "Raw Attributes and Methods of object:\n",
      " ['__class__', '__delattr__', '__dict__', '__dir__', '__doc__', '__eq__', '__format__', '__ge__', '__getattribute__', '__gt__', '__hash__', '__init__', '__init_subclass__', '__le__', '__lt__', '__module__', '__ne__', '__new__', '__reduce__', '__reduce_ex__', '__repr__', '__setattr__', '__sizeof__', '__str__', '__subclasshook__', '__weakref__', '_carType', '_name', '_password', '_uid', 'carType', 'dictionary', 'is_password', 'is_uid', 'name', 'set_password', 'uid'] \n",
      "\n",
      "Representation to Re-Create the object:\n",
      " User(name=Shreya Sapkal, uid=rev, password=sha256$OvRTlynob1ocRlDa$9429e7e095b8c91cd4d1fd0958c84e6d13389cdef19dcb80a577b399abe19740, selected car type=gasoline) \n",
      "\n"
     ]
    }
   ],
   "source": [
    "from werkzeug.security import generate_password_hash, check_password_hash\n",
    "from datetime import date\n",
    "import json\n",
    "\n",
    "class User:    \n",
    "\n",
    "    def __init__(self, name, uid, password, carType):\n",
    "        self._name = name    # variables with self prefix become part of the object, \n",
    "        self._uid = uid\n",
    "        self.set_password(password)\n",
    "        self._carType = carType # will store what car type a person chooses (gas vs. electric) so we can show it as stats for site visitors\n",
    "    \n",
    "    @property\n",
    "    def name(self):\n",
    "        return self._name\n",
    "    \n",
    "    # a setter function, allows name to be updated after initial object creation\n",
    "    @name.setter\n",
    "    def name(self, name):\n",
    "        self._name = name\n",
    "    \n",
    "    # a getter method, extracts email from object\n",
    "    @property\n",
    "    def uid(self):\n",
    "        return self._uid\n",
    "    \n",
    "    # a setter function, allows name to be updated after initial object creation\n",
    "    @uid.setter\n",
    "    def uid(self, uid):\n",
    "        self._uid = uid\n",
    "        \n",
    "    # check if uid parameter matches user id in object, return boolean\n",
    "    def is_uid(self, uid):\n",
    "        return self._uid == uid\n",
    "\n",
    "    @property\n",
    "    def carType(self):\n",
    "        return self._carType\n",
    "    \n",
    "    # a setter function, allows classOf to be updated after initial object creation\n",
    "    @carType.setter\n",
    "    def name(self, carType):\n",
    "        self._carType = carType\n",
    "    \n",
    "    # dictionary is customized, removing password for security purposes\n",
    "    @property\n",
    "    def dictionary(self):\n",
    "        dict = {\n",
    "            \"name\" : self.name,\n",
    "            \"uid\" : self.uid,\n",
    "            \"selected car type\" :  self.carType\n",
    "        }\n",
    "        return dict\n",
    "    \n",
    "    # update password, this is conventional setter\n",
    "    def set_password(self, password):\n",
    "        \"\"\"Create a hashed password.\"\"\"\n",
    "        self._password = generate_password_hash(password, method='sha256')\n",
    "\n",
    "    # check password parameter versus stored/encrypted password\n",
    "    def is_password(self, password):\n",
    "        \"\"\"Check against hashed password.\"\"\"\n",
    "        result = check_password_hash(self._password, password)\n",
    "        return result\n",
    "        \n",
    "    \n",
    "    # output content using json dumps, this is ready for API response\n",
    "    def __str__(self):\n",
    "        return json.dumps(self.dictionary)\n",
    "    \n",
    "    # output command to recreate the object, uses attribute directly\n",
    "    def __repr__(self):\n",
    "        return f'User(name={self._name}, uid={self._uid}, password={self._password}, selected car type={self._carType})'\n",
    "    \n",
    "\n",
    "if __name__ == \"__main__\":\n",
    "    u1 = User(name='Thomas Edison', uid='toby', password='123toby', carType='electric')\n",
    "    u2 = User(name='Shreya Sapkal', uid='rev', password='password', carType='gasoline')\n",
    "    \n",
    "    print(\"JSON ready string:\\n\", u1, \"\\n\") \n",
    "    print(\"Raw Variables of object:\\n\", vars(u1), \"\\n\") \n",
    "    print(\"Raw Attributes and Methods of object:\\n\", dir(u1), \"\\n\")\n",
    "    print(\"Representation to Re-Create the object:\\n\", repr(u1), \"\\n\") \n",
    "\n",
    "    print(\"JSON ready string:\\n\", u2, \"\\n\") \n",
    "    print(\"Raw Variables of object:\\n\", vars(u2), \"\\n\") \n",
    "    print(\"Raw Attributes and Methods of object:\\n\", dir(u2), \"\\n\")\n",
    "    print(\"Representation to Re-Create the object:\\n\", repr(u2), \"\\n\") "
   ]
  },
  {
   "attachments": {},
   "cell_type": "markdown",
   "metadata": {},
   "source": [
    "- something I want to add: code segment that counts up how many users chose gasoline for car type and how many chose electric\n",
    "- way to display comparison of how many users have chosen each type"
   ]
  }
 ],
 "metadata": {
  "kernelspec": {
   "display_name": "base",
   "language": "python",
   "name": "python3"
  },
  "language_info": {
   "codemirror_mode": {
    "name": "ipython",
    "version": 3
   },
   "file_extension": ".py",
   "mimetype": "text/x-python",
   "name": "python",
   "nbconvert_exporter": "python",
   "pygments_lexer": "ipython3",
   "version": "3.9.12"
  },
  "orig_nbformat": 4,
  "vscode": {
   "interpreter": {
    "hash": "d4f40b15e6133daba1938c03094ab5050614a1b04d93d14e71faa6c0eef215a6"
   }
  }
 },
 "nbformat": 4,
 "nbformat_minor": 2
}
