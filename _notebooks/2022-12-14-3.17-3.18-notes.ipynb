{
 "cells": [
  {
   "attachments": {},
   "cell_type": "markdown",
   "metadata": {},
   "source": [
    "# 3.17 - 3.18 Notes \n",
    "\n",
    "- title: 3.17 - 3.18 Notes\n",
    "- toc: true\n",
    "- branch: master\n",
    "- badges: true\n",
    "- comments: true\n",
    "- categories: [t2notes]"
   ]
  },
  {
   "attachments": {},
   "cell_type": "markdown",
   "metadata": {},
   "source": [
    "## 3.17: Algorithm Efficiency\n",
    "Purpose:\n",
    "\n",
    "The purpose of this lesson is to help students understand how to make an efficient program and optimize it and understand its importance to the CSP curriculum.\n",
    "\n",
    "### What is Algorithmic Efficiency?\n",
    "- The ability of an algorithm to solve a problem in an efficient way\n",
    " - An efficient algorithm solves a problem quickly and with a minimum amount of resources, such as time and memory.\n",
    "- How do we determine if an algorithm is efficient or not?\n",
    " - One way we can do this is by determining the time complexity of the algorithm.\n",
    " - Another way is through space complexity. \n"
   ]
  },
  {
   "attachments": {},
   "cell_type": "markdown",
   "metadata": {},
   "source": [
    "## Traveling Merchant Problem Hacks:\n",
    "What did you and your team discuss? (record below)\n",
    "\n",
    "\n",
    "- An heuristic solution is an approach to a problem that produces a solution that isn't necessarily optimal but can be used when normal methods take forever \n",
    "\n",
    "Describe the method used to solve the traveling merchant problem. (record below)\n",
    "\n"
   ]
  },
  {
   "attachments": {},
   "cell_type": "markdown",
   "metadata": {},
   "source": [
    "## 3.18: Undecidable Problems\n",
    "Purpose:\n",
    "\n",
    "The purpose of this lesson is to introduce students to the concept of undecidable problems in computer science and to explain why these problems are important.\n",
    "\n",
    "**Key vocabulary**:\n",
    "- Decision problem\n",
    "- Decidable problem\n",
    "- Undecidable problem\n",
    "\n",
    "### Decision Problem\n",
    ">A decision problem is a problem in computer science and mathematics that can be solved by a yes-no answer, also known as a binary answer. In other words, a decision problem is a problem for which there are only two possible outputs: \"yes\" or \"no\".\n",
    "\n",
    "There are two types of decision problems that Collegeboard goes over:\n",
    "- Decidable Problems\n",
    "- Undecidable Problems\n",
    "\n",
    ">A decidable is a problem in computer science and mathematics for which an algorithm can be created that can always produce a correct answer or solution. In other words, a decidable problem is a problem for which there exists an algorithm that can be used to determine whether a given input is a valid solution or not.\n",
    "\n",
    ">An undecidable problem problem is a problem in computer science and mathematics for which it is impossible to create an algorithm that can always provide a correct answer or solution. This means that it is not possible for an algorithm to always determine whether a given input is a valid solution to an undecidable problem."
   ]
  },
  {
   "attachments": {},
   "cell_type": "markdown",
   "metadata": {},
   "source": [
    "## Decidable Problems\n",
    "A decidable problem is an algorithm that can always have an output of `yes` or `no` given any input. It is always correct."
   ]
  },
  {
   "attachments": {},
   "cell_type": "markdown",
   "metadata": {},
   "source": [
    "### Example of a Decidable Problem\n",
    "The procedure below tests to see if a number is divisible by 13. If it is, it returns `true`. If it isn't, it returns `false`."
   ]
  },
  {
   "cell_type": "code",
   "execution_count": 1,
   "metadata": {},
   "outputs": [
    {
     "name": "stdout",
     "output_type": "stream",
     "text": [
      "True\n",
      "False\n"
     ]
    }
   ],
   "source": [
    "def divideThirteen(number):\n",
    "    if number % 13 == 0:\n",
    "        return True\n",
    "    else:\n",
    "        return False\n",
    "\n",
    "print(divideThirteen(26))\n",
    "print(divideThirteen(30))"
   ]
  },
  {
   "attachments": {},
   "cell_type": "markdown",
   "metadata": {},
   "source": [
    "## Undecidable Problems"
   ]
  },
  {
   "attachments": {},
   "cell_type": "markdown",
   "metadata": {},
   "source": [
    "### An Example of a Forever Running Code\n",
    "The code keeps adding `1` to the variable `number` until `number` is no longer an integer(This is not the python data type \"integer\", it's the integer in number theory). However, there is no end to this code, making the computer run forever. There is no halt to the code."
   ]
  },
  {
   "cell_type": "code",
   "execution_count": null,
   "metadata": {},
   "outputs": [],
   "source": [
    "i = 0\n",
    "number = 1\n",
    "def integerTest(n):\n",
    "    # Testing if the number is an integer\n",
    "    if n%1 ==0:\n",
    "        return True\n",
    "    else:\n",
    "        return False\n",
    "# Using while loop to keep searching an a non-integer above 1. Note that the computer runs forever.\n",
    "while i == 0:\n",
    "    number += 1\n",
    "    if integerTest(number) == False:\n",
    "        i +=1\n",
    "        print(\"Done\")"
   ]
  },
  {
   "attachments": {},
   "cell_type": "markdown",
   "metadata": {},
   "source": [
    "### The Halting Problem\n",
    "The halting problem is an example of an undecidable problem. It states that it is not always possible to correctly determine whether a code halts or runs forever.\n",
    "> There is no way to write an algorithm to analyze and determine whether a body of code can run forever or not."
   ]
  },
  {
   "attachments": {},
   "cell_type": "markdown",
   "metadata": {},
   "source": [
    "### Halting Problem Example:\n",
    "- In order to understand this, suppose that an algorithm was able to analyze whether a code halts or not. Let's call this algorithm `HaltChecker`.\n",
    "- `HaltChecker` analyzes the program,`program P`, and its input,`input I`. If `program P` halts with `input I`, `HaltChecker` returns an output of \"halts\". If `program P` doesn't halt(runs forever) with `input I`, `HaltChecker` returns an output of \"never\". For example, in the code where it tests if variable **number**, the code runs forever, so `HaltChecker` returns an output of \"never\".\n",
    "- Then, we add another algorithm called `Reverser` which reverses `HaltChecker`'s output. So, if \"never\" is the output of `HaltChecker`, then the output of `Reverser` is \"halts\". It's also the same the other way around: if `HaltChecker` has an output of \"halts\", then `Reverser` has an output of \"never\".\n",
    "- We combine these algorithms into one entire body of code.\n",
    "- **Since `Reverser` is the algorithm at the end, hence giving the ultimate output, notice how it prints \"never\" when in fact there is an end(As proved by `HaltChecker`), and how it also prints \"halts\" when there is in fact is no end to the code(Also proved by `HaltChecker`). As a result, `HaltChecker` is inaccurate and this is an undecidable problem.**\n",
    "\n",
    "#### This Diagram Sums up the Entire Process in the Bulleted List:\n",
    "![reverser](https://github.com/mmaxwu/Tri2-GroupFastpages/blob/master/images/reverser.png?raw=true)\n",
    "\n",
    "Credits of diagram and example to Khan Academy"
   ]
  },
  {
   "attachments": {},
   "cell_type": "markdown",
   "metadata": {},
   "source": [
    "### FAQ\n",
    "- **Q**: If `Reverser` is causing the problem, why not remove it?\n",
    "- **A**: Removing `Reverser` will remove the problems, however, we are looking for ways which create the problem of not outputting a correct result. One example is enough to prove that it is an undecidable problem since it proves that the code is not completely accurate.\n",
    "\n",
    "### Extra Things to Notice\n",
    "- Note that while a computer may take a long time to run a section of code, it does not mean that the computer is going to run forever.\n",
    "- Humans are able to solve some undecidable problems. The entire Halting Problem example was to prove that computers cannot solve undecidable problems."
   ]
  }
 ],
 "metadata": {
  "kernelspec": {
   "display_name": "Python 3",
   "language": "python",
   "name": "python3"
  },
  "language_info": {
   "codemirror_mode": {
    "name": "ipython",
    "version": 3
   },
   "file_extension": ".py",
   "mimetype": "text/x-python",
   "name": "python",
   "nbconvert_exporter": "python",
   "pygments_lexer": "ipython3",
   "version": "3.8.10 (default, Jun 22 2022, 20:18:18) \n[GCC 9.4.0]"
  },
  "orig_nbformat": 4,
  "vscode": {
   "interpreter": {
    "hash": "916dbcbb3f70747c44a77c7bcd40155683ae19c65e1c03b4aa3499c5328201f1"
   }
  }
 },
 "nbformat": 4,
 "nbformat_minor": 2
}
