{
 "cells": [
  {
   "cell_type": "markdown",
   "metadata": {},
   "source": [
    "# Play Guess My Number!\n",
    "> A simple game using Python.\n",
    "\n",
    "- toc: true\n",
    "- branch: master\n",
    "- badges: true\n",
    "- comments: true\n",
    "- categories: [python]"
   ]
  },
  {
   "cell_type": "markdown",
   "metadata": {},
   "source": [
    "## Hello From Python\n",
    "> A simple line of code written using python."
   ]
  },
  {
   "cell_type": "code",
   "execution_count": 1,
   "metadata": {},
   "outputs": [
    {
     "name": "stdout",
     "output_type": "stream",
     "text": [
      "Hello World\n"
     ]
    }
   ],
   "source": [
    "print(\"Hello World\")"
   ]
  },
  {
   "cell_type": "markdown",
   "metadata": {},
   "source": [
    "## The Game"
   ]
  },
  {
   "cell_type": "code",
   "execution_count": 10,
   "metadata": {},
   "outputs": [
    {
     "name": "stdout",
     "output_type": "stream",
     "text": [
      "Welcome to Guess My Number!\n",
      "Too low!\n",
      "Too low!\n",
      "Too low!\n",
      "Too low!\n",
      "Too low!\n",
      "Too high!\n",
      "Too high!\n",
      "Too low!\n",
      "Too low!\n",
      "Too high!\n",
      "You are correct!\n",
      "You took 11 guesses!\n"
     ]
    }
   ],
   "source": [
    "import random\n",
    "\n",
    "print(\"Welcome to Guess My Number!\")\n",
    "\n",
    "secret_number = random.randint(1,100)\n",
    "num_guesses = 0 \n",
    "\n",
    "while True:\n",
    "    current_guess = int(input(\"What is your guess?\"))\n",
    "    # num_guesses = num_guesses +1\n",
    "    num_guesses += 1\n",
    "    \n",
    "    if current_guess == secret_number: \n",
    "        print(\"You are correct!\")\n",
    "        break\n",
    "    elif current_guess < secret_number:\n",
    "        print(\"Too low!\")\n",
    "    elif current_guess > secret_number:\n",
    "        print(\"Too high!\")\n",
    "\n",
    "print(f\"You took {num_guesses} guesses!\")"
   ]
  },
  {
   "cell_type": "markdown",
   "metadata": {},
   "source": [
    "## How the Game Works"
   ]
  },
  {
   "cell_type": "markdown",
   "metadata": {},
   "source": [
    "> Prompts user: \"What is your guess?\"\n",
    "\n",
    "1. Randomly chooses any number from 0-100\n",
    "2. Prompts user\n",
    "\n",
    "![]({{ site.baseurl }}/images/guess.png)"
   ]
  },
  {
   "cell_type": "markdown",
   "metadata": {},
   "source": [
    "> Based on user response, outputs \"Too high,\" \"Too low,\" or \"You are correct\"\n",
    "\n",
    "![]({{ site.baseurl }}/images/input.png)"
   ]
  }
 ],
 "metadata": {
  "kernelspec": {
   "display_name": "Python 3.8.10 64-bit",
   "language": "python",
   "name": "python3"
  },
  "language_info": {
   "codemirror_mode": {
    "name": "ipython",
    "version": 3
   },
   "file_extension": ".py",
   "mimetype": "text/x-python",
   "name": "python",
   "nbconvert_exporter": "python",
   "pygments_lexer": "ipython3",
   "version": "3.8.10"
  },
  "orig_nbformat": 4,
  "vscode": {
   "interpreter": {
    "hash": "916dbcbb3f70747c44a77c7bcd40155683ae19c65e1c03b4aa3499c5328201f1"
   }
  }
 },
 "nbformat": 4,
 "nbformat_minor": 2
}
