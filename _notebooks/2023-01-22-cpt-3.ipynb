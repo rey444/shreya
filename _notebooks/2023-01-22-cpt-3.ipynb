{
 "cells": [
  {
   "attachments": {},
   "cell_type": "markdown",
   "metadata": {},
   "source": [
    "# CPT Scoring Assignment 3\n",
    "\n",
    "- title: CPT Scoring Assignment 3\n",
    "- toc: true\n",
    "- branch: master\n",
    "- badges: true\n",
    "- comments: true\n",
    "- categories: [t2]"
   ]
  },
  {
   "attachments": {},
   "cell_type": "markdown",
   "metadata": {},
   "source": [
    "| Reporting Category | Student 1 Score: 3/6 | Collegeboard Score: 3/6 | Comments |\n",
    "|-|-|-|-|\n",
    "| Program Purpose and Function | 0 | 1 | <li>video shows input, program functionality, and output</li> <li>describes overall purpose of program</li> <li>describes overall functionality of program, but program has \"hello\" and \"hi\" as inputs, which is different from the written description</li> <li>describes input and output of program, but slightly differently from what's presented in video </li> <li>collegeboard scored 1 for this criteria, stating that the response does match with the functionality shown in the video, because the rock/paper/scissors was present in both the video and the written response</li> |\n",
    "| Data Abstraction | 0 | 0 | <li>has one code segment that shows how data's being stored in a list and identifies the name of the variable representing the list being used in the program</li> <li>second code segment does not show the data in the list being used</li> <li>name of the list (RPS) isn't called in the code</li> <li>identifies what data's stored in the list; the potential options that the computer can select as its input</li> |\n",
    "| Managing Complexity | 1 | 0 | <li>includes a list, but the list isn't used to manage complexity in the program</li> <li>I gave the point because the student explains how the program can be written differently without lists, but collegeboard didn't give them the point because their program can be written without the list using an if statement to set cpuPlay variable based on a random number, and because it reslits in a program that's just as easy to develop or maintain as the one with the list</li> |\n",
    "| Procedural Abstraction | 0 | 0 | <li>shows a student developed procedure with at least one parameter</li> <li>describes the functionality of the procedure, but doesn't explain how the procedure contributes to the overall program</li>  |\n",
    "| Algorithm Implementation | 1 | 1 | <li>student-developed algorithm includes sequencing, selection, and iteration</li> <li>response explains how the algorithm in the procedure works in a way that would allow it to be replicated</li> |\n",
    "| Testing | 1 | 1 | <li>describes two calls to the procedure with different argument, and shows the different results</li> <li>describes the conditions being tested for the two procedure calls, and identifies the results of each call</li> |"
   ]
  },
  {
   "attachments": {},
   "cell_type": "markdown",
   "metadata": {},
   "source": [
    "| Reporting Category | Student 2 Score: 6/6 | Collegeboard Score: 6/6 | Comments |\n",
    "|-|-|-|-|\n",
    "| Program Purpose and Function | 1 | 1 | <li>video shows input, program functionality, and output</li><li>written description program functionality matches what's in the video</li><li>describes the purpose of the program as \"creative expression\"</li><li>describes the input: “The input of both typing words to insert into the poem and a typing of yes or no to set articles or no articles as well as number of desired poems.” </li><li>describes the output: \"generated all reslits in the output of a certain specified number of poems according to those words and specifications\"</li> <li> response describes the exact functionality shown in the video </li> |\n",
    "| Data Abstraction | 1 | 1 | <li>two distinct code segments are provided</li><li>first segment shoes data being stored in identified lists</li><li>nsecond segment shows the data being accessed from the identified lists under a new name since it passed as a parameter: name of the list is identified as nounList, even though it's referred to as wordList when it's passed through the selectWord procedure</li> <li> response identifies what's stores in the list </li> |\n",
    "| Managing Complexity | 1 | 1 | <li>includes code that uses lists of words to manage complexity when generating poetry</li><li>explains how the code wolid be written differently without the list, and how the list helps manage complexity</li> |\n",
    "| Procedural Abstraction | 1 | 1 | <li>includes a student developed procedure with 4 explicit parameters</li><li>describes the functionality of the procedure: \"it is putting together the final selection of poems\" </li><li> describes how the procedure contributes to the overall program by stating it's used in tandem with user inputs</li> |\n",
    "| Algorithm Implementation | 1 | 1 | <li>includes a program code segment of a student-developed algorithm that includes sequencing and selection (if statement), and iteration (while loop)</li><li> expllains how the algorithm in the procedure works in detail</li> |\n",
    "| Testing | 1 | 1 | <li>describes two calls to the selected procedure to reslit in different code being executed, varying the argument for the last parameter</li><li> describes the condition(s) being tested by each call to the procedure</li><li>identifies the reslits of each call</li> |"
   ]
  },
  {
   "attachments": {},
   "cell_type": "markdown",
   "metadata": {},
   "source": [
    "| Reporting Category | Student 3 Score: 2/6 | Collegeboard Score: 1/6 | Comments |\n",
    "|-|-|-|-|\n",
    "| Program Purpose and Function | 1 | 1 | <li>video shows input, program functionality, and output</li><li>written description program functionality matches what's in the video</li><li>describes the purpose of the program, but not its function</li><li>describes the input</li><li>describes the output</li> <li> response describes the exact functionality shown in the video </li> <li> collegeboard scored 0 because the response appparently didn't sufficiently describe the function of the program |\n",
    "| Data Abstraction | 1 | 0 | <li>two distinct code segments are provided</li><li>doesn't show the data being accessed from the identified lists</li> <li> response identifies what's stores in the list </li> |\n",
    "| Managing Complexity | 0 | 0 | <li>includes code that uses lists to manage complexity</li><li>doesn't explain how the code wolud be written differently without the list, and how the list helps manage complexity; response is too general</li> |\n",
    "| Procedural Abstraction | 0 | 0 | <li>includes a student developed procedure with 2 explicit parameters</li><li>does not include another code segment with a call to the procedure </li><li> describes how the procedure contributes to the overall program</li> |\n",
    "| Algorithm Implementation | 0 | 0 | <li>includes a program code segment of a student-developed algorithm that includes sequencing and selection</li><li> does not include iteration</li> <li>partially explains how the algorithm works; doesn't state that the index value is set based on the match and what value is set for each US State</li>|\n",
    "| Testing | 0 | 0 | <li>describes two calls FROM the selected procedure instead of TO the specified procedure</li><li> describes two seperate operations being performed by the user, not the conditions being tested by the given parameter</li><li>does not identifies the reslults of each call</li> |"
   ]
  },
  {
   "attachments": {},
   "cell_type": "markdown",
   "metadata": {},
   "source": [
    "| Reporting Category | Student 4 Score: 6/6 | Collegeboard Score: 5/6 | Comments |\n",
    "|-|-|-|-|\n",
    "| Program Purpose and Function | 1 | 1 | <li>video shows input, program functionality, and output</li><li>written description program functionality matches what's in the video</li><li>describes the purpose of the program and its function</li><li>describes the input</li><li>describes the output</li> <li> response describes the exact functionality shown in the video </li> |\n",
    "| Data Abstraction | 1 | 1 | <li>two distinct code segments are provided</li><li>first segment shoes data being stored in a list named guesses</li><li>second segment doesn't show the data stored in the list being used--only the length of the list is used </li> |\n",
    "| Managing Complexity | 1 | 1 | <li>includes a program code segment that uses a list, but the list isn't used to manage complexity</li> <li> list merely acts as a counter; can be replaced with a single counter variable </li> <li>does not explain how the code wolid be written differently without the list, and how the list helps manage complexity</li> |\n",
    "| Procedural Abstraction | 1 | 1 | <li>includes a student developed procedure with 1 explicit parameter</li><li>includes another code segment with a call to the procedure </li><li> describes the functionality of the procedure, and how the procedure contributes to the overall program</li> |\n",
    "| Algorithm Implementation | 1 | 1 | <li>includes a program code segment of a student-developed algorithm that includes sequencing and selection (if statement), and iteration (a repeat loop)</li><li> explains how the algorithm in the procedure works in detail</li> |\n",
    "| Testing | 1 | 0 | <li>gives the conditions being tested for the cases rather than two different arguments that cause a different segment of the code to execute</li><li> arguments sholid be specific values used in the call to the procedure</li><li>describes the conditions being tested for the cases & what the reslit wolid be for each condition </li> |"
   ]
  },
  {
   "attachments": {},
   "cell_type": "markdown",
   "metadata": {},
   "source": [
    "## Reflection\n",
    "\n",
    "- Sample 2 is a good example, so to save it in my own notes I have linked it below for reference:\n",
    "    - [Video](https://secure-media.collegeboard.org/apc/ap-computer-science-principles-2022-create-performance-task-sample-c-video.mp4)\n",
    "    - [Written Response](https://apcentral.collegeboard.org/media/pdf/ap-computer-science-principles-2022-create-performance-task-sample-c.pdf)\n",
    "    - [CB Grading](https://drive.google.com/file/d/1KNzEy7woRmvGmEE0LPJ24FwDhoyWDU7_/view)\n",
    "\n",
    "**Personal CPT Connection**\n",
    "\n",
    "- In our video, we could demonstrate a user logging in and then answering the questionnaire that helps our program narrow down the best fit chevrolet car for the user\n",
    "- Purpose: to help users find the chevrolet vehicle that would best fit with their transportational needs\n",
    "- Functionality: collecting information for certain attributes and then narrowing down the car model that matches the most of those attributes\n",
    "- input: user answering questionnaire on frontend\n",
    "- output: site telling user which chevrolet vehicle is best fit for them to buy\n",
    "- Data Abstraction\n",
    "    - data stored in api --> called"
   ]
  }
 ],
 "metadata": {
  "kernelspec": {
   "display_name": "base",
   "language": "python",
   "name": "python3"
  },
  "language_info": {
   "name": "python",
   "version": "3.9.12 (main, Apr  5 2022, 06:56:58) \n[GCC 7.5.0]"
  },
  "orig_nbformat": 4,
  "vscode": {
   "interpreter": {
    "hash": "d4f40b15e6133daba1938c03094ab5050614a1b04d93d14e71faa6c0eef215a6"
   }
  }
 },
 "nbformat": 4,
 "nbformat_minor": 2
}
