{
 "cells": [
  {
   "attachments": {},
   "cell_type": "markdown",
   "metadata": {},
   "source": [
    "# 3.9 & 3.11 Hacks\n",
    "\n",
    "- title: 3.9 & 3.11 Hacks\n",
    "- toc: true\n",
    "- branch: master\n",
    "- badges: true\n",
    "- comments: true\n",
    "- categories: [t2hacks]"
   ]
  },
  {
   "attachments": {},
   "cell_type": "markdown",
   "metadata": {},
   "source": [
    "## 3.9: Algorithms & Flowcharts Hacks"
   ]
  },
  {
   "attachments": {},
   "cell_type": "markdown",
   "metadata": {},
   "source": [
    "Consider this situation:\n",
    "\n",
    "- You're playing a short game using a random number generator from 1 to 20\n",
    "\n",
    "- On each turn, a player will generate 3 random numbers\n",
    "\n",
    "- They get to keep the highest number that they generate as their score\n",
    "\n",
    "Your TASK:\n",
    "\n",
    "1. Create a flowchart that can be used to write an algorithm that calculates a player's score after a turn\n",
    "\n",
    "    - NOTE: Don't forget the syntax for Flowcharts! (each shape represents an action)\n",
    "\n",
    "    - Try to implement selection and/or iteration in your algorithm\n",
    "\n",
    "    - Please do this using Google Drawing. It can be found in your Google Drive if you click New > More > Google Drawings\n",
    "\n",
    "2. Write the working algorithm in Python\n",
    "\n",
    "    - Make sure to initialize / define any variables you may need\n",
    "\n",
    "    - Add comments to your code!"
   ]
  },
  {
   "attachments": {},
   "cell_type": "markdown",
   "metadata": {},
   "source": [
    "### [Link to my Flowchart](https://docs.google.com/drawings/d/1y4Ei-VwGvR2APROtu3bDKsvCfOti6hX0b7YotQHz3_Q/edit?usp=sharing)"
   ]
  },
  {
   "cell_type": "code",
   "execution_count": 19,
   "metadata": {},
   "outputs": [
    {
     "name": "stdout",
     "output_type": "stream",
     "text": [
      "Your random numbers are 19, 2, and 14. Your score is equivalent to your highest number: 19\n"
     ]
    }
   ],
   "source": [
    "# My Random Number Generator Game Algorithm\n",
    "\n",
    "import random # import random numbers\n",
    "\n",
    "numList = [] # create an empty list to be filled with the randomly generated numbers\n",
    "score = 0 # create a variable score, and set it equal to 0\n",
    "\n",
    "number1, number2, number3 = random.sample(range(1,20), 3) # take a random sample of 3 numbers out of a range of 1-20, and set each of those 3 numbers equal to one of the 3 variables\n",
    "numList.extend([str(number1), str(number2), str(number3)]) # use the 3 variables assigned to the 3 randomly generated numbers to fill the once empty list numList\n",
    "\n",
    "for i in numList: # iterate through numList\n",
    "    score = (max(map(int, numList))) # search for the highest number in numList, and once it is found assign it to the variable \"score\"\n",
    "\n",
    "print(\"Your random numbers are \" + str(number1) + \", \" + str(number2) + \", and \" + str(number3) + \". Your score is equivalent to your highest number: \" + str(score)) # print the list of 3 random numbers and indicate the score)\n"
   ]
  },
  {
   "attachments": {},
   "cell_type": "markdown",
   "metadata": {},
   "source": [
    "## 3.11: Binary Search Hacks\n",
    "\n",
    "Using my example above and steps below, create your own iteration using binary search\n",
    "\n",
    "Steps\n",
    "\n",
    "1. Compare x with the middle element.\n",
    "2. If x matches with the middle element, we return the mid index.\n",
    "3. Else if x is greater than the mid element, then x can only lie in the right (greater) half subarray after the mid element. Then we apply the algorithm again for the right half.\n",
    "4. Else if x is smaller, the target x must lie in the left (lower) half. So we apply the algorithm for the left half."
   ]
  },
  {
   "cell_type": "code",
   "execution_count": 6,
   "metadata": {},
   "outputs": [
    {
     "name": "stdout",
     "output_type": "stream",
     "text": [
      "Found at position :  5\n"
     ]
    }
   ],
   "source": [
    "def binarySearch(array, x):\n",
    "    low = 0 # define low as 0\n",
    "    high = len(array)-1 # define high as the length of the array -1\n",
    "    mid = 0 # define middle as 0\n",
    "\n",
    "    if low <= high: # if low is less than high\n",
    "        mid = (low + high) // 2 # find the middle (taking the highest index number plus the lowest and divided by two)\n",
    "        \n",
    "        if x == array[mid]: # if x is equal to the middle element, return it\n",
    "            return mid\n",
    "        elif x < array[mid]: # if x is lower than the middle element, make \"high\" the left of the middle to search the lower half\n",
    "            high = mid - 1\n",
    "            return high\n",
    "        else:\n",
    "            low = mid + 1 # if x is  smaller than the middle element, check to the right of the middle element\n",
    "            return low\n",
    "    else:\n",
    "        return -1 \n",
    "\n",
    "array = [1,2,3,4,5,6,7,8,9,10,11] # 6 is at position 5\n",
    "x = 6\n",
    "\n",
    "result = binarySearch(array, x)\n",
    "\n",
    "if result != -1:\n",
    "    print(\"Found at position : \",str(result))\n",
    "else:\n",
    "    print(\"Not found, try again\")\n",
    "\n"
   ]
  }
 ],
 "metadata": {
  "kernelspec": {
   "display_name": "base",
   "language": "python",
   "name": "python3"
  },
  "language_info": {
   "codemirror_mode": {
    "name": "ipython",
    "version": 3
   },
   "file_extension": ".py",
   "mimetype": "text/x-python",
   "name": "python",
   "nbconvert_exporter": "python",
   "pygments_lexer": "ipython3",
   "version": "3.9.12"
  },
  "orig_nbformat": 4,
  "vscode": {
   "interpreter": {
    "hash": "d4f40b15e6133daba1938c03094ab5050614a1b04d93d14e71faa6c0eef215a6"
   }
  }
 },
 "nbformat": 4,
 "nbformat_minor": 2
}
