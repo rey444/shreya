{
 "cells": [
  {
   "cell_type": "markdown",
   "metadata": {},
   "source": [
    "# 3.9 & 3.11 Notes \n",
    "\n",
    "- title: 3.9 & 3.11 Notes\n",
    "- toc: true\n",
    "- branch: master\n",
    "- badges: true\n",
    "- comments: true\n",
    "- categories: [t2notes]"
   ]
  },
  {
   "cell_type": "markdown",
   "metadata": {},
   "source": [
    "## Vocab\n",
    "\n",
    "- algorithms: a process of set of rules to be followed through code\n",
    "- flowcharts: help us visualize the functionality of an algorithm\n",
    "- binary Search Algorithm: a search algorithm that finds the position of a target value within a sorted array"
   ]
  },
  {
   "cell_type": "markdown",
   "metadata": {},
   "source": [
    "## Algorithms\n",
    "\n",
    "- An algorithm is a process or set of rules to be followed through CODE\n",
    "- Set limitations\n",
    "- can be written in different ways and still accomplish the same tasks\n",
    "- Algorithms that appear similar can yield different side effects or results.\n",
    "- Some conditional statements can be written as the same as Boolean expressions (VICE VERSA)\n",
    "- Different algorithms can be developed or use to solve the same problem"
   ]
  },
  {
   "cell_type": "code",
   "execution_count": 4,
   "metadata": {},
   "outputs": [
    {
     "name": "stdout",
     "output_type": "stream",
     "text": [
      "It's too hot outside!\n"
     ]
    }
   ],
   "source": [
    "temp = int(input(\"Select a temperature from 0 to 99 degrees F\"))\n",
    "if (temp >= 90):\n",
    "    print(\"It's too hot outside!\")\n",
    "else:\n",
    "    if (temp >= 65):\n",
    "        print(\"Sure I will play outside!\")\n",
    "    else: \n",
    "        print(\"It is too cold outside!\")\n",
    "# Input 54 and then 95, what do you notice?\n",
    "# when I inputted 54, the output was \"It is too cold outside!\"\n",
    "# when I inputted 95, the output was \"It is too hot outside!\""
   ]
  },
  {
   "cell_type": "code",
   "execution_count": 6,
   "metadata": {},
   "outputs": [
    {
     "name": "stdout",
     "output_type": "stream",
     "text": [
      "It's too hot outside!\n",
      "Sure I will play outside!\n"
     ]
    }
   ],
   "source": [
    "temp = int(input(\"Select a temperature from 0 to 99 degrees F\"))\n",
    "if (temp >= 90):\n",
    "    print(\"It's too hot outside!\")\n",
    "if (temp >= 65):\n",
    "    print(\"Sure I will play outside!\")\n",
    "if (temp < 65):\n",
    "    print(\"It is too cold outside!\")\n",
    "    # Input 54 and then Input 95, what do you notice?\n",
    "# # when I inputted 54, the output was \"It is too cold outside!\"\n",
    "# when I inputted 95, the output was \"It is too hot outside!\" AND \"Sure I will play outside!\""
   ]
  },
  {
   "cell_type": "markdown",
   "metadata": {},
   "source": [
    "## Conditionals vs. Booleans"
   ]
  },
  {
   "cell_type": "markdown",
   "metadata": {},
   "source": [
    "**First Block**"
   ]
  },
  {
   "cell_type": "code",
   "execution_count": 7,
   "metadata": {},
   "outputs": [
    {
     "name": "stdout",
     "output_type": "stream",
     "text": [
      "25\n"
     ]
    }
   ],
   "source": [
    "sum = 1\n",
    "counter = 3\n",
    "#iteration\n",
    "var = 0 \n",
    "while (var < 4): #while the var is <= 4, it executes those commands, once it exceeds it hits the else command\n",
    "    sum = sum + counter\n",
    "    counter = counter + 2\n",
    "    var = var + 1\n",
    "    # now go through the whole thing 4 times, this is an iteration, a vital part of algorithms.\n",
    "else:\n",
    "    print(sum)"
   ]
  },
  {
   "cell_type": "markdown",
   "metadata": {},
   "source": [
    "**Second Block**"
   ]
  },
  {
   "cell_type": "code",
   "execution_count": 8,
   "metadata": {},
   "outputs": [
    {
     "name": "stdout",
     "output_type": "stream",
     "text": [
      "25\n"
     ]
    }
   ],
   "source": [
    "sum = 0\n",
    "counter = 9\n",
    "#iteration\n",
    "while (counter >= 1): \n",
    "    sum = sum + counter\n",
    "    counter = counter - 2\n",
    "print(sum)"
   ]
  },
  {
   "cell_type": "markdown",
   "metadata": {},
   "source": [
    "## Flowcharts\n",
    "\n",
    "- help us visualize the functionality of an algorithm\n",
    "- good way to double check whether or not the algorithm is achieving its purpose\n",
    "\n",
    "### How to Set up a Flowchart\n",
    "\n",
    "1. label the start point\n",
    "\n",
    "2. Define any and all variables you may need\n",
    "\n",
    "3. Consider the first question you want the algorithm to ask\n",
    "\n",
    "4. Write what you want the algorithm to do if the answer to that question is yes (or true)\n",
    "\n",
    "5. Write what you want the algorithm to do if the answer to that question is no (or false)\n",
    "\n",
    "> Steps 3-5 are the steps to creating code that uses a process called selection (you can convert the question from step 3 to a conditional if-statement in code)\n",
    "\n",
    "6. Write out all necessary steps for the algorithm to function properly\n",
    "\n",
    "7. You may want your algorithm to iterate some steps until a condition is met\n",
    "\n",
    "> You can write the steps that need to be repeated, then draw an arrow from the last step to a step above that contains a conditional statement\n",
    "\n",
    "8. Determine a way to reach the end goal\n",
    "\n",
    "### Selection vs. Iteration\n",
    "\n",
    "**Selection**\n",
    "\n",
    "- A process used in algorithms where a conditional if-statement leads to one of two outcomes\n",
    "    - Outcome 1: if the conditional statement is true, something will happen\n",
    "    - Outcome 2: if the conditional statement is false, something else will happen\n",
    "\n",
    "**Iteration**\n",
    "\n",
    "- A process used in algorithms that allows certain things to happen until a condition is satisfied\n",
    "    - Once the condition is satisfied, then an outcome is produced\n",
    "    - This can take the form of a for-loop, while-loop, and/or if-statement"
   ]
  },
  {
   "cell_type": "markdown",
   "metadata": {},
   "source": [
    "## Combining Algorithms\n",
    "\n",
    "> benefit of combining algorithms: can reduce development time, testing time, and simplify the identification of errors\n",
    "\n",
    "### Rules of Collatz Conjecture\n",
    "\n",
    "1. start with any positive integer\n",
    "2. if the preceding term is even; divide by 2\n",
    "3. if the preceding term is odd; multiply by 3 and add 1\n",
    "4. repeat steps until you arrive at 1\n",
    "5. the sequence should ALWAYS end up at 1 if repeated."
   ]
  },
  {
   "cell_type": "markdown",
   "metadata": {},
   "source": [
    "**Algorithm to Start (Determining Whether a Number is Even or Odd)**"
   ]
  },
  {
   "cell_type": "code",
   "execution_count": 10,
   "metadata": {},
   "outputs": [
    {
     "name": "stdout",
     "output_type": "stream",
     "text": [
      "choose value for x\n",
      "the number is odd\n"
     ]
    }
   ],
   "source": [
    "print(\"choose value for x\")\n",
    "\n",
    "varx=int(input(\"Enter any positive Integer\"))\n",
    "\n",
    "if (varx %2 == 0):\n",
    "    print(\"the number is even\")\n",
    "\n",
    "else:\n",
    "    print(\"the number is odd\")\n",
    "# Run this cell to see how it works"
   ]
  },
  {
   "cell_type": "markdown",
   "metadata": {},
   "source": [
    "## Binary Search Algorithm\n",
    "\n",
    "- a search algorithm that finds the position of a target value within a sorted array\n",
    "- compares the target value to the middle element of the array.\n",
    "- algorithm for iterating to find a value inside a data set\n",
    "- starts in the middle of a data set of numbers and eliminates half the data. This process repeats until the desired value is found or until all elements have been eliminated\n",
    "- In order to use binary search effectively and properly, data must be stored in order\n",
    "- must set numbers in an increasing or decreasing order"
   ]
  },
  {
   "cell_type": "markdown",
   "metadata": {},
   "source": [
    "### How Binary Search Works\n",
    "\n",
    "*Binary Search finds the desired element by continuously chopping the search area in half*\n",
    "\n",
    "**Example**\n",
    "\n",
    "[a b c d e f g h] , we are looking for the element `f`\n",
    "\n",
    "1. start in the middle at element `d`\n",
    "2. our target element is greater than `d`, so we will eliminate everything to the left of `d` including `d`\n",
    "\n",
    "`[a b c d e f g h]` --> `[e f g h]`\n",
    "\n",
    "3. chop in half again, and when we iterate through we'll have to eliminate `g` and `h`\n",
    "4. eliminate `g` and `h`\n",
    "\n",
    "`[e f g h]` --> `[e f]`\n",
    "\n",
    "5. chop in half again to get the desired element\n",
    "\n",
    "`[e f]` --> `[f]`"
   ]
  },
  {
   "cell_type": "markdown",
   "metadata": {},
   "source": [
    "### binary_search() Function\n",
    "\n",
    "- Made up of 2 arguments:\n",
    "    - A list to be sorted\n",
    "    - A number to be searched"
   ]
  },
  {
   "cell_type": "code",
   "execution_count": 11,
   "metadata": {},
   "outputs": [
    {
     "name": "stdout",
     "output_type": "stream",
     "text": [
      "Element is present at index 1\n"
     ]
    }
   ],
   "source": [
    "def BinarySearch(array, x, low, high):\n",
    "\n",
    "    # Repeat until the pointers low and high meet each other \n",
    "    while low <= high:\n",
    "\n",
    "        mid = low + (high - low)//2 # find the middle (taking the higest index number plus the lowest and divided by two)\n",
    "\n",
    "        if array[mid] == x: # if desired number is the middle is found return desired number (middle number) \n",
    "            return mid\n",
    "\n",
    "        elif array[mid] < x: \n",
    "            low = mid + 1\n",
    "\n",
    "        else:\n",
    "            high = mid - 1\n",
    "\n",
    "    return -1\n",
    "\n",
    "\n",
    "array = [3, 4, 5, 6, 7, 8, 9]\n",
    "x = 4\n",
    "\n",
    "result = BinarySearch(array, x, 0, len(array)-1)\n",
    "\n",
    "if result != -1:\n",
    "    print(\"Element is present at index \" + str(result))\n",
    "else:\n",
    "    print(\"Not found\")"
   ]
  }
 ],
 "metadata": {
  "kernelspec": {
   "display_name": "Python 3.9.12 ('base')",
   "language": "python",
   "name": "python3"
  },
  "language_info": {
   "codemirror_mode": {
    "name": "ipython",
    "version": 3
   },
   "file_extension": ".py",
   "mimetype": "text/x-python",
   "name": "python",
   "nbconvert_exporter": "python",
   "pygments_lexer": "ipython3",
   "version": "3.9.12"
  },
  "orig_nbformat": 4,
  "vscode": {
   "interpreter": {
    "hash": "d4f40b15e6133daba1938c03094ab5050614a1b04d93d14e71faa6c0eef215a6"
   }
  }
 },
 "nbformat": 4,
 "nbformat_minor": 2
}
