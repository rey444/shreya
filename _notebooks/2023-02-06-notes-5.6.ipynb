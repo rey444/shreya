{
 "cells": [
  {
   "attachments": {},
   "cell_type": "markdown",
   "metadata": {},
   "source": [
    "# Big Idea 5.6 Safe Computing\n",
    "\n",
    "- title: Big Idea 5.6 Safe Computing\n",
    "- toc: true\n",
    "- branch: master\n",
    "- badges: true\n",
    "- comments: true\n",
    "- categories: [t2]"
   ]
  },
  {
   "attachments": {},
   "cell_type": "markdown",
   "metadata": {},
   "source": [
    "### 5.6 Hacks Questions\n",
    "\n",
    "**1. Describe PII you have seen on project in CompSci Principles.**\n",
    "\n",
    "A Personal Identifiable Information is an \"about me\" page, as well as links to my YouTube channel and github profile.\n",
    "\n",
    "**2. What are your feelings about PII and your exposure?**\n",
    "\n",
    "I think that sites that release PII about everyone (like address, state/cite of residence, email/contact info) are kind of creepy, and I know that I am vulnerable to being on those sites.\n",
    "\n",
    "**3. Describe good and bad passwords? What is another step that is used to assist in authentication.**\n",
    "\n",
    "Good passwords are passwords that are unlikely to be guessed by others and use a variety of words, capitalizations, numbers, and symbols. Biometrics also make great passwords. Another step that's used to assist in authentication is two-factor authentication that has been texted or emailed to you directly every time a log-in attempt is made.\n",
    "\n",
    "**4. Try to describe Symmetric and Asymmetric encryption.**\n",
    "\n",
    "- symmetric = only one type of key is used to both encrypt and decrypt electronically stored info\n",
    "- asymmetric = uses a pair of related keys – one public key and one private key – to encrypt and decrypt a message and protect it from unauthorized access or use\n",
    "    - I think my personal fastpages repo uses an asymmetric key\n",
    "\n",
    "**5. Provide and example of encryption we used in deployment.**\n",
    "\n",
    "We used a public key and private key to activate our fastpages repositories when we first created them.\n",
    "\n",
    "**6. Describe a phishing scheme you have learned about the hard way. Describe some other phishing techniques.**\n",
    "\n",
    "I heard of a family member getting phished through an email from \"PayPal\" which asked them for all their personal information, including their social security number. Another phishing technique is sending emails or text messages with links that ask you to claim something, but when you click them, they start adding a virus to the device or attempt to steal your PII."
   ]
  }
 ],
 "metadata": {
  "kernelspec": {
   "display_name": "base",
   "language": "python",
   "name": "python3"
  },
  "language_info": {
   "name": "python",
   "version": "3.9.12"
  },
  "orig_nbformat": 4,
  "vscode": {
   "interpreter": {
    "hash": "d4f40b15e6133daba1938c03094ab5050614a1b04d93d14e71faa6c0eef215a6"
   }
  }
 },
 "nbformat": 4,
 "nbformat_minor": 2
}
