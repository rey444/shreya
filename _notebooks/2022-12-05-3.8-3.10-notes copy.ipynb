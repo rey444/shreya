{
 "cells": [
  {
   "cell_type": "markdown",
   "metadata": {},
   "source": [
    "# 3.8 - 3.10 Notes \n",
    "\n",
    "- title: 3.8 - 3.10 Notes\n",
    "- toc: true\n",
    "- branch: master\n",
    "- badges: true\n",
    "- comments: true\n",
    "- categories: [t2notes]"
   ]
  },
  {
   "cell_type": "markdown",
   "metadata": {},
   "source": [
    "# Lists\n",
    "## What are lists?\n",
    "Lists: a sequence of variables\n",
    "- we can use lists to store multiple items into one variable\n",
    "- used to store collections of data\n",
    "- changeable, ordered, allow duplicates"
   ]
  },
  {
   "cell_type": "markdown",
   "metadata": {},
   "source": [
    "### List examples in Python, JavaScript, and Pseudocode."
   ]
  },
  {
   "cell_type": "code",
   "execution_count": null,
   "metadata": {},
   "outputs": [],
   "source": [
    "fruits = [\"apple\", \"grape\", \"strawberry\"]\n",
    "print (fruits)"
   ]
  },
  {
   "cell_type": "code",
   "execution_count": null,
   "metadata": {
    "vscode": {
     "languageId": "javascript"
    }
   },
   "outputs": [],
   "source": [
    "const fruits = [\"apple\", \"grape\", \"strawberry\"];"
   ]
  },
  {
   "cell_type": "code",
   "execution_count": null,
   "metadata": {},
   "outputs": [],
   "source": [
    "fruits ← [apple, grape, strawberry]"
   ]
  },
  {
   "cell_type": "markdown",
   "metadata": {},
   "source": [
    "### More list examples"
   ]
  },
  {
   "cell_type": "code",
   "execution_count": 1,
   "metadata": {},
   "outputs": [],
   "source": [
    "brands = [\"nike\", \"adidas\", \"underarmour\"] #string\n",
    "numbers = [1, 2, 3, 4, 5] #integer\n",
    "truefalse = [True, False, True] #boolean\n"
   ]
  },
  {
   "cell_type": "markdown",
   "metadata": {},
   "source": [
    "### 4 Data Collection Types in Python\n",
    "\n",
    "- List: collection that is changeable, ordered, allows duplicates, used to store multiple items into one variable\n",
    "- Tuple: collection that is ordered, unchangeable, allows duplicates\n",
    "- Set: collection that is unordered, unchangeable, doesn't allow duplicates\n",
    "- Dictionary: collection that is ordered, changeable, doesn't allow duplicates"
   ]
  },
  {
   "cell_type": "markdown",
   "metadata": {},
   "source": [
    "### Terms\n",
    "- Index: a term used to sort data in order to reference to an element in a list (allows for duplicates)\n",
    "- Elements: the values in the list assigned to an index"
   ]
  },
  {
   "cell_type": "code",
   "execution_count": 1,
   "metadata": {},
   "outputs": [
    {
     "name": "stdout",
     "output_type": "stream",
     "text": [
      "grape\n"
     ]
    }
   ],
   "source": [
    "fruits = [\"apple\", \"grape\", \"strawberry\"]\n",
    "index = 1\n",
    "\n",
    "print (fruits[index]) # should print grape; index starts from 0"
   ]
  },
  {
   "cell_type": "markdown",
   "metadata": {},
   "source": [
    "## Methods in Lists\n",
    "\n",
    "| Method | Definition | Example |\n",
    "|-|-|-|\n",
    "| append() | <li>adds element to the end of the list</li> <li>used when you want to expand the list with more data</li> | fruits.append(\"watermelon\") |\n",
    "| index() | returns the index of the first element with the specified value | fruits.index(\"apple\") |\n",
    "| insert() | adds element at given position | fruits.insert(1, \"watermelon\")|\n",
    "| remove() | removes the first item with the specified value | fruits.remove(\"strawberry\") |\n",
    "| reverse() | reverses the list order | fruits.reverse() |\n",
    "| sort() | sorts the list | fruits.sort() |\n",
    "| count() | returns the amount of elements with the specified value | fruits.count(\"apple\") |\n",
    "| copy() | returns a copy of the list | fruits.copy() |\n",
    "| clear() | removes the elements from the list | fruits.clear() |"
   ]
  },
  {
   "cell_type": "code",
   "execution_count": 5,
   "metadata": {},
   "outputs": [
    {
     "name": "stdout",
     "output_type": "stream",
     "text": [
      "['football', 'hockey', 'baseball', 'basketball']\n"
     ]
    }
   ],
   "source": [
    "sports = [\"football\", \"soccer\", \"baseball\", \"basketball\"]\n",
    "\n",
    "# change the value \"soccer\" to \"hockey\"\n",
    "\n",
    "sports.insert(1, \"hockey\") # first, insert hockey as the first element in the list\n",
    "sports.remove(\"soccer\") # then, take out soccer\n",
    "print (sports)\n"
   ]
  },
  {
   "cell_type": "code",
   "execution_count": 6,
   "metadata": {},
   "outputs": [
    {
     "name": "stdout",
     "output_type": "stream",
     "text": [
      "['football', 'soccer', 'baseball', 'golf', 'basketball']\n"
     ]
    }
   ],
   "source": [
    "sports = [\"football\", \"soccer\", \"baseball\", \"basketball\"]\n",
    "\n",
    "# add \"golf\" as the 3rd element in the list\n",
    "\n",
    "sports.insert(3, \"golf\") # use the sports.insert command and indicate what index value (3) we want to add golf at\n",
    "print (sports)"
   ]
  },
  {
   "cell_type": "markdown",
   "metadata": {},
   "source": [
    "### Try this\n",
    "- Determine the output of the code segment\n",
    "\n",
    "**Output**\n",
    "\n",
    "- unusual\n",
    "- bold\n",
    "- away\n",
    "- prints these 3 values, because they have a length that is greater than 3 letters\n",
    "\n",
    "![pic](../images/sudocode.png)"
   ]
  },
  {
   "cell_type": "markdown",
   "metadata": {},
   "source": [
    "## Iteration"
   ]
  },
  {
   "cell_type": "markdown",
   "metadata": {},
   "source": [
    "## First, what not to do\n",
    "> Iteration is important for your time and sanity"
   ]
  },
  {
   "cell_type": "code",
   "execution_count": 1,
   "metadata": {},
   "outputs": [
    {
     "name": "stdout",
     "output_type": "stream",
     "text": [
      "alpha\n",
      "bravo\n",
      "charlie\n",
      "delta\n",
      "echo\n",
      "foxtrot\n",
      "golf\n",
      "hotel\n",
      "india\n",
      "juliett\n",
      "kilo\n",
      "lima\n",
      "mike\n",
      "november\n",
      "oscar\n",
      "papa\n",
      "quebec\n",
      "romeo\n",
      "sierra\n",
      "tango\n",
      "uniform\n",
      "victor\n",
      "whiskey\n",
      "x-ray\n",
      "yankee\n",
      "zulu\n"
     ]
    }
   ],
   "source": [
    "print(\"alpha\")\n",
    "print(\"bravo\")\n",
    "print(\"charlie\")\n",
    "print(\"delta\")\n",
    "print(\"echo\")\n",
    "print(\"foxtrot\")\n",
    "print(\"golf\")\n",
    "print(\"hotel\")\n",
    "print(\"india\")\n",
    "print(\"juliett\")\n",
    "print(\"kilo\")\n",
    "print(\"lima\")\n",
    "print(\"mike\")\n",
    "print(\"november\")\n",
    "print(\"oscar\")\n",
    "print(\"papa\")\n",
    "print(\"quebec\")\n",
    "print(\"romeo\")\n",
    "print(\"sierra\")\n",
    "print(\"tango\")\n",
    "print(\"uniform\")\n",
    "print(\"victor\")\n",
    "print(\"whiskey\")\n",
    "print(\"x-ray\")\n",
    "print(\"yankee\")\n",
    "print(\"zulu\")\n",
    "#please help me "
   ]
  },
  {
   "cell_type": "markdown",
   "metadata": {},
   "source": [
    ">Coding all of these individually takes a lot of unnecessary time, how can we shorten this time?"
   ]
  },
  {
   "cell_type": "markdown",
   "metadata": {},
   "source": [
    "## Iteration\n",
    "\n",
    "- Iteration is the repetition of a process or utterance applied to the result or taken from a previous statement.\n",
    "\n",
    "### Types of Iteration\n",
    "\n",
    "- for loop\n",
    "- for loop and range ()\n",
    "- while loop\n",
    "- comprehension\n",
    "\n",
    "### Iterable Objects\n",
    "\n",
    "> Iterable objects are objects that can be iterated. They are the 'containers' that store the data to be iterated\n",
    "\n",
    "- lists\n",
    "- tuples\n",
    "- dictionaries\n",
    "- sets\n",
    "\n",
    "> use `iter()` command to iterate these containers"
   ]
  },
  {
   "cell_type": "markdown",
   "metadata": {},
   "source": [
    "### 2 Types of Iteration\n",
    "\n",
    "- **Definite:** clarifies how many times the loop is going to run\n",
    "- **Indefinite:** specifies a condition that must be met"
   ]
  },
  {
   "cell_type": "code",
   "execution_count": null,
   "metadata": {},
   "outputs": [],
   "source": [
    "# An example of a for loop\n",
    "\n",
    "for variable in iterable: \n",
    "    statement()"
   ]
  },
  {
   "cell_type": "markdown",
   "metadata": {},
   "source": [
    "### Iterable vs. Iterator \n",
    "- When an object is iterable it can be used in an iteration \n",
    "- When passed through the function iter() it returns an iterator "
   ]
  },
  {
   "cell_type": "code",
   "execution_count": 6,
   "metadata": {},
   "outputs": [
    {
     "name": "stdout",
     "output_type": "stream",
     "text": [
      "alpha\n",
      "bravo\n",
      "charlie\n"
     ]
    }
   ],
   "source": [
    "# Using an example of iter()\n",
    "# iter() is used to iterate manually, one at a time\n",
    "\n",
    "a = ['alpha', 'bravo', 'charlie']\n",
    "\n",
    "itr = iter(a)\n",
    "print(next(itr))\n",
    "print(next(itr))\n",
    "print(next(itr))\n",
    "\n"
   ]
  },
  {
   "cell_type": "markdown",
   "metadata": {},
   "source": [
    "### Loops \n",
    "\n",
    "> Loops allow u to take the iterators and make them useful\n",
    "- Loops take essentially what we did above and automate it"
   ]
  },
  {
   "cell_type": "code",
   "execution_count": 7,
   "metadata": {},
   "outputs": [
    {
     "name": "stdout",
     "output_type": "stream",
     "text": [
      "Alpha\n",
      "Bravo\n",
      "Charlie\n",
      "Delta\n",
      "Echo\n",
      "Foxtrot\n",
      "Golf\n",
      "Hotel\n",
      "India\n",
      "Juliett\n",
      "Kilo\n",
      "Lima\n",
      "Mike\n",
      "November\n",
      "Oscar\n",
      "Papa\n",
      "Quebec\n",
      "Romeo\n",
      "Sierra\n",
      "Tango\n",
      "Uniform\n",
      "Victor\n",
      "Whiskey\n",
      "X-ray\n",
      "Yankee\n",
      "Zulu\n"
     ]
    }
   ],
   "source": [
    "# Using a for loop to iterate\n",
    "\n",
    "list = [\"Alpha\", \"Bravo\", \"Charlie\", \"Delta\", \"Echo\", \"Foxtrot\", \"Golf\", \"Hotel\", \"India\", \"Juliett\", \"Kilo\", \"Lima\", \"Mike\", \"November\", \"Oscar\", \"Papa\", \"Quebec\", \"Romeo\", \"Sierra\", \"Tango\", \"Uniform\", \"Victor\", \"Whiskey\", \"X-ray\", \"Yankee\", \"Zulu\"]\n",
    "\n",
    "# using a for loop \n",
    "for i in list:\n",
    "    #for item in the list, print the item \n",
    "    print(i)\n",
    "    "
   ]
  },
  {
   "cell_type": "code",
   "execution_count": 8,
   "metadata": {},
   "outputs": [
    {
     "name": "stdout",
     "output_type": "stream",
     "text": [
      "Alpha\n",
      "Bravo\n",
      "Charlie\n",
      "Delta\n",
      "Echo\n",
      "Foxtrot\n",
      "Golf\n",
      "Hotel\n",
      "India\n",
      "Juliett\n",
      "Kilo\n",
      "Lima\n",
      "Mike\n",
      "November\n",
      "Oscar\n",
      "Papa\n",
      "Quebec\n",
      "Romeo\n",
      "Sierra\n",
      "Tango\n",
      "Uniform\n",
      "Victor\n",
      "Whiskey\n",
      "X-ray\n",
      "Yankee\n",
      "Zulu\n"
     ]
    }
   ],
   "source": [
    "# Using a for loop and range() to iterate \n",
    "\n",
    "list = [\"Alpha\", \"Bravo\", \"Charlie\", \"Delta\", \"Echo\", \"Foxtrot\", \"Golf\", \"Hotel\", \"India\", \"Juliett\", \"Kilo\", \"Lima\", \"Mike\", \"November\", \"Oscar\", \"Papa\", \"Quebec\", \"Romeo\", \"Sierra\", \"Tango\", \"Uniform\", \"Victor\", \"Whiskey\", \"X-ray\", \"Yankee\", \"Zulu\"]\n",
    "\n",
    "# Taking the length of the list \n",
    "lengthList = len(list) \n",
    "\n",
    "# Iteration using the amount of items in the list\n",
    "for i in range(lengthList):\n",
    "    print(list[i])"
   ]
  },
  {
   "cell_type": "code",
   "execution_count": 9,
   "metadata": {},
   "outputs": [
    {
     "name": "stdout",
     "output_type": "stream",
     "text": [
      "Alpha\n",
      "Bravo\n",
      "Charlie\n",
      "Delta\n",
      "Echo\n",
      "Foxtrot\n",
      "Golf\n",
      "Hotel\n",
      "India\n",
      "Juliett\n",
      "Kilo\n",
      "Lima\n",
      "Mike\n",
      "November\n",
      "Oscar\n",
      "Papa\n",
      "Quebec\n",
      "Romeo\n",
      "Sierra\n",
      "Tango\n",
      "Uniform\n",
      "Victor\n",
      "Whiskey\n",
      "X-ray\n",
      "Yankee\n",
      "Zulu\n"
     ]
    }
   ],
   "source": [
    "# Iteration using the while loop\n",
    "list = [\"Alpha\", \"Bravo\", \"Charlie\", \"Delta\", \"Echo\", \"Foxtrot\", \"Golf\", \"Hotel\", \"India\", \"Juliett\", \"Kilo\", \"Lima\", \"Mike\", \"November\", \"Oscar\", \"Papa\", \"Quebec\", \"Romeo\", \"Sierra\", \"Tango\", \"Uniform\", \"Victor\", \"Whiskey\", \"X-ray\", \"Yankee\", \"Zulu\"]\n",
    "\n",
    "# Once again, taking the length of the list\n",
    "lengthList = len(list)\n",
    "\n",
    "# Setting the variable we are going to use as 0\n",
    "i=0 \n",
    "\n",
    "# Iteration using the while loop \n",
    "# Argument saying WHILE a certain variable is a certain condition, the code should run\n",
    "while i < lengthList:\n",
    "    print(list[i])\n",
    "    i += 1\n"
   ]
  },
  {
   "cell_type": "markdown",
   "metadata": {},
   "source": [
    "### Using the range() function \n",
    "> saves time, but can become tedious"
   ]
  },
  {
   "cell_type": "code",
   "execution_count": 10,
   "metadata": {},
   "outputs": [
    {
     "name": "stdout",
     "output_type": "stream",
     "text": [
      "0\n",
      "1\n",
      "2\n",
      "3\n",
      "4\n"
     ]
    }
   ],
   "source": [
    "# An example of itration using a range() function, note that any given list or set starts with assigned value 0\n",
    "x = range(5)\n",
    "\n",
    "for n in x:\n",
    "    print(n)\n",
    "\n"
   ]
  },
  {
   "cell_type": "markdown",
   "metadata": {},
   "source": [
    "### else, elif, and break\n",
    "> Use when 1 statement isn't enough \n",
    "\n",
    "- `else`: when the condition does not meet, do statement()\n",
    "- `elif`: when the condition does not meet, but meets another condition, do statement()\n",
    "- `break`: stop the loop"
   ]
  },
  {
   "cell_type": "markdown",
   "metadata": {},
   "source": [
    "# 2D Iteration\n",
    "\n",
    "## 2D Arrays\n",
    "\n",
    "A 2D array is simply just a list of lists. The example below is technically correct but..."
   ]
  },
  {
   "cell_type": "code",
   "execution_count": 14,
   "metadata": {},
   "outputs": [],
   "source": [
    "# Example matrix\n",
    "\n",
    "keypad = [[1, 2, 3], [4, 5, 6], [7, 8, 9], [\" \", 0, \" \"]]"
   ]
  },
  {
   "cell_type": "markdown",
   "metadata": {},
   "source": [
    "Conventially 2D arrays are written like below. This is because 2D arrays are meant to be read in 2 dimensions (hence the name). Writing them like below makes them easier to visualize and understand. "
   ]
  },
  {
   "cell_type": "code",
   "execution_count": 15,
   "metadata": {},
   "outputs": [],
   "source": [
    "# Better example matrix\n",
    "keypad =   [[1, 2, 3], # i represents the row\n",
    "            [4, 5, 6], # j represents the columns\n",
    "            [7, 8, 9],\n",
    "            [\" \", 0, \" \"]]"
   ]
  },
  {
   "cell_type": "markdown",
   "metadata": {},
   "source": [
    "## Printing a 2D Array\n",
    "We already know that we can't just print the matrix by calling it. We need to iterate through it to print it.\n",
    "\n",
    "- i represents the row\n",
    "- j represents the columns"
   ]
  },
  {
   "cell_type": "code",
   "execution_count": 12,
   "metadata": {},
   "outputs": [],
   "source": [
    "# Nested loops using ij indexes\n",
    "def print_matrix1(matrix): \n",
    "    for i in range(len(matrix)):  # outer for loop. This runs on i which represents the row. range(len(matrix)) is in order to iterate through the length of the matrix\n",
    "        for j in range(len(matrix[i])):  # inner for loop. This runs on the length of the i'th row in the matrix (j changes for each row with a different length)\n",
    "            print(matrix[i][j], end=\" \")  # [i][j] is the 2D location of that value in the matrix, kinda like a coordinate pair. [i] iterates to the specific row and [j] iterates to the specific value in the row. end=\" \" changes the end value to space, not a new line.\n",
    "        print() # prints extra line. this is in the outer loop, not the inner loop, because it only wants to print a new line for each row"
   ]
  },
  {
   "cell_type": "code",
   "execution_count": 17,
   "metadata": {},
   "outputs": [
    {
     "name": "stdout",
     "output_type": "stream",
     "text": [
      "Raw matrix (list of lists): \n",
      "[[1, 2, 3], [4, 5, 6], [7, 8, 9], [' ', 0, ' ']]\n",
      "Matrix printed using nested for loop iteration\n",
      "1 2 3 \n",
      "4 5 6 \n",
      "7 8 9 \n",
      "  0   \n",
      "\n"
     ]
    }
   ],
   "source": [
    "print(\"Raw matrix (list of lists): \")\n",
    "print(keypad)\n",
    "print(\"Matrix printed using nested for loop iteration:\")\n",
    "print_matrix1(keypad)\n",
    "print()\n"
   ]
  },
  {
   "cell_type": "code",
   "execution_count": 18,
   "metadata": {},
   "outputs": [
    {
     "name": "stdout",
     "output_type": "stream",
     "text": [
      "1 2 3 \n",
      "4 5 6 \n",
      "7 8 9 \n",
      "  0   \n"
     ]
    }
   ],
   "source": [
    "def print_matrix2(matrix):\n",
    "    for row in matrix:  # Iterates through each \"row\" of matrix. Row is a dummy variable, it could technically be anything. It iterates through each value of matrix and each value is it's own list. in this syntax the list is stored in \"row\".\n",
    "        for col in row:  # Iterates through each value in row. Again col, column, is a dummy variable. Each value in row is stored in col.\n",
    "            print(col, end=\" \") # Same as 1\n",
    "        print() # Same as 1\n",
    "\n",
    "print_matrix2(keypad)"
   ]
  },
  {
   "cell_type": "markdown",
   "metadata": {},
   "source": [
    "### More Functions\n",
    "Try to find another way to print the matrix. Only complete one of the two (unless you'd like to do both). Below is a hint"
   ]
  },
  {
   "cell_type": "code",
   "execution_count": 19,
   "metadata": {},
   "outputs": [
    {
     "name": "stdout",
     "output_type": "stream",
     "text": [
      "['apples', 'bananas', 'grapes']\n",
      "apples bananas grapes\n"
     ]
    }
   ],
   "source": [
    "fruit = [\"apples\", \"bananas\", \"grapes\"]\n",
    "print(fruit)\n",
    "print(*fruit) # Python built in function: \"*\". Figure out what it does"
   ]
  },
  {
   "cell_type": "code",
   "execution_count": 20,
   "metadata": {},
   "outputs": [],
   "source": [
    "def print_matrix3(matrix):\n",
    "    code = \"your code goes here\""
   ]
  },
  {
   "cell_type": "markdown",
   "metadata": {},
   "source": [
    "Alternatively, find a way to print the matrix using the iter() function you already learned. Or use both!"
   ]
  },
  {
   "cell_type": "code",
   "execution_count": null,
   "metadata": {},
   "outputs": [],
   "source": [
    "def print_matrix4(matrix):\n",
    "    code = \"your code goes here\""
   ]
  },
  {
   "cell_type": "markdown",
   "metadata": {},
   "source": [
    "### Challenge\n",
    "Change all of the letters that you DIDN'T print above to spaces, \" \", and then print the full keyboard. (the things you did print should remain in the same spot)\n",
    "\n",
    "Alternative Challenge: If you would prefer, animate it using some form of delay so it flashes one of your letters at a time on the board in order and repeats. (this one may be slightly more intuitive)\n",
    "\n",
    "DO NOT HARD CODE THIS.\n",
    "Don't make it harder on yourself, iterate through, make it abstract so it can be used dynamically. You should be able to input any string and your code should work."
   ]
  },
  {
   "cell_type": "code",
   "execution_count": 4,
   "metadata": {},
   "outputs": [
    {
     "name": "stdout",
     "output_type": "stream",
     "text": [
      "  1         6             \n",
      "      R                \n",
      "A         H           \n",
      "    C       M       \n"
     ]
    }
   ],
   "source": [
    "#Your end result should look like this if you're confused"
   ]
  },
  {
   "cell_type": "markdown",
   "metadata": {},
   "source": [
    "If you get stuck you can just make a picture with an array and print it (I will grade based on how good it looks)\n",
    "\n",
    "I do expect an attempt so write some code to show you tried the challenge. "
   ]
  },
  {
   "cell_type": "markdown",
   "metadata": {},
   "source": [
    "## Hacks"
   ]
  },
  {
   "cell_type": "markdown",
   "metadata": {},
   "source": [
    "## Iteration Hacks\n",
    "Use the list below to turn the first letter of any word (using input()) into its respective NATO phonetic alphabet word\n",
    "\n",
    "Ex:\n",
    "\n",
    "list ->\n",
    "\n",
    "lima\n",
    "india\n",
    "sierra\n",
    "tango"
   ]
  },
  {
   "cell_type": "code",
   "execution_count": 7,
   "metadata": {},
   "outputs": [
    {
     "name": "stdout",
     "output_type": "stream",
     "text": [
      "input: boost\n",
      "NATO phonetic alphabet: bravo oscar oscar sierra tango \n"
     ]
    }
   ],
   "source": [
    "words = [\"alfa\", \"bravo\", \"charlie\", \"delta\", \"echo\", \"foxtrot\", \"golf\", \"hotel\", \"india\", \"juliett\", \"kilo\",\n",
    "\"lima\", \"mike\", \"november\", \"oscar\", \"papa\", \"quebec\", \"romeo\", \"sierra\", \"tango\", \"uniform\", \"victor\", \"whiskey\", \"xray\", \"yankee\", \"zulu\"]\n",
    "\n",
    "inp = input().lower()\n",
    "out = \"\" \n",
    "\n",
    "for letter in inp:\n",
    "    for word in words:\n",
    "        if letter == word[0]:\n",
    "            out += word + \" \"\n",
    "\n",
    "print(\"input:\" + \" \" + inp + \"\\n\" + \"NATO phonetic alphabet:\" + \" \" + out)"
   ]
  },
  {
   "cell_type": "markdown",
   "metadata": {},
   "source": [
    "## 2D Arrays Hacks"
   ]
  },
  {
   "cell_type": "code",
   "execution_count": 10,
   "metadata": {},
   "outputs": [
    {
     "name": "stdout",
     "output_type": "stream",
     "text": [
      "1 2 3\n",
      "4 5 6\n",
      "7 8 9\n",
      "  0  \n"
     ]
    }
   ],
   "source": [
    "keypad =   [[1, 2, 3], # i represents the row\n",
    "            [4, 5, 6], # j represents the columns\n",
    "            [7, 8, 9],\n",
    "            [\" \", 0, \" \"]]\n",
    "\n",
    "matrix = 0\n",
    "while matrix < len(keypad):\n",
    "        print(*keypad[matrix])\n",
    "        matrix = matrix + 1"
   ]
  },
  {
   "cell_type": "markdown",
   "metadata": {},
   "source": [
    "**Print what month you were born and how old you are by iterating through the keyboard (don't just write a string).**"
   ]
  },
  {
   "cell_type": "code",
   "execution_count": 31,
   "metadata": {},
   "outputs": [
    {
     "name": "stdout",
     "output_type": "stream",
     "text": [
      "Birthdate: DECEMBER 12 \n",
      "Age: 17 "
     ]
    }
   ],
   "source": [
    "keyboard = [[\"`\", 1, 2, 3, 4, 5, 6, 7, 8, 9, 0, \"-\", \"=\"],\n",
    "            [\"Q\", \"W\", \"E\", \"R\", \"T\", \"Y\", \"U\", \"I\", \"O\", \"P\", \"[\", \"]\"],\n",
    "            [\"A\", \"S\", \"D\", \"F\", \"G\", \"H\", \"J\", \"K\", \"L\", \";\", \"'\"],\n",
    "            [\"Z\", \"X\", \"C\", \"V\", \"B\", \"N\", \"M\", \",\", \".\", \"/\"]]\n",
    "\n",
    "print(\"Birthdate:\" + \" \" + keyboard[2][2] + keyboard[1][2] + keyboard[3][2] + keyboard[1][2] + keyboard[3][6] + keyboard[3][4] + keyboard[1][2] + keyboard[1][3] + \" \" + str(keyboard[0][1]) + str(keyboard[0][2]), end=\" \")\n",
    "print(\"\\n\" + \"Age:\" + \" \" + str(keyboard[0][1]) + str(keyboard[0][7]), end=\" \") "
   ]
  }
 ],
 "metadata": {
  "kernelspec": {
   "display_name": "Python 3.9.12 ('base')",
   "language": "python",
   "name": "python3"
  },
  "language_info": {
   "codemirror_mode": {
    "name": "ipython",
    "version": 3
   },
   "file_extension": ".py",
   "mimetype": "text/x-python",
   "name": "python",
   "nbconvert_exporter": "python",
   "pygments_lexer": "ipython3",
   "version": "3.9.12"
  },
  "orig_nbformat": 4,
  "vscode": {
   "interpreter": {
    "hash": "d4f40b15e6133daba1938c03094ab5050614a1b04d93d14e71faa6c0eef215a6"
   }
  }
 },
 "nbformat": 4,
 "nbformat_minor": 2
}
