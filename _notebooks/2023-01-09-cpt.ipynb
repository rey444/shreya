{
 "cells": [
  {
   "attachments": {},
   "cell_type": "markdown",
   "metadata": {},
   "source": [
    "# CPT Scoring Assignment 1\n",
    "\n",
    "- title: CPT Scoring Assignment 1\n",
    "- toc: true\n",
    "- branch: master\n",
    "- badges: true\n",
    "- comments: true\n",
    "- categories: [tri2]"
   ]
  },
  {
   "attachments": {},
   "cell_type": "markdown",
   "metadata": {},
   "source": [
    "| Reporting Category | Student 1 Score | Student 2 Score | Why |\n",
    "|-|-|-|-|\n",
    "| Program Purpose and Function | 4/6 | 4/6 | <ul>describes the overall purpose of the program demonstrated in the video</ul><ul>describes what functionality of the program is demonstrated in the video</ul><ul>describes the input and output of the program</ul><ul>describes the overall purpose of the program demonstrated in the video.</ul><ul>describes what functionality of the program is demonstrated in the video</ul><ul>describes the input and output of the program</ul><ul>Video does not even use up half of 1 min and I think there was more to show. Could have demonstrated the classification of other types of triangles. In addition, the person only states what the program does, not what other purpose it can serve so the response could be more detailed</ul> |\n",
    "| Data Abstraction | 6/6 | 6/6 | <ul>one program code that shows how data has been stored in this list (or another collection type).</ul><ul>one program code that shows the data in this same list being used as part of fulfilling the program’s purpose.</ul><ul>identifies the name of the variable representing the list being used in this response.describes what the data contained in this list is representing in the program</ul><ul>one program code that shows how data has been stored in this list (or another collection type).</ul><ul>one program code that shows the data in this same list being used as part of fulfilling the program’s purpose.</ul><ul> identifies the name of the variable representing the list being used in this response.</ul><ul> describes what the data contained in this list is representing in the program</ul><ul>Very descriptive captions and photos are provided in the writeup</ul> |\n",
    "|Managing Complexity | 5/6 | 4/6| <ul>includes a program code segment that shows a list being used to manage complexity in the program</ul><ul> explains how the named, selected list manages complexity in the program code by explaining why the program code could not be written, or how it would be written differently, without using this list.</ul><ul> includes a program code segment that shows a list being used to manage complexity in the program explains how the named, selected list manages complexity in the program code by explaining why the program code could not be written, or how it would be written differently, without using this list.</ul><ul>The list example they provided doesn't actually manage the complexity of the program because it could be replaced and the code would be just as manageable\tthis shows how they used multiple lists to manage a lot of information</ul> |\n",
    "| Procedural Abstraction | 3/6 | 6/6 |  <ul>one program code showing a student-developed procedure with at least one parameter that has an effect on the functionality of the procedure</ul><ul> one program code showing where the student-developed procedure is being called.</ul><ul> describes what the identified procedure does and how it contributes to the overall functionality of the program</ul><ul> one program code showing a student-developed procedure with at least one parameter that has an effect on the functionality of the procedure</ul><ul> one program code showing where the student-developed procedure is being called.</ul><ul> describes what the identified procedure does and how it contributes to the overall functionality of the program</ul> |\n",
    "| Algorithm Implementation | 4/6 | 6/6 | <ul>includes a program code segment of a student-developed algorithm that includes sequencing, selection, and iteration</ul><ul> explains in detailed steps how the identified algorithm works in enough detail that someone else could recreate it </ul><ul> includes a program code segment of a student-developed algorithm that includes sequencing, selection, and iteration explains in detailed steps how the identified algorithm works in enough detail that someone else could recreate it</ul><ul>Code does show the use of conditionals and loops for iteration but theses features are not shown in the video. Video was only 14s long so this is something that could have been demonstrated</ul> |\n",
    "| Testing | 5/6 | 6/6 | <ul>describes two calls to the selected procedure identified in written response 3c. Each call must pass a different argument(s) that causes a different segment of code in the algorithm to execute.</ul><ul> describes the condition(s) being tested by each call to the procedure.identifies the result of each call</ul><ul>describes two calls to the selected procedure identified in written response 3c. Each call must pass a different argument(s) that causes a different segment of code in the algorithm to execute.</ul><ul> describes the condition(s) being tested by each call to the procedure.</ul><ul>identifies the result of each call</ul> |"
   ]
  }
 ],
 "metadata": {
  "kernelspec": {
   "display_name": "base",
   "language": "python",
   "name": "python3"
  },
  "language_info": {
   "name": "python",
   "version": "3.9.12"
  },
  "orig_nbformat": 4,
  "vscode": {
   "interpreter": {
    "hash": "d4f40b15e6133daba1938c03094ab5050614a1b04d93d14e71faa6c0eef215a6"
   }
  }
 },
 "nbformat": 4,
 "nbformat_minor": 2
}
