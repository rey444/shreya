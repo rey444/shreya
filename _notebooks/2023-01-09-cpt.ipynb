{
 "cells": [
  {
   "attachments": {},
   "cell_type": "markdown",
   "metadata": {},
   "source": [
    "# CPT \n",
    "\n",
    "- title: CPT\n",
    "- toc: true\n",
    "- branch: master\n",
    "- badges: true\n",
    "- comments: true\n",
    "- categories: [t2]"
   ]
  },
  {
   "attachments": {},
   "cell_type": "markdown",
   "metadata": {},
   "source": [
    "| Reporting Category | Student 1 Score | Student 2 Score | Why |\n",
    "|-|-|-|-|\n",
    "| Program Purpose and Function | 4/6 | 4/6 | describes the overall purpose of the program demonstrated in the video.\n",
    " describes what functionality of the program is demonstrated in the video\n",
    " describes the input and output of the program\n",
    " describes the overall purpose of the program demonstrated in the video.\n",
    " describes what functionality of the program is demonstrated in the video\n",
    " describes the input and output of the program\n",
    "Video does not even use up half of 1 min and I think there was more to show. Could have demonstrated the classification of other types of triangles. In addition, the person only states what the program does, not what other purpose it can serve so the response could be more detailed |\n",
    "| Data Abstraction | 6/6 | 6/6 | one program code that shows how data has been stored in this list (or another collection type).\n",
    " one program code that shows the data in this same list being used as part of fulfilling the program’s purpose.\n",
    " identifies the name of the variable representing the list being used in this response.\n",
    " describes what the data contained in this list is representing in the program\n",
    " one program code that shows how data has been stored in this list (or another collection type).\n",
    " one program code that shows the data in this same list being used as part of fulfilling the program’s purpose.\n",
    " identifies the name of the variable representing the list being used in this response.\n",
    " describes what the data contained in this list is representing in the program\n",
    "Very descriptive captions and photos are provided in the writeup |\n",
    "|Managing Complexity | 5/6 | 4/6| includes a program code segment that shows a list being used to manage complexity in the program\n",
    " explains how the named, selected list manages complexity in the program code by explaining why the program code could not be written, or how it would be written differently, without using this list.\n",
    " includes a program code segment that shows a list being used to manage complexity in the program\n",
    " explains how the named, selected list manages complexity in the program code by explaining why the program code could not be written, or how it would be written differently, without using this list.\n",
    "The list example they provided doesn't actually manage the complexity of the program because it could be replaced and the code would be just as manageable\tthis shows how they used multiple lists to manage a lot of information |\n",
    "| Procedural Abstraction | 3/6 | 6/6 |  one program code showing a student-developed procedure with at least one parameter that has an effect on the functionality of the procedure\n",
    " one program code showing where the student-developed procedure is being called.\n",
    " describes what the identified procedure does and how it contributes to the overall functionality of the program\n",
    " one program code showing a student-developed procedure with at least one parameter that has an effect on the functionality of the procedure\n",
    " one program code showing where the student-developed procedure is being called.\n",
    " describes what the identified procedure does and how it contributes to the overall functionality of the program |\n",
    "| Algorithm Implementation | 4/6 | 6/6 | includes a program code segment of a student-developed algorithm that includes sequencing, selection, and iteration\n",
    " explains in detailed steps how the identified algorithm works in enough detail that someone else could recreate it\n",
    " includes a program code segment of a student-developed algorithm that includes sequencing, selection, and iteration\n",
    " explains in detailed steps how the identified algorithm works in enough detail that someone else could recreate it\n",
    "Code does show the use of conditionals and loops for iteration but theses features are not shown in the video. Video was only 14s long so this is something that could have been demonstrated |\n",
    "| Testing | 5/6 | 6/6 | describes two calls to the selected procedure identified in written response 3c. Each call must pass a different argument(s) that causes a different segment of code in the algorithm to execute.\n",
    " describes the condition(s) being tested by each call to the procedure.\n",
    " identifies the result of each call\n",
    " describes two calls to the selected procedure identified in written response 3c. Each call must pass a different argument(s) that causes a different segment of code in the algorithm to execute.\n",
    " describes the condition(s) being tested by each call to the procedure.\n",
    " identifies the result of each call |"
   ]
  }
 ],
 "metadata": {
  "kernelspec": {
   "display_name": "base",
   "language": "python",
   "name": "python3"
  },
  "language_info": {
   "name": "python",
   "version": "3.9.12 (main, Apr  5 2022, 06:56:58) \n[GCC 7.5.0]"
  },
  "orig_nbformat": 4,
  "vscode": {
   "interpreter": {
    "hash": "d4f40b15e6133daba1938c03094ab5050614a1b04d93d14e71faa6c0eef215a6"
   }
  }
 },
 "nbformat": 4,
 "nbformat_minor": 2
}
