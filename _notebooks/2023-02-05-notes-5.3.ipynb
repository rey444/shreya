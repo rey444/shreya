{
 "cells": [
  {
   "attachments": {},
   "cell_type": "markdown",
   "metadata": {},
   "source": [
    "# Big Idea 5.3 Computing Bias \n",
    "\n",
    "- title: Big Idea 5.3 Computing Bias \n",
    "- toc: true\n",
    "- branch: master\n",
    "- badges: true\n",
    "- comments: true\n",
    "- categories: [t2]"
   ]
  },
  {
   "attachments": {},
   "cell_type": "markdown",
   "metadata": {},
   "source": [
    "### Computer Bias Notes\n",
    "\n",
    "Humans create the algorithms that computers use, so they can be biased\n",
    "\n",
    "### Intentional/Purposeful Bias\n",
    "\n",
    "- Older age groups use Facebook, while younger age groups use TikTok\n",
    "- Social media platforms are often marketed to certain groups, but I don't think there's purposeful exclusion\n",
    "- It is a good business strategy\n",
    "- Virtual assistants may have female voices because they sound more \"approachable\". Now that I think about it, that is kind of strange. I think various voice options should be added for virtual assistants, and I know that Apple already has this for Siri\n",
    "- Netflix uses an algorithm to recommend you shows to watch based on your watching history, and this influences my decisions on which TV shows I end up watching\n",
    "\n",
    "### HP Video\n",
    "\n",
    "- The owner of the computer either doesn't actually thinks it's intentional, or is satirizing his computer's inability to follow his face, because he appears to be laughing through most of the video\n",
    "- I think this happened because the computer's image recognition and following system was likely tested on more light colored faces and thus was less effective at following darker skin tones\n",
    "- I think that it is harmful because HP computers have users from all over the world, but I don't think it was intended to exclude\n",
    "- I think that it should be corrected\n",
    "- It can be corrected by giving the algorithm more data on various skin tones when testing\n"
   ]
  }
 ],
 "metadata": {
  "kernelspec": {
   "display_name": "base",
   "language": "python",
   "name": "python3"
  },
  "language_info": {
   "name": "python",
   "version": "3.9.12"
  },
  "orig_nbformat": 4,
  "vscode": {
   "interpreter": {
    "hash": "d4f40b15e6133daba1938c03094ab5050614a1b04d93d14e71faa6c0eef215a6"
   }
  }
 },
 "nbformat": 4,
 "nbformat_minor": 2
}
