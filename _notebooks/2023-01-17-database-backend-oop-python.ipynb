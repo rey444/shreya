{
 "cells": [
  {
   "attachments": {},
   "cell_type": "markdown",
   "metadata": {},
   "source": [
    "# Database/Model, Backend, OOP, Python Notes & Hacks\n",
    "\n",
    "- title: Database/Model, Backend, OOP, Python Notes & Hacks\n",
    "- toc: true\n",
    "- branch: master\n",
    "- badges: true\n",
    "- comments: true\n",
    "- categories: [t2]"
   ]
  },
  {
   "attachments": {},
   "cell_type": "markdown",
   "metadata": {},
   "source": [
    "## Vocab\n",
    "\n",
    "- table = a model/schema within a database\n",
    "- SQL = structure and query language\n",
    "    - the way we interact with databases\n",
    "    - we will do regular coding, and it will allow us to interact with the database\n",
    "- persistent data = data that is saved somewhere into a database"
   ]
  },
  {
   "attachments": {},
   "cell_type": "markdown",
   "metadata": {},
   "source": [
    "**User Table Schema**\n",
    "\n",
    "- Defining the title of the table and what goes into it is the `schema`\n",
    "- `db.Model` allows us to inherit the properties of db into our user class\n",
    "- database = collection of spreadsheets/tables --> should be on our backend\n",
    "- `db.Model` is inhertied into the `class User(db.model)`\n",
    "- each `db.Column` gets properties according to the capabilities of SQL\n",
    "\n",
    "**How it Works**\n",
    "\n",
    "- we ask the user for an input\n",
    "- it takes the input to the backend --> stores it into a database\n",
    "- we can extract information from the database to bring it back to the frontend, if needed\n",
    "    - ex. setting a password --> when the site tells you your password is incorrect, it's crosschecking with the table created on the backend\n"
   ]
  },
  {
   "cell_type": "code",
   "execution_count": null,
   "metadata": {},
   "outputs": [],
   "source": [
    "db = SQLAlchemy(app) \n",
    "\n",
    "\"\"\" database dependencies to support sqliteDB examples \"\"\"\n",
    "\n",
    "from __init__ import app, db\n",
    "from sqlalchemy.exc import IntegrityError\n",
    "from werkzeug.security import generate_password_hash, check_password_hash\n",
    "\n",
    "\n",
    "\"\"\" Key additions to User Class for Schema definition \"\"\"\n",
    "\n",
    "# Define the User class to manage actions in the 'users' table\n",
    "# -- Object Relational Mapping (ORM) is the key concept of SQLAlchemy\n",
    "# -- a.) db.Model is like an inner layer of the onion in ORM\n",
    "# -- b.) User represents data we want to store, something that is built on db.Model\n",
    "# -- c.) SQLAlchemy ORM is layer on top of SQLAlchemy Core, then SQLAlchemy engine, SQL\n",
    "class User(db.Model):\n",
    "    __tablename__ = 'users'  # table name is plural, class name is singular\n",
    "\n",
    "    # Define the User schema with \"vars\" from object\n",
    "    # creates multiple columns, one for each type of data (name, uid, password, dob)\n",
    "    # defining the database\n",
    "    id = db.Column(db.Integer, primary_key=True) \n",
    "    _name = db.Column(db.String(255), unique=False, nullable=False) # associating the properties with the database; allows us to move the infor in and out of the database using the column name\n",
    "    _uid = db.Column(db.String(255), unique=True, nullable=False)\n",
    "    _password = db.Column(db.String(255), unique=False, nullable=False)\n",
    "    _dob = db.Column(db.Date)\n",
    "\n",
    "    # Defines a relationship between User record and Notes table, one-to-many (one user to many notes)\n",
    "    posts = db.relationship(\"Post\", cascade='all, delete', backref='users', lazy=True)\n",
    "\n",
    "    # constructor of a User object, initializes the instance variables within object (self)\n",
    "    def __init__(self, name, uid, password=\"123qwerty\", dob=date.today()):\n",
    "        self._name = name    # variables with self prefix become part of the object, \n",
    "        self._uid = uid\n",
    "        self.set_password(password)\n",
    "        self._dob = dob"
   ]
  },
  {
   "attachments": {},
   "cell_type": "markdown",
   "metadata": {},
   "source": [
    "**User Table CRUD Operations**\n",
    "\n",
    "- allow us to move data in and out of the database\n",
    "- all the `def`s are methods of the User Class\n",
    "- python sessions with the database\n",
    "- we are going to try to use these methods to create our own database for our CPT\n",
    "- we need to tell our code where our database file is in order to access it"
   ]
  },
  {
   "cell_type": "code",
   "execution_count": 1,
   "metadata": {},
   "outputs": [],
   "source": [
    "def create(self):\n",
    "    try:\n",
    "        # creates a person object from User(db.Model) class, passes initializers\n",
    "        db.session.add(self)  # add prepares to persist person object to Users table\n",
    "        db.session.commit()  # SqlAlchemy \"unit of work pattern\" requires a manual commit\n",
    "        return self\n",
    "    except IntegrityError:\n",
    "        db.session.remove()\n",
    "        return None\n",
    "\n",
    "# CRUD read converts self to dictionary\n",
    "# returns dictionary\n",
    "def read(self):\n",
    "    return {\n",
    "        \"id\": self.id,\n",
    "        \"name\": self.name,\n",
    "        \"uid\": self.uid,\n",
    "        \"dob\": self.dob,\n",
    "        \"age\": self.age,\n",
    "        \"posts\": [post.read() for post in self.posts]\n",
    "    }\n",
    "\n",
    "# CRUD update: updates user name, password, phone\n",
    "# returns self\n",
    "def update(self, name=\"\", uid=\"\", password=\"\"):\n",
    "    \"\"\"only updates values with length\"\"\"\n",
    "    if len(name) > 0:\n",
    "        self.name = name\n",
    "    if len(uid) > 0:\n",
    "        self.uid = uid\n",
    "    if len(password) > 0:\n",
    "        self.set_password(password)\n",
    "    db.session.commit()\n",
    "    return self\n",
    "\n",
    "# CRUD delete: remove self\n",
    "# None\n",
    "def delete(self):\n",
    "    db.session.delete(self)\n",
    "    db.session.commit()\n",
    "    return None"
   ]
  },
  {
   "attachments": {},
   "cell_type": "markdown",
   "metadata": {},
   "source": [
    "## DevOps and Databases\n",
    "\n",
    "- can create a database which runs locally to work on/actually code on\n",
    "    - run locally as we develop on a test database\n",
    "- create another database which is used to actually deploy the work; copy over from the database which runs locally once you have it working\n",
    "- we store our database into the \"volumes\" directory\n",
    "    - persistent data is stored into the databse\n",
    "    - must be careful to ensure that the persistent data isn't erased\n",
    "- [Link to DevOps section of lecture for refernece](https://nighthawkcoders.github.io/APCSP//2023/01/17/PBL-database.html#Outline-to-understand-Devops-and-Databases)\n",
    "- there are administrative tools that help us open the database\n",
    "    - ex. SQLite"
   ]
  },
  {
   "attachments": {},
   "cell_type": "markdown",
   "metadata": {},
   "source": [
    "## SQL Administrative Tools\n",
    "\n",
    "- we are the admins\n",
    "    - use tools to help us figure out what's going on in the backend"
   ]
  }
 ],
 "metadata": {
  "kernelspec": {
   "display_name": "base",
   "language": "python",
   "name": "python3"
  },
  "language_info": {
   "codemirror_mode": {
    "name": "ipython",
    "version": 3
   },
   "file_extension": ".py",
   "mimetype": "text/x-python",
   "name": "python",
   "nbconvert_exporter": "python",
   "pygments_lexer": "ipython3",
   "version": "3.9.12 (main, Apr  5 2022, 06:56:58) \n[GCC 7.5.0]"
  },
  "orig_nbformat": 4,
  "vscode": {
   "interpreter": {
    "hash": "d4f40b15e6133daba1938c03094ab5050614a1b04d93d14e71faa6c0eef215a6"
   }
  }
 },
 "nbformat": 4,
 "nbformat_minor": 2
}
