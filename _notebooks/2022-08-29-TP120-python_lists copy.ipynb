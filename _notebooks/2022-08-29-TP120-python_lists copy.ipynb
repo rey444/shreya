{
 "cells": [
  {
   "cell_type": "markdown",
   "metadata": {},
   "source": [
    "# Lists, Dictionaries, Iteration\n",
    "> An introduction to Data Abstraction using Python Lists [] and Python Dictionaries {}.\n",
    "\n",
    "- title: Lists, Dictionaries, Iteration\n",
    "- toc: true\n",
    "- categories: [units]\n",
    "- permalink: /collegeboard/python_lists\n",
    "- image: /images/python_lists.png\n",
    "- categories: [tri1]"
   ]
  },
  {
   "cell_type": "markdown",
   "metadata": {},
   "source": [
    "### Lists and Dictionaries\n",
    "As a quick review we used variables in the introduction last week.  <mark>Variables all have a type</mark>: String, Integer, Float, List and Dictionary are some key types.  In Python, variables are given a type at assignment,  Types are important to understand and will impact operations, as we saw when we were required to user str() function in concatenation.  \n",
    "\n",
    "1. Developers often think of variables as primitives or collections.  Look at this example and see if you can see hypothesize the difference between a primitive and a collection.  \n",
    "2. Take a minute and see if you can reference other elements in the list or other keys in the dictionary. Show output."
   ]
  },
  {
   "cell_type": "code",
   "execution_count": 8,
   "metadata": {},
   "outputs": [
    {
     "name": "stdout",
     "output_type": "stream",
     "text": [
      "name Shreya Sapkal <class 'str'>\n",
      "age 17 <class 'int'>\n",
      "score 97.0 <class 'float'>\n",
      "\n",
      "langs ['Python', 'JavaScript', 'Java', 'Bash'] <class 'list'>\n",
      "- langs[0] Python <class 'str'>\n",
      "\n",
      "person {'name': 'Shreya Sapkal', 'age': 17, 'score': 97.0, 'langs': ['Python', 'JavaScript', 'Java', 'Bash']} <class 'dict'>\n",
      "- person[\"name\"] Shreya Sapkal <class 'str'>\n"
     ]
    }
   ],
   "source": [
    "# Sample of Python Variables\n",
    "\n",
    "# variable of type string\n",
    "name = \"Shreya Sapkal\" # name is the key/variable, and \"john doe\" is the value\n",
    "print(\"name\", name, type(name)) # type(name) is an abbreviation for a string of code\n",
    "\n",
    "# variable of type integer\n",
    "age = 17 # integer variable = integers and whole numbers\n",
    "print(\"age\", age, type(age))\n",
    "\n",
    "# variable of type float\n",
    "score = 97.0 # float = more complicated numbers where you have decimal points\n",
    "print(\"score\", score, type(score))\n",
    "\n",
    "print()\n",
    "\n",
    "# variable of type list (many values in one variable)\n",
    "langs = [\"Python\", \"JavaScript\", \"Java\", \"Bash\"] # making a list of items & separating them with commas\n",
    "print(\"langs\", langs, type(langs))\n",
    "print(\"- langs[0]\", langs[0], type(langs[0])) # index in the list: change the number in the [] here to produce a different element in the list; 0 = 1st element, 1 = 2nd element, etc.\n",
    "\n",
    "print()\n",
    "\n",
    "# variable of type dictionary (a group of keys and values)\n",
    "person = {\n",
    "    \"name\": name, # key on the left, values on the right are the values that are going to be assigned\n",
    "    \"age\": age,\n",
    "    \"score\": score,\n",
    "    \"langs\": langs\n",
    "}\n",
    "print(\"person\", person, type(person))\n",
    "print('- person[\"name\"]', person[\"name\"], type(person[\"name\"]))\n"
   ]
  },
  {
   "cell_type": "markdown",
   "metadata": {},
   "source": [
    "### List and Dictionary purpose\n",
    "Our society is being build on information.  <mark>List and Dictionaries are used to collect information</mark>.  Mostly, when information is collected it is formed into patterns.  As that pattern is established you will collect many instances of that pattern.\n",
    "- List is used to collect many\n",
    "- Dictionary is used to define data patterns.\n",
    "- Iteration is often used to process through lists.\n",
    "\n",
    "To start exploring more deeply into List, Dictionary and Iteration we will explore constructing a List of people and cars.\n",
    "- As we learned above, List is a data type: class 'list'\n",
    "- A <mark>'list' data type has the method '.append(expression)'</mark> that allows you to add to the list\n",
    "- In the example below,  the expression appended to the 'list' is the data type: class 'dict'\n",
    "- At the end, you see a fairly complicated data structure.  This is a <mark>list of dictionaries</mark>.  The output looks similar to JSON and we will see this often, you will be required to understand this data structure and understand the parts.  Easy peasy ;)."
   ]
  },
  {
   "cell_type": "code",
   "execution_count": 4,
   "metadata": {},
   "outputs": [
    {
     "name": "stdout",
     "output_type": "stream",
     "text": [
      "[{'FirstName': 'Shreya', 'LastName': 'Sapkal', 'Nicknames': ['Rey', 'Reyu', 'Shweya'], 'DOB': 'December 12', 'Residence': 'San Diego', 'Email': 'shreya.sapkal959@gmail.com', 'Owns_Cars': ['2013-Ford Escape', '2020-Chrysler Pacifica'], 'Hobbies': ['Karate', 'Tennis', 'Reading', 'Writing', 'Drawing']}, {'FirstName': 'Jiya', 'LastName': 'Savlani', 'Nicknames': ['Jiyu'], 'DOB': 'March 7', 'Residence': 'San Diego', 'Email': 'starjiyu@gmail.com', 'Owns_Cars': ['Lambo', 'Miata'], 'Hobbies': ['Reading', 'Watching Cobra Kai']}, {'FirstName': 'Vaishavi', 'LastName': 'Jayashankar', 'Nicknames': ['Vaishavi-Chan', 'Vai', 'Vaiu'], 'DOB': 'March 15', 'Residence': 'San Diego', 'Email': 'vaishavi2005@gmail.com', 'Owns_Cars': ['Volkswagen', 'Chevrolet Traverse'], 'Hobbies': ['Music', 'Drawing']}]\n"
     ]
    }
   ],
   "source": [
    "\n",
    "# Define an empty List called InfoDb\n",
    "# 1st item is always 0; python is a zero index language\n",
    "# DICTIONARIES use keys and values to store data\n",
    "# make sure each key has a unique name\n",
    "\n",
    "InfoDb = []\n",
    "\n",
    "# Append to List a Dictionary of key/values related to a person and cars\n",
    "InfoDb.append({\n",
    "    \"FirstName\": \"Shreya\",\n",
    "    \"LastName\": \"Sapkal\",\n",
    "    \"Nicknames\": [\"Rey\", \"Reyu\", \"Shweya\"],\n",
    "    \"DOB\": \"December 12\",\n",
    "    \"Residence\": \"San Diego\",\n",
    "    \"Email\": \"shreya.sapkal959@gmail.com\",\n",
    "    \"Owns_Cars\": [\"2013-Ford Escape\", \"2020-Chrysler Pacifica\"],\n",
    "    \"Hobbies\": [\"Karate\", \"Tennis\", \"Reading\", \"Writing\", \"Drawing\"] \n",
    "})\n",
    "InfoDb.append({\n",
    "    \"FirstName\": \"Jiya\",\n",
    "    \"LastName\": \"Savlani\",\n",
    "    \"Nicknames\": [\"Jiyu\"],\n",
    "    \"DOB\": \"March 7\",\n",
    "    \"Residence\": \"San Diego\",\n",
    "    \"Email\": \"starjiyu@gmail.com\",\n",
    "    \"Owns_Cars\": [\"Lambo\", \"Miata\"],\n",
    "    \"Hobbies\": [\"Reading\", \"Watching Cobra Kai\"]\n",
    "})\n",
    "InfoDb.append({\n",
    "    \"FirstName\": \"Vaishavi\",\n",
    "    \"LastName\": \"Jayashankar\",\n",
    "    \"Nicknames\": [\"Vaishavi-Chan\", \"Vai\", \"Vaiu\"],\n",
    "    \"DOB\": \"March 15\",\n",
    "    \"Residence\": \"San Diego\",\n",
    "    \"Email\": \"vaishavi2005@gmail.com\",\n",
    "    \"Owns_Cars\": [\"Volkswagen\", \"Chevrolet Traverse\"],\n",
    "    \"Hobbies\": [\"Music\", \"Drawing\"]\n",
    "})\n",
    "\n",
    "# Print the data structure\n",
    "print(InfoDb)\n"
   ]
  },
  {
   "cell_type": "markdown",
   "metadata": {},
   "source": [
    "### Formatted output of List/Dictionary - for loop\n",
    "Managing data in Lists and Dictionaries is for the convenience of passing the data across the internet or preparing it to be stored into a database.  Also, it is a great way to exchange data inside of our own programs.\n",
    "\n",
    "Next, we will take the stored data and output it within our notebook.  There are multiple steps to this process...\n",
    "- <mark>Preparing a function to format the data</mark>, the print_data() function receives a parameter called \"d_rec\" short for dictionary record.  It then references different keys within [] square brackets.   \n",
    "- <mark>Preparing a function to iterate through the list</mark>, the for_loop() function uses an enhanced for loop that pull record by record out of InfoDb until the list is empty.  Each time through the loop it call print_data(record), which passes the dictionary record to that function.\n",
    "- Finally, you need to <mark>activate your function</mark> with the call to the defined function for_loop().  Functions are defined, not activated until they are called.  By placing for_loop() at the left margin the function is activated."
   ]
  },
  {
   "cell_type": "code",
   "execution_count": 21,
   "metadata": {},
   "outputs": [
    {
     "name": "stdout",
     "output_type": "stream",
     "text": [
      "For loop output\n",
      "\n",
      "Shreya Sapkal\n",
      "\t Residence: San Diego\n",
      "\t Birth Day: December 12\n",
      "\t Nicknames: Rey, Reyu, Shweya\n",
      "\t Cars: 2013-Ford Escape, 2020-Chrysler Pacifica\n",
      "\t Hobbies: Karate, Tennis, Reading, Writing, Drawing\n",
      "\n",
      "Jiya Savlani\n",
      "\t Residence: San Diego\n",
      "\t Birth Day: March 7\n",
      "\t Nicknames: Jiyu\n",
      "\t Cars: Lambo, Miata\n",
      "\t Hobbies: Reading, Watching Cobra Kai\n",
      "\n",
      "Vaishavi Jayashankar\n",
      "\t Residence: San Diego\n",
      "\t Birth Day: March 15\n",
      "\t Nicknames: Vaishavi-Chan, Vai, Vaiu\n",
      "\t Cars: Volkswagen, Chevrolet Traverse\n",
      "\t Hobbies: Music, Drawing\n",
      "\n"
     ]
    }
   ],
   "source": [
    "# made a for loop with the new inputted data\n",
    "# given and index this will print InfoDb content\n",
    "def print_data(d_rec):\n",
    "    print(d_rec[\"FirstName\"], d_rec[\"LastName\"])  # using comma puts space between values\n",
    "    print(\"\\t\", \"Residence:\", d_rec[\"Residence\"]) # \\t is a tab indent\n",
    "    print(\"\\t\", \"Birth Day:\", d_rec[\"DOB\"])\n",
    "    print(\"\\t\", \"Nicknames: \", end=\"\")\n",
    "    print(\", \".join(d_rec[\"Nicknames\"]))  # join allows printing a string list with separator\n",
    "    print(\"\\t\", \"Cars: \", end=\"\")  # end=\"\" make sure no return occurs\n",
    "    print(\", \".join(d_rec[\"Owns_Cars\"]))  # join allows printing a string list with separator\n",
    "    print(\"\\t\", \"Hobbies: \", end=\"\")  # end=\"\" make sure no return occurs\n",
    "    print(\", \".join(d_rec[\"Hobbies\"]))  # join allows printing a string list with separator\n",
    "    print()\n",
    "\n",
    "\n",
    "# for loop iterates on length of InfoDb\n",
    "def for_loop():\n",
    "    print(\"For loop output\\n\")\n",
    "    for record in InfoDb:\n",
    "        print_data(record)\n",
    "\n",
    "for_loop()"
   ]
  },
  {
   "cell_type": "markdown",
   "metadata": {},
   "source": [
    "### Alternate methods for iteration - while loop\n",
    "In coding, there are usually many ways to achieve the same result.  Defined are functions illustrating using index to reference records in a list, these methods are called a \"while\" loop and \"recursion\".\n",
    "- The while_loop() function contains a while loop, \"while i < len(InfoDb):\".  This counts through the elements in the list start at zero, and passes the record to print_data()"
   ]
  },
  {
   "cell_type": "code",
   "execution_count": 20,
   "metadata": {},
   "outputs": [
    {
     "name": "stdout",
     "output_type": "stream",
     "text": [
      "While loop output\n",
      "\n",
      "Shreya Sapkal\n",
      "\t Residence: San Diego\n",
      "\t Birth Day: December 12\n",
      "\t Nicknames: Rey, Reyu, Shweya\n",
      "\t Cars: 2013-Ford Escape, 2020-Chrysler Pacifica\n",
      "\t Hobbies: Karate, Tennis, Reading, Writing, Drawing\n",
      "\n",
      "Jiya Savlani\n",
      "\t Residence: San Diego\n",
      "\t Birth Day: March 7\n",
      "\t Nicknames: Jiyu\n",
      "\t Cars: Lambo, Miata\n",
      "\t Hobbies: Reading, Watching Cobra Kai\n",
      "\n",
      "Vaishavi Jayashankar\n",
      "\t Residence: San Diego\n",
      "\t Birth Day: March 15\n",
      "\t Nicknames: Vaishavi-Chan, Vai, Vaiu\n",
      "\t Cars: Volkswagen, Chevrolet Traverse\n",
      "\t Hobbies: Music, Drawing\n",
      "\n"
     ]
    }
   ],
   "source": [
    "# while loop contains an initial n and an index incrementing statement (n += 1)\n",
    "# my work: changed variable name\n",
    "def while_loop():\n",
    "    print(\"While loop output\\n\")\n",
    "    n = 0\n",
    "    while n < len(InfoDb):\n",
    "        record = InfoDb[n]\n",
    "        print_data(record)\n",
    "        n += 1\n",
    "    return\n",
    "\n",
    "while_loop()"
   ]
  },
  {
   "cell_type": "markdown",
   "metadata": {},
   "source": [
    "### Calling a function repeatedly - recursion\n",
    "This final technique achieves looping by calling itself repeatedly.\n",
    "- recursive_loop(i) function is primed with the value 0 on its activation with \"recursive_loop(0)\"\n",
    "- the last statement indented inside the if statement \"recursive_loop(i + 1)\" activates another call to the recursive_loop(i) function, each time i is increasing\n",
    "- ultimately the \"if i < len(InfoDb):\" will evaluate to false and the program ends"
   ]
  },
  {
   "cell_type": "code",
   "execution_count": 22,
   "metadata": {},
   "outputs": [
    {
     "name": "stdout",
     "output_type": "stream",
     "text": [
      "Recursive loop output\n",
      "\n",
      "Shreya Sapkal\n",
      "\t Residence: San Diego\n",
      "\t Birth Day: December 12\n",
      "\t Nicknames: Rey, Reyu, Shweya\n",
      "\t Cars: 2013-Ford Escape, 2020-Chrysler Pacifica\n",
      "\t Hobbies: Karate, Tennis, Reading, Writing, Drawing\n",
      "\n",
      "Jiya Savlani\n",
      "\t Residence: San Diego\n",
      "\t Birth Day: March 7\n",
      "\t Nicknames: Jiyu\n",
      "\t Cars: Lambo, Miata\n",
      "\t Hobbies: Reading, Watching Cobra Kai\n",
      "\n",
      "Vaishavi Jayashankar\n",
      "\t Residence: San Diego\n",
      "\t Birth Day: March 15\n",
      "\t Nicknames: Vaishavi-Chan, Vai, Vaiu\n",
      "\t Cars: Volkswagen, Chevrolet Traverse\n",
      "\t Hobbies: Music, Drawing\n",
      "\n"
     ]
    }
   ],
   "source": [
    "# recursion simulates loop incrementing on each call (n + 1) until exit condition is met\n",
    "def recursive_loop(i):\n",
    "    if i < len(InfoDb):\n",
    "        record = InfoDb[i]\n",
    "        print_data(record)\n",
    "        recursive_loop(i + 1)\n",
    "    return\n",
    "    \n",
    "print(\"Recursive loop output\\n\")\n",
    "recursive_loop(0)"
   ]
  },
  {
   "cell_type": "markdown",
   "metadata": {},
   "source": [
    "## Quiz using List of Dictionaries"
   ]
  },
  {
   "cell_type": "code",
   "execution_count": 9,
   "metadata": {},
   "outputs": [
    {
     "name": "stdout",
     "output_type": "stream",
     "text": [
      "Please enter your name\n",
      "Hello Shreya welcome to my quiz using a dictionary\n",
      "How many cars does Shreya have?\n",
      "a. 1\n",
      "b. 2\n",
      "c. 3\n",
      "d. none\n",
      "\t enter answer (a/b/c/d):\n",
      "\t b\n",
      "correct!\n",
      "What is Jiya's nickname?\n",
      "a. Jiyu\n",
      "b. Jiji\n",
      "c. Yaya\n",
      "d. She doesn't have a nickname\n",
      "\t enter answer (a/b/c/d):\n",
      "\t a\n",
      "correct!\n",
      "What are some of Shreya's hobbies?\n",
      "a. karate\n",
      "b. tennis\n",
      "c. drawing\n",
      "d. all of the above\n",
      "\t enter answer (a/b/c/d):\n",
      "\t d\n",
      "correct!\n",
      "Where does Shreya live?\n",
      "a. San Jose\n",
      "b. San Fransisco\n",
      "c. San Diego\n",
      "d. San Clemente\n",
      "\t enter answer (a/b/c/d):\n",
      "\t c\n",
      "correct!\n",
      "What is Jiya's favorite TV show?\n",
      "a. Miraculous Ladybug\n",
      "b. Cobra Kai\n",
      "c. Umbrella Academy\n",
      "d. Unlisted\n",
      "\t enter answer (a/b/c/d):\n",
      "\t b\n",
      "correct!\n",
      "Your final score is: 5\n"
     ]
    }
   ],
   "source": [
    "# keys will be questions with 4 options\n",
    "# values will be the correct answers\n",
    "\n",
    "q1 = \"\"\"How many cars does Shreya have?\n",
    "a. 1\n",
    "b. 2\n",
    "c. 3\n",
    "d. none\"\"\" # triple quotation marks allows you to write the question string in multiple lines\n",
    "\n",
    "q2 = \"\"\"What is Jiya's nickname?\n",
    "a. Jiyu\n",
    "b. Jiji\n",
    "c. Yaya\n",
    "d. She doesn't have a nickname\"\"\"\n",
    "\n",
    "q3 = \"\"\"What are some of Shreya's hobbies?\n",
    "a. karate\n",
    "b. tennis\n",
    "c. drawing\n",
    "d. all of the above\"\"\"\n",
    "\n",
    "q4 = \"\"\"Where does Shreya live?\n",
    "a. San Jose\n",
    "b. San Fransisco\n",
    "c. San Diego\n",
    "d. San Clemente\"\"\"\n",
    "\n",
    "q5 = \"\"\"What is Jiya's favorite TV show?\n",
    "a. Miraculous Ladybug\n",
    "b. Cobra Kai\n",
    "c. Umbrella Academy\n",
    "d. Unlisted\"\"\"\n",
    "\n",
    "questions = {q1:\"b\",q2:\"a\",q3:\"d\",q4:\"c\",q5:\"b\"} # strings are q1, q2, q3, etc, and the values are the correct answers\n",
    "score = 0\n",
    "\n",
    "name = input(\"Please enter your name:\")\n",
    "print(\"Please enter your name\")\n",
    "print(\"Hello\", name, \"welcome to my quiz using a dictionary\")\n",
    "\n",
    "for i in questions: # starting a for loop to print the questions\n",
    "    print(i) # i = key = question and its option\n",
    "    ans = input(\"enter the answer (a/b/c/d):\") # use input function to get a string input\n",
    "    print(\"\\t\", \"enter answer (a/b/c/d):\")\n",
    "    print(\"\\t\", ans)\n",
    "    if ans==questions[i]:\n",
    "        print(\"correct!\")\n",
    "        score = score+1\n",
    "    else:\n",
    "        print(\"incorrect!\")\n",
    "        \n",
    "print(\"Your final score is:\",score)"
   ]
  },
  {
   "cell_type": "markdown",
   "metadata": {},
   "source": [
    "## Reversing Data Output Order"
   ]
  },
  {
   "cell_type": "code",
   "execution_count": 3,
   "metadata": {},
   "outputs": [
    {
     "name": "stdout",
     "output_type": "stream",
     "text": [
      "[26, 25, 24, 23, 22, 21, 20]\n"
     ]
    }
   ],
   "source": [
    "# Reversing a list using slicing technique\n",
    "# copy of the list is made; the list isn't sorted in place\n",
    "def Reverse(lst): # defining variable: lst \n",
    "    new_lst = lst[::-1] \n",
    "    return new_lst\n",
    " \n",
    "lst = [20, 21, 22, 23, 24, 25, 26]\n",
    "print(Reverse(lst)) # reverse key"
   ]
  },
  {
   "cell_type": "markdown",
   "metadata": {},
   "source": [
    "## Hacks\n",
    "- Add a couple of records to the InfoDb\n",
    "- Try to do a for loop with an index\n",
    "- Pair Share code somethings creative or unique, with loops and data. Hints...\n",
    "    - Would it be possible to output data in a reverse order?\n",
    "    - Are there other methods that can be performed on lists?\n",
    "    - Could you create new or add to dictionary data set?  Could you do it with input?\n",
    "    - Make a quiz that stores in a List of Dictionaries."
   ]
  }
 ],
 "metadata": {
  "kernelspec": {
   "display_name": "Python 3.8.10 64-bit",
   "language": "python",
   "name": "python3"
  },
  "language_info": {
   "codemirror_mode": {
    "name": "ipython",
    "version": 3
   },
   "file_extension": ".py",
   "mimetype": "text/x-python",
   "name": "python",
   "nbconvert_exporter": "python",
   "pygments_lexer": "ipython3",
   "version": "3.8.10"
  },
  "orig_nbformat": 4,
  "vscode": {
   "interpreter": {
    "hash": "916dbcbb3f70747c44a77c7bcd40155683ae19c65e1c03b4aa3499c5328201f1"
   }
  }
 },
 "nbformat": 4,
 "nbformat_minor": 2
}
