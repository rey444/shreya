{
 "cells": [
  {
   "attachments": {},
   "cell_type": "markdown",
   "metadata": {},
   "source": [
    "# 3.12 - 3.13 Notes \n",
    "\n",
    "- title: 3.12 - 3.13 Notes\n",
    "- toc: true\n",
    "- branch: master\n",
    "- badges: true\n",
    "- comments: true\n",
    "- categories: [t2notes]"
   ]
  },
  {
   "attachments": {},
   "cell_type": "markdown",
   "metadata": {},
   "source": [
    "## 3.12: Calling Procedures Part 1\n",
    "\n",
    "- A **procedure** is a named group of programming instructions that may have parameters and return values.\n",
    "- Procedures are referred to by different names, such as **method** or **function**, depending on the programing language.\n",
    "- Parameters are input values of a procedure. **Arguments** specify the values of the parameters when procedure is called.\n",
    "- A procedure call interrupts the **sequential** execution of statements causing the program to execute the statements within the procedure before continuing. One the last statement in the procedure (or a return statement) has executed, flow or control is returned to the point immediately following where the procedure was called.\n",
    "\n",
    "## Calling Procedures Part 2\n",
    "\n",
    "- When calling procedures, it's important to take notice to whether it returns data, or a block of **statements.**\n",
    "- If the procedure just returns a block of statements, you call the procedure by referring to the procedure name, and **inputting** the arguments.\n",
    "- If the procedure returns some sort of data like a **boolean** or **value**, then you will assign that value to a variable\n",
    "\n",
    "`procName (arg1, arg2, ...) --> result`\n",
    "\n",
    "\n"
   ]
  },
  {
   "cell_type": "markdown",
   "metadata": {},
   "source": [
    "**Calling Procedures Practice**\n",
    "\n",
    "Add a procedure call to the code segment below that will convert the outside temperature to Celsius.\n",
    "Assume the Temperature outside is Fahrenheit. The procedure convertFahrenheit is intended to convert from Fahrenheit to Celsius.\n",
    "You will need to convert the pseudo code to Python\n"
   ]
  },
  {
   "cell_type": "code",
   "execution_count": 2,
   "metadata": {},
   "outputs": [
    {
     "name": "stdout",
     "output_type": "stream",
     "text": [
      "26.11111111111111\n"
     ]
    }
   ],
   "source": [
    "def convertFahrenheit (temperature): # function that converts the variable temperature to celsius\n",
    "    celsius = temperature - 32\n",
    "    celsius = celsius * 5/9 \n",
    "    return celsius\n",
    "\n",
    "outsideTemperature = input(\"What is the temperature outside?\")\n",
    "outsideTemperature = (convertFahrenheit(int(outsideTemperature))) # call the function and assign it to the variable \"outsideTemperature\". 'outsideTemperature' is the temperature argument\n",
    "print(outsideTemperature)\n"
   ]
  },
  {
   "attachments": {},
   "cell_type": "markdown",
   "metadata": {},
   "source": [
    "## 3.13: Developing Procedures\n",
    "\n",
    "- There are 2 different types of procedures- ones that return a value and those that simply execute a block of statements\n",
    "- Picking a **descriptive** name is important in case you revisit the code later on (separate words with capitals)\n",
    "- Steps of developing procedure: picking name, thinking of parameters (what data does the procedure need to know), making a flowchart or writing procedure in pseudocode, and actually developing the procedure.\n"
   ]
  },
  {
   "cell_type": "markdown",
   "metadata": {},
   "source": [
    "**Practice Writing Procedures**"
   ]
  },
  {
   "cell_type": "code",
   "execution_count": 10,
   "metadata": {},
   "outputs": [
    {
     "name": "stdout",
     "output_type": "stream",
     "text": [
      "How many points did you get on your most recent quiz attempt, out of 40?\n",
      "38/40\n",
      "Your new grade is 95.0\n"
     ]
    }
   ],
   "source": [
    "# Quiz out of 40 Points\n",
    "quizGrade = 35\n",
    "\n",
    "def changeQuizGrade (currentPoints):\n",
    "    currentGrade = currentPoints / 40\n",
    "    currentGrade = currentGrade * 100\n",
    "    return currentGrade\n",
    "\n",
    "newPoints = int(input(print(\"How many points did you get on your most recent quiz attempt, out of 40?\")))\n",
    "print(str(newPoints) + \"/40\")\n",
    "newGrade = (changeQuizGrade(int(newPoints)))\n",
    "\n",
    "if newPoints > quizGrade:\n",
    "    newQuizGrade = newGrade\n",
    "    print(\"Your new grade is \" + str(newQuizGrade))\n",
    "else:\n",
    "    print(\"Your quiz score is still \" + str(quizGrade))"
   ]
  },
  {
   "attachments": {},
   "cell_type": "markdown",
   "metadata": {},
   "source": [
    "## Procedural Abstraction\n",
    "\n",
    "- One type of abstraction is **procedural** abstraction which provides a name for a process and allows a procedure to be used only knowing what it does and not how it does it\n",
    "    - This is very helpful in **managing complexity** in a program\n",
    "- Subdivision of a program into separate subprograms is called **modularity**\n",
    "- A procedural abstraction may **extract** shared features to generalize functionality instead of duplicating code. This allows for program reuse, which helps manage complexity\n",
    "- When a pre-written procedure is called, you don’t necessarily need to know the details of this, just what it does and how to call it\n",
    "- Simply, procedural abstraction is naming and calling a **prewritten** procedure\n",
    "- Making sure to include the right arguments so the **procedure** can do what it's supposed to do is crucial\n",
    "\n"
   ]
  },
  {
   "attachments": {},
   "cell_type": "markdown",
   "metadata": {},
   "source": [
    "**Practice Procedural Abstraction**\n",
    "\n",
    "Determine the outcome of this code segment:\n",
    "\n",
    " `quizAverage = 74`\n",
    "\n",
    " `currentScore = 35`\n",
    "\n",
    " `totalPoints = 40`\n",
    "\n",
    " `PROCEDURE updateQuiz(quizAverage, currentScore, totalPoints)`\n",
    "\n",
    " `tempAverage <-- currentScore / totalPoints`\n",
    "\n",
    " `tempAverage <-- tempAverage * 100`\n",
    "\n",
    " `if tempAverage > quizAverage`\n",
    "\n",
    " `quizAverage <-- tempAverage`\n",
    " \n",
    " `return quizAverage`\n",
    "\n",
    "The output should be 87.5"
   ]
  },
  {
   "attachments": {},
   "cell_type": "markdown",
   "metadata": {},
   "source": [
    "## Updating the Contents of a Procedure\n",
    "\n",
    "- It is possible to simply update the contents of the procedure (possibly with another procedure) if you know how to call that specific procedure\n",
    "- For example, we are able to update the procedure updateQuiz with the round() procedure by simply knowing how to call it:\n",
    "\n",
    "`quizAverage = 74`\n",
    "\n",
    " `currentScore = 35`\n",
    "\n",
    " `totalPoints = 40`\n",
    "\n",
    " `PROCEDURE updateQuiz(quizAverage, currentScore, totalPoints)`\n",
    "\n",
    " `tempAverage <-- currentScore / totalPoints`\n",
    "\n",
    " `tempAverage <-- tempAverage * 100`\n",
    "\n",
    " `tempAverage <-- round(tempAverage)` <---------- updating the procedure updateQuiz using round()\n",
    "\n",
    " `if tempAverage > quizAverage`\n",
    "\n",
    " `quizAverage <-- tempAverage`\n",
    " \n",
    " `return quizAverage`\n"
   ]
  }
 ],
 "metadata": {
  "kernelspec": {
   "display_name": "Python 3.9.12 ('base')",
   "language": "python",
   "name": "python3"
  },
  "language_info": {
   "codemirror_mode": {
    "name": "ipython",
    "version": 3
   },
   "file_extension": ".py",
   "mimetype": "text/x-python",
   "name": "python",
   "nbconvert_exporter": "python",
   "pygments_lexer": "ipython3",
   "version": "3.9.12"
  },
  "orig_nbformat": 4,
  "vscode": {
   "interpreter": {
    "hash": "d4f40b15e6133daba1938c03094ab5050614a1b04d93d14e71faa6c0eef215a6"
   }
  }
 },
 "nbformat": 4,
 "nbformat_minor": 2
}
