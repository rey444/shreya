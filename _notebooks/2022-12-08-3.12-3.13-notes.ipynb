{
 "cells": [
  {
   "cell_type": "code",
   "execution_count": null,
   "metadata": {},
   "outputs": [],
   "source": []
  },
  {
   "cell_type": "markdown",
   "metadata": {},
   "source": [
    "## Calling Procedures Part 1\n",
    "\n",
    "- A **procedure** is a named group of programming instructions that may have parameters and return values.\n",
    "- Procedures are referred to by different names, such as **method** or **function**, depending on the programing language.\n",
    "- Parameters are input values of a procedure. **Arguments** specify the values of the parameters when procedure is called.\n",
    "- A procedure call interrupts the **sequential** execution of statements causing the program to execute the statements within the procedure before continuing. One the last statement in the procedure (or a return statement) has executed, flow or control is returned to the point immediately following where the procedure was called.\n",
    "\n",
    "## Calling Procedures Part 2\n",
    "\n",
    "- When calling procedures, it's important to take notice to whether it returns data, or a block of **statements.**\n",
    "- If the procedure just returns a block of statements, you call the procedure by referring to the procedure name, and **inputting** the arguments.\n",
    "- If the procedure returns some sort of data like a **boolean** or **value**, then you will assign that value to a variable\n",
    "\n",
    "\n"
   ]
  },
  {
   "cell_type": "markdown",
   "metadata": {},
   "source": [
    "**Calling Procedures Practice**\n",
    "\n",
    "Add a procedure call to the code segment below that will convert the outside temperature to Celsius.\n",
    "Assume the Temperature outside is Fahrenheit. The procedure convertFahrenheit is intended to convert from Fahrenheit to Celsius.\n",
    "You will need to convert the pseudo code to Python\n"
   ]
  },
  {
   "cell_type": "code",
   "execution_count": 15,
   "metadata": {},
   "outputs": [
    {
     "name": "stdout",
     "output_type": "stream",
     "text": [
      "What is the temperature outside?\n",
      "0.0\n"
     ]
    }
   ],
   "source": [
    "def convertToCelsius (temperature):\n",
    "    celsius = temperature - 32\n",
    "    celsius = celsius * 5/9 \n",
    "    print(celsius)\n",
    "\n",
    "print(\"What is the temperature outside?\")\n",
    "outsideTemperature = input()\n",
    "outsideTemperature = (convertToCelsius(int(outsideTemperature)))\n"
   ]
  },
  {
   "cell_type": "markdown",
   "metadata": {},
   "source": [
    "## Developing Procedures\n",
    "\n",
    "- There are 2 different types of procedures- ones that return a value and those that simply execute a block of statements\n",
    "- Picking a **descriptive** name is important in case you revisit the code later on (separate words with capitals)\n",
    "- Steps of developing procedure: picking name, thinking of parameters (what data does the procedure need to know), making a flowchart or writing procedure in pseudocode, and actually developing the procedure.\n"
   ]
  },
  {
   "cell_type": "markdown",
   "metadata": {},
   "source": [
    "**Practice Writing Procedures**"
   ]
  },
  {
   "cell_type": "code",
   "execution_count": 32,
   "metadata": {},
   "outputs": [
    {
     "name": "stdout",
     "output_type": "stream",
     "text": [
      "How many points did the student get on the most recent quiz?\n",
      "What is the student's current quiz grade?\n"
     ]
    },
    {
     "ename": "TypeError",
     "evalue": "'>=' not supported between instances of 'NoneType' and 'int'",
     "output_type": "error",
     "traceback": [
      "\u001b[0;31m---------------------------------------------------------------------------\u001b[0m",
      "\u001b[0;31mTypeError\u001b[0m                                 Traceback (most recent call last)",
      "\u001b[1;32m/home/shreyasapkal/shreya-2/_notebooks/2022-12-08-3.12-3.13-notes.ipynb Cell 7\u001b[0m in \u001b[0;36m<cell line: 13>\u001b[0;34m()\u001b[0m\n\u001b[1;32m     <a href='vscode-notebook-cell://wsl%2Bubuntu/home/shreyasapkal/shreya-2/_notebooks/2022-12-08-3.12-3.13-notes.ipynb#X10sdnNjb2RlLXJlbW90ZQ%3D%3D?line=9'>10</a>\u001b[0m \u001b[39mprint\u001b[39m(\u001b[39m\"\u001b[39m\u001b[39mWhat is the student\u001b[39m\u001b[39m'\u001b[39m\u001b[39ms current quiz grade?\u001b[39m\u001b[39m\"\u001b[39m)\n\u001b[1;32m     <a href='vscode-notebook-cell://wsl%2Bubuntu/home/shreyasapkal/shreya-2/_notebooks/2022-12-08-3.12-3.13-notes.ipynb#X10sdnNjb2RlLXJlbW90ZQ%3D%3D?line=10'>11</a>\u001b[0m quizGrade \u001b[39m=\u001b[39m \u001b[39mint\u001b[39m(\u001b[39minput\u001b[39m())\n\u001b[0;32m---> <a href='vscode-notebook-cell://wsl%2Bubuntu/home/shreyasapkal/shreya-2/_notebooks/2022-12-08-3.12-3.13-notes.ipynb#X10sdnNjb2RlLXJlbW90ZQ%3D%3D?line=12'>13</a>\u001b[0m \u001b[39mif\u001b[39;00m (currentGrade \u001b[39m>\u001b[39;49m\u001b[39m=\u001b[39;49m quizGrade):\n\u001b[1;32m     <a href='vscode-notebook-cell://wsl%2Bubuntu/home/shreyasapkal/shreya-2/_notebooks/2022-12-08-3.12-3.13-notes.ipynb#X10sdnNjb2RlLXJlbW90ZQ%3D%3D?line=13'>14</a>\u001b[0m     quizGrade \u001b[39m=\u001b[39m currentGrade\n\u001b[1;32m     <a href='vscode-notebook-cell://wsl%2Bubuntu/home/shreyasapkal/shreya-2/_notebooks/2022-12-08-3.12-3.13-notes.ipynb#X10sdnNjb2RlLXJlbW90ZQ%3D%3D?line=14'>15</a>\u001b[0m     \u001b[39mprint\u001b[39m(currentGrade)\n",
      "\u001b[0;31mTypeError\u001b[0m: '>=' not supported between instances of 'NoneType' and 'int'"
     ]
    }
   ],
   "source": [
    "# Quiz out of 40 Points\n",
    "\n",
    "def changeQuizGrade (currentPoints):\n",
    "    currentGrade = currentPoints / 40\n",
    "    currentGrade = currentGrade * 100\n",
    "\n",
    "print(\"How many points did the student get on the most recent quiz?\")\n",
    "currentPoints = int(input())\n",
    "currentGrade = (changeQuizGrade(int(currentPoints)))\n",
    "print(\"What is the student's current quiz grade?\")\n",
    "quizGrade = int(input())\n",
    "\n",
    "if (currentGrade >= quizGrade):\n",
    "    quizGrade = currentGrade\n",
    "    print(currentGrade)"
   ]
  }
 ],
 "metadata": {
  "kernelspec": {
   "display_name": "Python 3.9.12 ('base')",
   "language": "python",
   "name": "python3"
  },
  "language_info": {
   "codemirror_mode": {
    "name": "ipython",
    "version": 3
   },
   "file_extension": ".py",
   "mimetype": "text/x-python",
   "name": "python",
   "nbconvert_exporter": "python",
   "pygments_lexer": "ipython3",
   "version": "3.9.12"
  },
  "orig_nbformat": 4,
  "vscode": {
   "interpreter": {
    "hash": "d4f40b15e6133daba1938c03094ab5050614a1b04d93d14e71faa6c0eef215a6"
   }
  }
 },
 "nbformat": 4,
 "nbformat_minor": 2
}
