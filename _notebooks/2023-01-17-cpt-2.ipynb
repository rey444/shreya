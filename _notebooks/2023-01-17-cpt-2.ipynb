{
 "cells": [
  {
   "attachments": {},
   "cell_type": "markdown",
   "metadata": {},
   "source": [
    "# CPT Scoring Assignment 2\n",
    "\n",
    "- title: CPT Scoring Assignment 2\n",
    "- toc: true\n",
    "- branch: master\n",
    "- badges: true\n",
    "- comments: true\n",
    "- categories: [t2]"
   ]
  },
  {
   "attachments": {},
   "cell_type": "markdown",
   "metadata": {},
   "source": [
    "| Reporting Category | Student 1 Score | Collegeboard Score | Comments |\n",
    "|-|-|-|-|\n",
    "| Program Purpose and Function | 0 | 0 | <ul>video shows input, program functionality, and output</ul><ul>written description program functionality doesn't match what's in the video</ul><ul>doesn't give thorough explanation of program purpose/creativity that went into the idea</ul><ul>does not state intended purpose of the program</ul><ul>written response doesn't describe the functionality shown in the video</ul>|\n",
    "| Data Abstraction | 0 | 0 | <ul>one program code that shows how data has been stored in this list (or another collection type).</ul><ul>does not have one program code that shows the data in this same list being used as part of fulfilling the program’s purpose.</ul><ul>response describes the data contained in animalList, but also describes the images from another life, animalImages and states that the images are in the list</ul><ul>no descriptive captions and photos are provided in the writeup</ul> |\n",
    "| Managing Complexity | 0 | 0 | <ul>does not include a program code segment that uses a list to manage complexity</ul><ul>code segments show data being stores in a list, but neither contain code using a list</ul><ul> does not describe how the list helps manage complexity</ul> |\n",
    "| Procedural Abstraction | 0 | 0 | <ul>includes a student developed procedure with one explicit parameter</ul><ul>response includes a call to the procedure in another code segment using an argument</ul><ul> does not describe how the written precedure contributes to the overall functionality</ul> |\n",
    "| Algorithm Implementation | 0 | 0 | <ul>includes a program code segment of a student-developed algorithm that includes sequencing and iteration (a for loop), and selection (an if statement)</ul><ul> doesn't explain how the algorithm works in detail; someone else wouldn't be able to read it and recreate it</ul> |\n",
    "| Testing | 1 | 1 | <ul>describes two calls to the selected procedure identified in written response 3c. Each call must pass a different argument(s) that causes a different segment of code in the algorithm to execute.</ul><ul> describes the condition(s) being tested by each call to the procedure: The response states, “The condition tested in the first call is when evaluateGuess is equal to one of the animals in animalList.” The response states the other condition being tested is “when evalulateGuess is not equal to one of the animals in animalList.”</ul><ul>identifies the results of each call: “Result of the first call was ‘You got a point!’,” and “Result of the second call was ‘Thats 1 strike’.” </ul> |"
   ]
  },
  {
   "attachments": {},
   "cell_type": "markdown",
   "metadata": {},
   "source": [
    "| Reporting Category | Student 2 Score | Collegeboard Score | Comments |\n",
    "|-|-|-|-|\n",
    "| Program Purpose and Function | 1 | 1 | <ul>video shows input, program functionality, and output</ul><ul>written description program functionality matches what's in the video</ul><ul>describes the purpose of the program as \"creative expression\"</ul><ul>describes the input: “The input of both typing words to insert into the poem and a typing of yes or no to set articles or no articles as well as number of desired poems.” </ul><ul>describes the output: \"generated all results in the output of a certain specified number of poems according to those words and specifications\"</ul> <ul> response describes the exact functionality shown in the video </ul> |\n",
    "| Data Abstraction | 1 | 1 | <ul>two distinct code segments are provided</ul><ul>first segment shoes data being stored in identified lists</ul><ul>nsecond segment shows the data being accessed from the identified lists under a new name since it passed as a parameter: name of the list is identified as nounList, even though it's referred to as wordList when it's passed through the selectWord procedure</ul> <ul> response identifies what's stores in the list </ul> |\n",
    "| Managing Complexity | 1 | 1 | <ul>includes code that uses lists of words to manage complexity when generating poetry</ul><ul>explains how the code would be written differently without the list, and how the list helps manage complexity</ul> |\n",
    "| Procedural Abstraction | 1 | 1 | <ul>includes a student developed procedure with 4 explicit parameters</ul><ul>describes the functionality of the procedure: \"it is putting together the final selection of poems\" </ul><ul> describes how the procedure contributes to the overall program by stating it's used in tandem with user inputs</ul> |\n",
    "| Algorithm Implementation | 0 | 1 | <ul>includes a program code segment of a student-developed algorithm that includes sequencing and selection (if statement), and iteration (while loop)</ul><ul> expllains how the algorithm in the procedure works in detail</ul> |\n",
    "| Testing | 1 | 1 | <ul>describes two calls to the selected procedure to result in different code being executed, varying the argument for the last parameter</ul><ul> describes the condition(s) being tested by each call to the procedure</ul><ul>identifies the results of each call</ul> |"
   ]
  },
  {
   "attachments": {},
   "cell_type": "markdown",
   "metadata": {},
   "source": [
    "| Reporting Category | Student 3 Score | Collegeboard Score | Comments |\n",
    "|-|-|-|-|\n",
    "| Program Purpose and Function | 1 | 0 | <ul>video shows input, program functionality, and output</ul><ul>written description program functionality matches what's in the video</ul><ul>describes the purpose of the program, but not its function</ul><ul>describes the input</ul><ul>describes the output</ul> <ul> response describes the exact functionality shown in the video </ul> <ul> collegeboard scored 0 because the response appparently didn't sufficiently describe the function of the program |\n",
    "| Data Abstraction | 1 | 1 | <ul>two distinct code segments are provided</ul><ul>first segment shoes data being stored in identified lists</ul><ul>second segment shows the data being accessed from the identified lists in a loop via a parameter that is set to the identified list</ul> <ul> response identifies what's stores in the list </ul> |\n",
    "| Managing Complexity | 1 | 1 | <ul>includes a list that combines 6 rankings and an image URL for a single character into one collection to pass to the function that determines a winner</ul><ul>explains how the code would be written differently without the list, and how the list helps manage complexity</ul> |\n",
    "| Procedural Abstraction | 1 | 1 | <ul>includes a student developed procedure with 2 explicit parameters</ul><ul>includes another code segment with a call to the procedure </ul><ul> describes how the procedure contributes to the overall program</ul> |\n",
    "| Algorithm Implementation | 1 | 1 | <ul>includes a program code segment of a student-developed algorithm that includes sequencing and selection (if statement), and iteration (for loop)</ul><ul> expllains how the algorithm in the procedure works in detail</ul> |\n",
    "| Testing | 1 | 1 | <ul>describes two calls to the selected procedure to result in different code being executed, varying the argument for the last parameter</ul><ul> describes the condition(s) being tested by each call to the procedure</ul><ul>identifies the results of each call</ul> |"
   ]
  },
  {
   "attachments": {},
   "cell_type": "markdown",
   "metadata": {},
   "source": [
    "| Reporting Category | Student 4 Score | Collegeboard Score | Comments |\n",
    "|-|-|-|-|\n",
    "| Program Purpose and Function | 1 | 1 | <ul>video shows input, program functionality, and output</ul><ul>written description program functionality matches what's in the video</ul><ul>describes the purpose of the program and its function</ul><ul>describes the input</ul><ul>describes the output</ul> <ul> response describes the exact functionality shown in the video </ul> |\n",
    "| Data Abstraction | 1 | 0 | <ul>two distinct code segments are provided</ul><ul>first segment shoes data being stored in a list named guesses</ul><ul>second segment doesn't show the data stored in the list being used--only the length of the list is used </ul> |\n",
    "| Managing Complexity | 1 | 0 | <ul>includes a program code segment that uses a list, but the list isn't used to manage complexity</ul> <ul> list merely acts as a counter; can be replaced with a single counter variable </ul> <ul>does not explain how the code would be written differently without the list, and how the list helps manage complexity</ul> |\n",
    "| Procedural Abstraction | 1 | 1 | <ul>includes a student developed procedure with 1 explicit parameter</ul><ul>includes another code segment with a call to the procedure </ul><ul> describes the functionality of the procedure, and how the procedure contributes to the overall program</ul> |\n",
    "| Algorithm Implementation | 1 | 1 | <ul>includes a program code segment of a student-developed algorithm that includes sequencing and selection (if statement), and iteration (a repeat loop)</ul><ul> explains how the algorithm in the procedure works in detail</ul> |\n",
    "| Testing | 1 | 0 | <ul>gives the conditions being tested for the cases rather than two different arguments that cause a different segment of the code to execute</ul><ul> arguments should be specific values used in the call to the procedure</ul><ul>describes the conditions being tested for the cases & what the result would be for each condition </ul> |"
   ]
  },
  {
   "attachments": {},
   "cell_type": "markdown",
   "metadata": {},
   "source": [
    "## Reflection\n",
    "\n",
    "> What our program will need to meet all CPT requirements:\n",
    "\n",
    "1. clear video showing input, program functionailty, and output\n",
    "2. a clear description of the purpose of our project (why we chose to make it), and functionality/what it actually does\n",
    "3. explanation of the exact functionality that's shown in the video\n",
    "4. code that shows data being stored in a list\n",
    "5. code that shows the data stored in the list being used\n",
    "6. explanation of how the list is being used to manage complexity\n",
    "7. an explanation of how the code might be written differently without the list\n",
    "8. needs a procedure and a call to the procedure\n",
    "9. a description of the procedure and how it contributes to the overall program\n",
    "10. an algorithm that uses sequencing, selection, and iteration\n",
    "11. an explanation of how the algorithm in the procedure works\n",
    "12. gives two different arguments that cause different segments of the code to execute\n",
    "13. describe the conditions being tested for the arguments and what the results would be for each condition"
   ]
  }
 ],
 "metadata": {
  "kernelspec": {
   "display_name": "base",
   "language": "python",
   "name": "python3"
  },
  "language_info": {
   "name": "python",
   "version": "3.9.12"
  },
  "orig_nbformat": 4,
  "vscode": {
   "interpreter": {
    "hash": "d4f40b15e6133daba1938c03094ab5050614a1b04d93d14e71faa6c0eef215a6"
   }
  }
 },
 "nbformat": 4,
 "nbformat_minor": 2
}
