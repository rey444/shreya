{
 "cells": [
  {
   "attachments": {},
   "cell_type": "markdown",
   "metadata": {},
   "source": [
    "# Simulations and SQLite Lesson\n",
    "> Trimester 3 Simulations and SQLite Lesson\n",
    "- toc: true\n",
    "- categories: [t3lessons]\n",
    "- week: 31"
   ]
  },
  {
   "cell_type": "markdown",
   "metadata": {},
   "source": [
    "# Review Topics\n",
    "\n",
    "All of the topics below are things that have been heavily covered and used throughout the class. We will mostly be focusing on more complicated uses and mechanics of these topics.\n",
    "\n",
    "## Lists\n",
    "- What are Lists?\n",
    "    - Lists are an ordered sequence of elements, where each element is a variable\n",
    "    - Unlike dictionaries, lists' keys are all integers that describe the order of the list\n",
    "\n",
    "Some examples of lists:\n",
    "-  Playlist of songs\n",
    "-  names of students in a class\n",
    "-  contacts on your phone\n",
    "\n",
    "- Each element of a string is referenced by an index (which is a number) and they generally start 0 but for the AP Exam it starts at 1.\n",
    "    - AP Exam: 1,2,3,4 etc.\n",
    "    - Python:  0,1,2,3 etc.\n",
    "\n",
    "**How do lists Manage Complexity of a program?**\n",
    "- We may not need as many variables. For example:\n",
    "    - One Variable that holds all students would be better than having a variable for EACH student\n",
    "    - There can also be a list of test scores so if they need to be curved then the same calculation can be applied to the list (that has all the students) instead of doing the calculations one at a time"
   ]
  },
  {
   "attachments": {},
   "cell_type": "markdown",
   "metadata": {},
   "source": [
    "Answer the following questions about the code block below:\n",
    "\n",
    "- Why do you think lists are helpful? What word does College Board like to use to describe the function of lists?\n",
    "\n",
    "Lists are helpful because they prevent you from having to make a bunch of variables. You can also perform operations on all the elements in a list all at once."
   ]
  },
  {
   "cell_type": "code",
   "execution_count": 1,
   "metadata": {},
   "outputs": [
    {
     "name": "stdout",
     "output_type": "stream",
     "text": [
      "name Sri Kotturi <class 'str'>\n",
      "age 16 <class 'int'>\n",
      "score 90.0 <class 'float'>\n",
      "\n",
      "langs ['Python', 'JavaScript', 'Java', 'Bash', 'html'] <class 'list'>\n",
      "- langs[2] Java <class 'str'>\n",
      "\n",
      "person {'name': 'Sri Kotturi', 'age': 16, 'score': 90.0, 'langs': ['Python', 'JavaScript', 'Java', 'Bash', 'html']} <class 'dict'>\n",
      "- person[\"name\"] Sri Kotturi <class 'str'>\n"
     ]
    }
   ],
   "source": [
    "# Sample of Python Variables\n",
    "\n",
    "# variable of type string\n",
    "name = \"Sri Kotturi\"\n",
    "print(\"name\", name, type(name))\n",
    "\n",
    "# variable of type integer\n",
    "age = 16\n",
    "print(\"age\", age, type(age))\n",
    "\n",
    "# variable of type float\n",
    "score = 90.0\n",
    "print(\"score\", score, type(score))\n",
    "\n",
    "print()\n",
    "\n",
    "# variable of type list (many values in one variable)\n",
    "langs = [\"Python\", \"JavaScript\", \"Java\", \"Bash\", \"html\"]\n",
    "print(\"langs\", langs, type(langs))\n",
    "print(\"- langs[2]\", langs[2], type(langs[2]))\n",
    "\n",
    "print()\n",
    "\n",
    "# variable of type dictionary (a group of keys and values)\n",
    "person = {\n",
    "    \"name\": name,\n",
    "    \"age\": age,\n",
    "    \"score\": score,\n",
    "    \"langs\": langs\n",
    "}\n",
    "print(\"person\", person, type(person))\n",
    "print('- person[\"name\"]', person[\"name\"], type(person[\"name\"]))"
   ]
  },
  {
   "attachments": {},
   "cell_type": "markdown",
   "metadata": {},
   "source": [
    "## Mathematical Expressions\n",
    "\n",
    "What is the output of the cell below? What Mathematical Expressions do you see being used? (List them below.)\n",
    "\n",
    "- The output of the cell below is 10\n",
    "- I see the mathematical operations of addition and division being used."
   ]
  },
  {
   "cell_type": "code",
   "execution_count": 2,
   "metadata": {},
   "outputs": [
    {
     "name": "stdout",
     "output_type": "stream",
     "text": [
      "10\n"
     ]
    }
   ],
   "source": [
    "grade1 = 10\n",
    "grade2 =  grade1 \n",
    "\n",
    "average_grade = (grade1 + grade2) // 2 #what are these two slashes?\n",
    "\n",
    "print(average_grade)"
   ]
  },
  {
   "attachments": {},
   "cell_type": "markdown",
   "metadata": {},
   "source": [
    "What is the value of num1, num2, and num3? Explain how each number ended up what it was.\n",
    "\n",
    "- num1 = 4096\n",
    "    - num1 was num2 (4) to the power of num3 (6), or 4^6. The result of 4^6 is 4096.\n",
    "- num3 = 1\n",
    "    - `%` is the modulus operator in python\n",
    "    - it returns the remainder of dividing the left hand operand by the right hand operand\n",
    "    - num3 is set equal to the remainder of num1 / 5\n",
    "    - 4096 / 5 = 819 R 1, therefore, num3 = 1\n",
    "- num2 = 455\n",
    "    - num2 is the integer value num1 and num3 added together and then divided by 9\n",
    "    - `//` basically divides two numbers, and it rounds the quotient to the nearest integer if there is a remainder\n",
    "    - num1 + num3 = 4096 + 1 = 4097\n",
    "    - 4097 / 9 = 455.2222\n",
    "    - The nearest integer to 455.2222 is 455. Therefore, num2 = 455"
   ]
  },
  {
   "cell_type": "code",
   "execution_count": 1,
   "metadata": {},
   "outputs": [
    {
     "name": "stdout",
     "output_type": "stream",
     "text": [
      "4096\n",
      "455\n",
      "1\n"
     ]
    }
   ],
   "source": [
    "num1 = 2\n",
    "num2 = 4\n",
    "num3 = 6\n",
    "num1 = num2 ** num3\n",
    "num3 = num1 % 5\n",
    "num2 = (num1 + num3) // 9\n",
    "\n",
    "print(num1)\n",
    "print(num2)\n",
    "print(num3)"
   ]
  },
  {
   "attachments": {},
   "cell_type": "markdown",
   "metadata": {},
   "source": [
    "# Selection\n",
    "Selection refers to the process of making decisions in a program based on certain conditions. It is normally done with conditional statements.\n",
    "\n",
    "## Conditionals\n",
    "What is a conditional?:\n",
    "- Statement that allows code to execute different instructions if a certain condition is true or false\n",
    "- Allows program to make decisions based on data and input\n",
    "\n",
    "What are the main types of conditional statements?:\n",
    "- if\n",
    "- elif\n",
    "- else\n",
    "\n",
    "### If statements\n",
    "- The if statement is used to check if a certain condition is true. The condition can be any expression that evaulates to a boolean value, True or False. If the condition is True, then it executes a code block. \n",
    "- If (condition) then (consequence)\n",
    "- Example:"
   ]
  },
  {
   "cell_type": "code",
   "execution_count": 3,
   "metadata": {},
   "outputs": [
    {
     "name": "stdout",
     "output_type": "stream",
     "text": [
      "x is positive\n"
     ]
    }
   ],
   "source": [
    "x = int(input(\"Enter a number\"))\n",
    "if x > 0: # if condition, check if this is true of false\n",
    "    print(\"x is positive\") # code that will execute if condition is met"
   ]
  },
  {
   "attachments": {},
   "cell_type": "markdown",
   "metadata": {},
   "source": [
    "### Else\n",
    "- The else statement executes a code block when the if condition is False. \n",
    "- If (condition) then (consequence A), else (consequence B)\n",
    "\n",
    "### Elif\n",
    "- The elif statement can check multiple conditions in a sequence, and execute a certain block of code if any of the conditions are true. \n",
    "- If (condition) then (consequence A), elif (condition) then (consequence B), else (consequence C)\n",
    "\n",
    "- Example adding onto the code from before to take negative numbers and 0 into account"
   ]
  },
  {
   "cell_type": "code",
   "execution_count": 4,
   "metadata": {},
   "outputs": [
    {
     "name": "stdout",
     "output_type": "stream",
     "text": [
      "x is positive\n"
     ]
    }
   ],
   "source": [
    "x = int(input(\"Enter a number, x:\"))\n",
    "if x > 0: # if condition, check if this is true of false\n",
    "    print(\"x is positive\") # code that will execute if condition is met\n",
    "elif x < 0: # if previous condition not true... elif condition, check if this is true of false\n",
    "    print(\"x is negative\")# code that will execute if condition is met\n",
    "else: # everything else, in this case it is if x == 0 \n",
    "    print(\"x is zero\") # only executes if all previous conditions are not met"
   ]
  },
  {
   "attachments": {},
   "cell_type": "markdown",
   "metadata": {},
   "source": [
    "## Nested Conditionals\n",
    "What is a nested conditional?:\n",
    "- Conditional statement inside another conditional statement\n",
    "- Allows to check for more complex conditions where one condition depends on another\n",
    "\n",
    "### Nested Conditional Statements\n",
    "- Example"
   ]
  },
  {
   "cell_type": "code",
   "execution_count": null,
   "metadata": {},
   "outputs": [],
   "source": [
    "x = int(input(\"Enter a number, x:\"))\n",
    "if x % 2 == 0:\n",
    "    print(\"x is even divisible by 2\")\n",
    "    # only ever checks is x is divisble by 3 if x is even. nested conditional\n",
    "    if x % 3 == 0:\n",
    "        print(\"x is divisible by 3\")\n",
    "    else:\n",
    "        print(\"x is not divisible by 3\")\n",
    "else:\n",
    "    print(\"x is odd\")"
   ]
  },
  {
   "attachments": {},
   "cell_type": "markdown",
   "metadata": {},
   "source": [
    "## Indentation\n",
    "When using conditionals and nested conditionals in Python, it is important to pay attention to the indentation in the code. **The code inside the if, elif, and else blocks must be indented so they are nested wihtin the outer statements.** This way, Python knows which code belongs to which block. "
   ]
  },
  {
   "attachments": {},
   "cell_type": "markdown",
   "metadata": {},
   "source": [
    "## Binary Search\n",
    "What is binary search and what is it used for?\n",
    "- Searching algorithm\n",
    "- Find and select a specific element in a sorted list of elements\n",
    "\n",
    "How does binary search work?\n",
    "- Repeatedly divides the search interval in half to find the middle element and compares the middle value to the target value, if not the same then it continues on to either the lower or upper half\n",
    "- Eliminate half of the remaining search interval elements each time\n",
    "- Efficient way to search for element in large dataset\n",
    "\n",
    "What is the time complexity and why?\n",
    "- O(log(N))\n",
    "- The maximum number of iterations is the amount of times the list can be divided in half until it reaches 1 number\n",
    "- Dividing by 2, so it is log2(N), logarigthm of n base 2\n",
    "\n",
    "- You may recognize the example below from the binary lesson last Friday"
   ]
  },
  {
   "cell_type": "code",
   "execution_count": null,
   "metadata": {},
   "outputs": [],
   "source": [
    "import random\n",
    "\n",
    "def binary_search_game():\n",
    "    low = 1\n",
    "    high = 100\n",
    "    target = random.randint(low, high)\n",
    "\n",
    "    while True:\n",
    "        guess = (low + high) // 2\n",
    "        print(f\"Is your number {guess}?\")\n",
    "        response = input(\"Enter 'higher', 'lower', or 'yes': \")\n",
    "\n",
    "        # conditional statements to check target number and guess\n",
    "        if response == 'yes':\n",
    "            print(f\"I guessed your number {guess}!\")\n",
    "            break\n",
    "        elif response == 'higher':\n",
    "            low = guess + 1\n",
    "        elif response == 'lower':\n",
    "            high = guess - 1\n",
    "        else:\n",
    "            print(\"Invalid input, please enter 'higher', 'lower', or 'yes'.\")\n",
    "\n",
    "binary_search_game()"
   ]
  },
  {
   "cell_type": "markdown",
   "metadata": {},
   "source": [
    "## Quick Hack\n",
    "\n",
    "Write a program using conditionals and nested conditionals\n",
    "- Ideas: Quiz, game (rock paper scissors, guess number), etc"
   ]
  },
  {
   "cell_type": "code",
   "execution_count": 8,
   "metadata": {},
   "outputs": [
    {
     "name": "stdout",
     "output_type": "stream",
     "text": [
      "It is 12 o'clock. Good afternoon!\n"
     ]
    }
   ],
   "source": [
    "# YOUR PROGRAM WITH CONDITIONALS AND NESTED CONDITIONALS\n",
    "\n",
    "def greeter():\n",
    "\n",
    "    while True:\n",
    "        time = int(input(\"What time is it? Please input your response as a whole number between 0 and 23, in military time.\"))\n",
    "\n",
    "        # conditional statements to check time\n",
    "        if time < 12:\n",
    "            print(f\"It is {time} o'clock. Good morning!\")\n",
    "            break\n",
    "        elif time < 18:\n",
    "            print(f\"It is {time} o'clock. Good afternoon!\")\n",
    "            break\n",
    "        else:\n",
    "            print(f\"It is {time} o'clock. Good evening!\")\n",
    "            break\n",
    "\n",
    "greeter()"
   ]
  },
  {
   "attachments": {},
   "cell_type": "markdown",
   "metadata": {},
   "source": [
    "# Introduction to Algorithms\n",
    "- an algorithm is a set of instructions that describes how to solve a problem or perform a specific task using a computer program. \n",
    "- It is a precise sequence of computational steps that take an input and produce an output\n",
    "\n",
    "## How do Algorithms relate to data structures?\n",
    "\n",
    "- Algorithms often rely on specific data structures to solve problems efficiently. \n",
    "- Sorting algorithms require a data structure such as an array or a linked list to store and manipulate data.\n",
    "- Searching algorithms such as binary search require data structures like arrays or trees to organize and search through data.\n",
    "\n",
    "## Important Terms\n",
    "\n",
    "**What is an algorithm?**\n",
    "- it is a finite set of instructions that accomplishes a specific task\n",
    "\n",
    "**Sequencing**\n",
    "- means that there is an order in which to do things\n",
    "\n",
    "**Selection**\n",
    "- Helps to choose two different outcomes based off of a decision that the programmer wants to make\n",
    "\n",
    "**Iteration**\n",
    "- Repeat something until the condition is met. (also referred to as repetition)\n",
    "\n",
    "## Calling and Developing Procedures\n",
    "- A procedure is a sequence of instructions that performs a specific task.\n",
    "- To call a procedure, you need to know its name and any arguments it requires.\n",
    "- When a procedure is called, the program jumps to its instruction and starts executing it.\n",
    "- The arguments passed to a procedure can be used within the procedure to perform tasks or calculations.\n",
    "- After the procedure has completed its task, it returns control back to the calling program."
   ]
  },
  {
   "cell_type": "code",
   "execution_count": 6,
   "metadata": {},
   "outputs": [
    {
     "name": "stdout",
     "output_type": "stream",
     "text": [
      "The sum of 5 and 7 is 12\n"
     ]
    }
   ],
   "source": [
    "# Define a procedure that takes two arguments and prints their sum\n",
    "def add_numbers(a, b):\n",
    "    sum = a + b\n",
    "    print(\"The sum of\", a, \"and\", b, \"is\", sum)\n",
    "\n",
    "# Call the procedure with arguments 5 and 7\n",
    "add_numbers(5, 7)"
   ]
  },
  {
   "attachments": {},
   "cell_type": "markdown",
   "metadata": {},
   "source": [
    "- The result of the procedure can be stored in a variable, printed to the screen, or used in any other way that is required by the program.\n",
    "- Procedures can be defined within the same program or in external files, and can be reused across multiple parts of the program.\n",
    "- To avoid errors and improve code readability, it's important to define and call procedures with proper syntax and conventions that are appropriate for the programming language you're using."
   ]
  },
  {
   "cell_type": "code",
   "execution_count": 7,
   "metadata": {},
   "outputs": [
    {
     "name": "stdout",
     "output_type": "stream",
     "text": [
      "The average of [10, 20, 30, 40, 50] is 30.0\n"
     ]
    }
   ],
   "source": [
    "def calculate_average(numbers):\n",
    "    total = sum(numbers)\n",
    "    count = len(numbers)\n",
    "    average = total / count\n",
    "    return average\n",
    "\n",
    "# Call the procedure with a list of numbers\n",
    "numbers_list = [10, 20, 30, 40, 50]\n",
    "result = calculate_average(numbers_list)\n",
    "\n",
    "# Display the result\n",
    "print(\"The average of\", numbers_list, \"is\", result)"
   ]
  },
  {
   "attachments": {},
   "cell_type": "markdown",
   "metadata": {},
   "source": [
    "## Algorithmic Efficiency\n",
    "- Algorithmic efficiency refers to the amount of time and resources needed to execute an algorithm.\n",
    "- The efficiency of an algorithm can be measured in terms of its time and space complexities.\n",
    "    - Time complexity refers to the amount of time required by an algorithm to complete its task as a function of its input size.\n",
    "    - Space complexity refers to the amount of memory required by an algorithm to complete its task as a function of its input size.\n",
    "    - can be analyzed using Big O notation, which provides an upper bound on the worst-case time and space complexity of the algorithm.\n",
    "\n",
    "What is the time complexity of the following code: \n",
    "    - O(N)\n",
    "    - O(N*log(N))\n",
    "    - O(N * Sqrt(N))\n",
    "    - O(N*N)"
   ]
  },
  {
   "cell_type": "code",
   "execution_count": null,
   "metadata": {},
   "outputs": [],
   "source": [
    "a = 0\n",
    "for i in range(N):\n",
    "  for j in reversed(range(i, N)):\n",
    "    a = a + i + j"
   ]
  },
  {
   "attachments": {},
   "cell_type": "markdown",
   "metadata": {},
   "source": [
    "What will be the time complexity of the following code?\n",
    "\n",
    "- n\n",
    "- (n+1)\n",
    "- n(n-1)\n",
    "- n(n+1)\n",
    "\n",
    "n(n-1)"
   ]
  },
  {
   "cell_type": "code",
   "execution_count": null,
   "metadata": {},
   "outputs": [],
   "source": [
    "value = 0\n",
    "for i in range(n): #iterates \"n\" times, with \"i\" taking on values from 0 to n-1.\n",
    "  for j in range(i): # iterates \"i\" times, with \"j\" taking on values from 0 to i-1.\n",
    "    value=value+1"
   ]
  },
  {
   "attachments": {},
   "cell_type": "markdown",
   "metadata": {},
   "source": [
    "- Efficiency can be improved by optimizing algorithms or by using more efficient data structures and algorithms.\n",
    "    - Some common techniques for improving efficiency include reducing the size of input data, caching results, and parallelizing tasks.\n",
    "    - Understanding algorithmic efficiency is important in software development, as it can impact the performance of applications and their ability to scale with larger data sets."
   ]
  },
  {
   "attachments": {},
   "cell_type": "markdown",
   "metadata": {},
   "source": [
    "# Iteration and Simulations\n",
    "\n",
    "Simulations are models of real-world phonomena or systems that use mathematical algorithms and computer programs simulate the real behavior and aspects of the subject being modeled.\n",
    "\n",
    "Simulations are most often used to model complex or time-consuming things that would be difficult to test in real life, such as modeling the spread of diseases in certain ecosystems or testing the functionality of a potential product before it is made.\n",
    "\n",
    "In this lesson, we will be looking at lists, iteration, and random values through the lens of simulations.\n",
    "\n",
    "**PLEASE RUN THE CODE BELOW BEFORE INTERACTING WITH THE CODE SEGMENTS IN THIS SECTION!**"
   ]
  },
  {
   "cell_type": "code",
   "execution_count": 9,
   "metadata": {},
   "outputs": [],
   "source": [
    "class Card:\n",
    "    def __init__(self, suit, val):\n",
    "        self.suit = suit\n",
    "        self.val = val\n",
    "        if val == 11:\n",
    "            self.kind = \"Ace\"\n",
    "        elif val == 12:\n",
    "            self.kind = \"Jack\"\n",
    "        elif val == 13:\n",
    "            self.kind = \"Queen\"\n",
    "        elif val == 14:\n",
    "            self.kind = \"King\"\n",
    "        else:\n",
    "            self.kind = str(self.val)\n",
    "\n",
    "    #return a formatted string version of a card\n",
    "    def show(self):\n",
    "        return f\"{self.kind} of {self.suit}\"\n",
    "    \n",
    "    #adjust aces to prevent breaking\n",
    "    def ace_adj(self):\n",
    "        if self.kind == \"Ace\":\n",
    "            self.val = 1"
   ]
  },
  {
   "cell_type": "markdown",
   "metadata": {},
   "source": [
    "## Review: Lists and Iteration\n",
    "\n",
    "Lists and iteration work hand-in-hand to efficiently process and/or modify multiple values at once. In a card game, for example, lists and iteration are used together frequently to make the game work correctly."
   ]
  },
  {
   "attachments": {},
   "cell_type": "markdown",
   "metadata": {},
   "source": [
    "### For Loops\n",
    "\n",
    "For loops are probably the most well-known type of iterative loop used in code. Most of us know about the `for variable in list` format.\n",
    "\n",
    "One helpful tool not a lot of people know about is the `enumerate()` function. When used in conjunction with a for loop, you can always have access to the index and value of each selected list entry."
   ]
  },
  {
   "cell_type": "code",
   "execution_count": 9,
   "metadata": {},
   "outputs": [
    {
     "name": "stdout",
     "output_type": "stream",
     "text": [
      "This entry's index is 0, but its value is 3.\n",
      "The difference between the value and the index is 3.\n",
      "This entry's index is 1, but its value is 5.\n",
      "The difference between the value and the index is 4.\n",
      "This entry's index is 2, but its value is 68.\n",
      "The difference between the value and the index is 66.\n",
      "This entry's index is 3, but its value is 203.\n",
      "The difference between the value and the index is 200.\n"
     ]
    }
   ],
   "source": [
    "numlist = [3, 5, 68, 203]\n",
    "\n",
    "for key, num in enumerate(numlist):\n",
    "    print(f\"This entry's index is {str(key)}, but its value is {str(num)}.\")\n",
    "    print(f\"The difference between the value and the index is {num - key}.\")"
   ]
  },
  {
   "cell_type": "markdown",
   "metadata": {},
   "source": [
    "QUESTION: How is the `key, num in enumerate(list)` format similar to the format used when applying a `for` loop to a dictionary?\n",
    "\n",
    "Answer:\n",
    "- you can use a for loop to look for specific values in a dictionary, such as for(i) in dictionary\n",
    "- it basically pulls the value that is at the index we specify\n",
    "- `key, num in enumerate(list)` basically also outputs the value that is at the index we specify\n",
    "\n",
    "#### List Comprehension\n",
    "\n",
    "You may also see `for` loops used within a list like below. We went over this in class fairly recently. In this case, it is used to show the cards in the hand of a player."
   ]
  },
  {
   "cell_type": "code",
   "execution_count": 13,
   "metadata": {},
   "outputs": [
    {
     "name": "stdout",
     "output_type": "stream",
     "text": [
      "['Ace of Diamonds']\n"
     ]
    }
   ],
   "source": [
    "player_hand = [] # the player's hand is represented as a list\n",
    "# because lists are mutable (can change), they can be added to, like drawing a card\n",
    "\n",
    "# assume the deck below is a a deck of shuffled cards\n",
    "deck = [Card(\"Hearts\", 3), Card(\"Spades\", 12), Card(\"Diamonds\", 11)]\n",
    "def draw_card(hand, deck):\n",
    "    hand.append(deck.pop())\n",
    "\n",
    "#try it out\n",
    "draw_card(player_hand, deck)\n",
    "print([card.show() for card in player_hand])"
   ]
  },
  {
   "cell_type": "markdown",
   "metadata": {},
   "source": [
    "### Recursive Loops\n",
    "\n",
    "Recursive loops have you calling one function inside of another. If a function must make some change to a certain value multiple times, it is oftem most efficient to have a function call itself with slightly different arguments like the fibonacci sequence below."
   ]
  },
  {
   "cell_type": "code",
   "execution_count": 14,
   "metadata": {},
   "outputs": [
    {
     "data": {
      "text/plain": [
       "5"
      ]
     },
     "execution_count": 14,
     "metadata": {},
     "output_type": "execute_result"
    }
   ],
   "source": [
    "def fibonacci(terms):\n",
    "    if terms <= 1:\n",
    "        return terms\n",
    "    return fibonacci(terms-1) + fibonacci(terms-2)\n",
    "\n",
    "fibonacci(5)"
   ]
  },
  {
   "cell_type": "markdown",
   "metadata": {},
   "source": [
    "#### Nesting Loops\n",
    "\n",
    "Nesting loops increases the time complexity of the program, but it can be used to do things like make a card deck (see below)."
   ]
  },
  {
   "cell_type": "code",
   "execution_count": 10,
   "metadata": {},
   "outputs": [],
   "source": [
    "#the parameter is a list\n",
    "def build(deck):\n",
    "        for suit in [\"Spades\", \"Clubs\", \"Diamonds\", \"Hearts\"]:\n",
    "            for val in range(2, 15): #HINT: try replacing this function\n",
    "                deck.append(Card(suit, val))"
   ]
  },
  {
   "attachments": {},
   "cell_type": "markdown",
   "metadata": {},
   "source": [
    "### While Loops\n",
    "\n",
    "While loops aren't used in the program, but they offer a different way to repeat a set of instructions in a program. The procedure below the `while [condition]` line will occur until the condition is made not true.\n",
    "\n",
    "**Student Interaction**: How could this `build` function be altered to function with a **while loop** within it?"
   ]
  },
  {
   "cell_type": "code",
   "execution_count": 13,
   "metadata": {},
   "outputs": [],
   "source": [
    "def build(deck):\n",
    "    suits = [\"Spades\", \"Clubs\", \"Diamonds\", \"Hearts\"]\n",
    "    values = list(range(2, 15))\n",
    "    i = 0\n",
    "    while i < len(suits):\n",
    "        suit = suits[i]\n",
    "        j=0\n",
    "        while j < len(values):\n",
    "                val = values[j]\n",
    "                deck.append(Card(suit, val))\n",
    "                j += 1\n",
    "    i += 1\n"
   ]
  },
  {
   "cell_type": "markdown",
   "metadata": {},
   "source": [
    "While loops also alter an alternative way to loop a set of instructions forever, until a precise thing occurs to break the loop. See the code below."
   ]
  },
  {
   "cell_type": "code",
   "execution_count": 14,
   "metadata": {},
   "outputs": [
    {
     "name": "stdout",
     "output_type": "stream",
     "text": [
      "It took 13 random generations to get 10.\n"
     ]
    }
   ],
   "source": [
    "import random\n",
    "i = 0\n",
    "\n",
    "while True:\n",
    "    i += 1\n",
    "    ch = random.randint(1, 11)\n",
    "    if ch == 10:\n",
    "        print(f\"It took {str(i)} random generations to get 10.\")\n",
    "        break"
   ]
  },
  {
   "attachments": {},
   "cell_type": "markdown",
   "metadata": {},
   "source": [
    "49 random generations is a lot more than it would normally take, but it's important for code to be able to model unlikely, yet possible scenarios. Speaking of random values...\n",
    "\n",
    "## Random Values\n",
    "\n",
    "Because unpredictable randomness occurs in the real world, it's important to have a way to represent it. Simulations are able to use randomization, which could be in the form of random number generation or other methods like `shuffle`.\n",
    "\n",
    "Card decks are a great example of how random values can be used to represent real-world scenarios. In the card simulation, the `random` module's `shuffle` function is used to quite literally shuffle the deck, seen below."
   ]
  },
  {
   "cell_type": "code",
   "execution_count": 15,
   "metadata": {},
   "outputs": [],
   "source": [
    "def shuffle(deck):\n",
    "    random.shuffle(deck)"
   ]
  },
  {
   "attachments": {},
   "cell_type": "markdown",
   "metadata": {},
   "source": [
    "Often, random selection methods use functions like `randint` or `randrange` as ways to select certain indexes in lists, or might use the random numbers in some other way.\n",
    "\n"
   ]
  },
  {
   "attachments": {},
   "cell_type": "markdown",
   "metadata": {},
   "source": [
    "**QUESTION:** Without shuffling the card order of the deck, can you think of a way that the aforementioned `random` module functions could be used to get a random card from the deck? Do so in the code cell below.\n",
    "- "
   ]
  },
  {
   "cell_type": "code",
   "execution_count": 43,
   "metadata": {},
   "outputs": [
    {
     "name": "stdout",
     "output_type": "stream",
     "text": [
      "['14 of Hearts']\n"
     ]
    }
   ],
   "source": [
    "import random\n",
    "\n",
    "player_hand = [] # the player's hand is represented as a list\n",
    "deck = [] # the deck is represented as an empty list\n",
    "    \n",
    "def build(deck):\n",
    "        for suit in [\"Spades\", \"Clubs\", \"Diamonds\", \"Hearts\"]:\n",
    "            for val in range(2, 15): #HINT: try replacing this function\n",
    "                deck.append(Card(suit, val))\n",
    "\n",
    "def draw_card(hand, deck):\n",
    "    hand.append(deck.pop())\n",
    "\n",
    "#try it out\n",
    "build(deck)\n",
    "draw_card(player_hand, deck)\n",
    "print([card.show() for card in player_hand])\n"
   ]
  },
  {
   "cell_type": "markdown",
   "metadata": {},
   "source": [
    "## Simulation Homework\n",
    "\n",
    "Now that you've learned about simulations and how they're used, it's time to apply that knowledge by creating a (basic) simulation of a real-world scenario. It can be something in nature, like the changes in the wildlife population of a certain area; it can be a game, like Uno (no blackjack though, that's taken); or it can be something completely random and unique.\n",
    "\n",
    "The simulation must include...\n",
    "- Use of at least one random value\n",
    "- At least one list or similar data type (dictionary, set, etc.)\n",
    "- Efficient use of iteration (must support the purpose of the simualtion)\n",
    "- Selection (use of conditionals)\n",
    "\n",
    "Do this in your student copy in the cell provided. This is worth 0.9 (or more with extra credit) out of the 3 possible points."
   ]
  },
  {
   "cell_type": "code",
   "execution_count": 70,
   "metadata": {},
   "outputs": [
    {
     "name": "stdout",
     "output_type": "stream",
     "text": [
      "Year 1: population = 52, growth rate = 0.7616671255853066\n",
      "Year 2: population = 75, growth rate = 0.4295858660221368\n",
      "Year 3: population = 101, growth rate = 0.345634156215077\n",
      "Year 4: population = 140, growth rate = 0.3772428875560497\n",
      "Year 5: population = 161, growth rate = 0.15344310846221643\n",
      "Year 6: population = 215, growth rate = 0.3344155485681063\n",
      "Year 7: population = 303, growth rate = 0.5638227050963823\n",
      "Year 8: population = 539, growth rate = 0.7801083912345234\n",
      "Year 9: population = 949, growth rate = 0.7581128391398063\n",
      "Year 10: population = 1490, growth rate = 0.5697080624644147\n",
      "Year 11: population = 2161, growth rate = 0.45087325369979375\n",
      "Year 12: population = 2722, growth rate = 0.2594566673729382\n",
      "Year 13: population = 4886, growth rate = 0.7945427586397423\n",
      "Year 14: population = 7631, growth rate = 0.5617454655125457\n",
      "Year 15: population = 11284, growth rate = 0.47867538820896366\n",
      "Year 16: population = 12557, growth rate = 0.11283885212934838\n",
      "Year 17: population = 18733, growth rate = 0.6576127259422073\n",
      "Year 18: population = 31932, growth rate = 0.7045419253719176\n",
      "Year 19: population = 38881, growth rate = 0.21759953185313832\n",
      "Year 20: population = 55221, growth rate = 0.7753250084674338\n",
      "Year 21: population = 90055, growth rate = 0.6307990215559427\n",
      "Year 22: population = 138060, growth rate = 0.5330657650081987\n",
      "Year 23: population = 159867, growth rate = 0.15795050675676156\n",
      "Year 24: population = 234061, growth rate = 0.464091237230305\n",
      "Year 25: population = 312465, growth rate = 0.3349734435496458\n",
      "Year 26: population = 418394, growth rate = 0.3390098680546865\n",
      "Year 27: population = 448397, growth rate = 0.07171067720727609\n",
      "Year 28: population = 725294, growth rate = 0.6175270852995297\n",
      "Year 29: population = 1213297, growth rate = 0.6728330723770171\n"
     ]
    }
   ],
   "source": [
    "import random\n",
    "\n",
    "# define the initial population and growth rate range\n",
    "population = 30\n",
    "min_growth_rate = 0.01\n",
    "max_growth_rate = 0.8\n",
    "\n",
    "# simulate population change over 10 years\n",
    "for year in range(1, 30):\n",
    "    # generate a random growth rate for each year\n",
    "    growth_rate = random.uniform(min_growth_rate, max_growth_rate)\n",
    "    \n",
    "    # calculate the new population size\n",
    "    growth = population * growth_rate\n",
    "    population += growth\n",
    "    \n",
    "    # simulate random events that affect the population\n",
    "    if random.random() < 0.1:\n",
    "        # a disease outbreak occurs\n",
    "        population *= 0.8\n",
    "    elif random.random() < 0.05:\n",
    "        # a food shortage occurs\n",
    "        population *= 0.9\n",
    "        \n",
    "    # print the population size and growth rate for this year\n",
    "    print(\"Year {}: population = {}, growth rate = {}\".format(year, int(population), growth_rate))\n"
   ]
  },
  {
   "attachments": {},
   "cell_type": "markdown",
   "metadata": {},
   "source": [
    "# Databases \n",
    "We have already gone over databases in this class, but here is a refresher. A database contains data that's stored in columns and rows. The information in this database can then be pulled from the database and can be used in a program. \n",
    "\n",
    "## Setting Up the Database\n",
    "\n",
    "Run the code cell below to prepare SQLite to create the database. If your system is struggling with the flask functions, verify that you're in the correct Python environment. **REMEMBER: You should only `db.init_app(app)` ONCE during the process!**"
   ]
  },
  {
   "cell_type": "code",
   "execution_count": 71,
   "metadata": {},
   "outputs": [],
   "source": [
    "# flask imports\n",
    "from flask import Flask\n",
    "from flask_sqlalchemy import SQLAlchemy\n",
    "\n",
    "# Setup of key Flask object (app)\n",
    "app = Flask(__name__)\n",
    "# Setup SQLAlchemy object and properties for the database (db)\n",
    "database = 'sqlite:///sqlite.db'  # path and filename of database\n",
    "app.config['SQLALCHEMY_TRACK_MODIFICATIONS'] = False\n",
    "app.config['SQLALCHEMY_DATABASE_URI'] = database\n",
    "app.config['SECRET_KEY'] = 'SECRET_KEY'\n",
    "db = SQLAlchemy()\n",
    "\n",
    "\n",
    "# This belongs in place where it runs once per project\n",
    "db.init_app(app)"
   ]
  },
  {
   "cell_type": "markdown",
   "metadata": {},
   "source": [
    "## The Model File \n",
    "The model file plays a crucial role in the formation of the database. \n",
    "- The model helps to create new databases\n",
    "- It provides a standardized method for formating the database entries across different systems \n",
    "- Objects used within the database are created"
   ]
  },
  {
   "cell_type": "code",
   "execution_count": 72,
   "metadata": {},
   "outputs": [],
   "source": [
    "#importing necessary items\n",
    "import os, base64\n",
    "import json\n",
    "from sqlalchemy.exc import IntegrityError\n",
    "\n",
    "# Define the User class to manage actions in the 'users' table\n",
    "class User(db.Model):\n",
    "    __tablename__ = 'players'  # table name is plural, class name is singular\n",
    "\n",
    "    # Define the User schema with \"vars\" from object\n",
    "    id = db.Column(db.Integer, primary_key=True)\n",
    "    _username = db.Column(db.String(255), unique=False, nullable=False)\n",
    "    _streak = db.Column(db.Integer, unique=True, nullable=False)\n",
    "\n",
    "    # constructor of a User object, initializes the instance variables within object (self)\n",
    "    def __init__(self, username, streak):\n",
    "        self._username = username\n",
    "        self._streak = streak\n",
    "\n",
    "    # a username getter method, extracts username from object\n",
    "    @property\n",
    "    def username(self):\n",
    "        return self._username\n",
    "    \n",
    "    # a setter function, allows username to be updated after initial object creation\n",
    "    @username.setter\n",
    "    def username(self, username):\n",
    "        self._username = username\n",
    "    \n",
    "    # a getter method, extracts streak from object\n",
    "    @property\n",
    "    def streak(self):\n",
    "        return self._streak\n",
    "    \n",
    "    # a setter function, allows streak to be updated after initial object creation\n",
    "    @streak.setter\n",
    "    def streak(self, streak):\n",
    "        self._streak = streak\n",
    "    \n",
    "    # output content using str(object) in human readable form, uses getter\n",
    "    # output content using json dumps, this is ready for API response\n",
    "    def __str__(self):\n",
    "        return json.dumps(self.read())\n",
    "\n",
    "    # CRUD create/add a new record to the table\n",
    "    # returns self or None on error\n",
    "    def create(self):\n",
    "        try:\n",
    "            # creates a person object from User(db.Model) class, passes initializers\n",
    "            db.session.add(self)  # add prepares to persist person object to Users table\n",
    "            db.session.commit()  # SqlAlchemy \"unit of work pattern\" requires a manual commit\n",
    "            return self\n",
    "        except IntegrityError:\n",
    "            db.session.remove()\n",
    "            return None\n",
    "\n",
    "    # CRUD read converts self to dictionary\n",
    "    # returns dictionary\n",
    "    def read(self):\n",
    "        return {\n",
    "            \"id\": self.id,\n",
    "            \"username\": self.username,\n",
    "            \"streak\": self.streak\n",
    "        }\n",
    "\n",
    "    # CRUD update: updates user name, password, phone\n",
    "    # returns self\n",
    "    def update(self, username, streak):\n",
    "        \"\"\"only updates values with length\"\"\"\n",
    "        if len(username) > 0:\n",
    "            self.username = username\n",
    "        if streak > 0:\n",
    "            self.streak = streak\n",
    "        db.session.commit()\n",
    "        return self\n",
    "\n",
    "    # CRUD delete: remove self\n",
    "    # None\n",
    "    def delete(self):\n",
    "        db.session.delete(self)\n",
    "        db.session.commit()\n",
    "        return None\n",
    "\n",
    "\n",
    "\"\"\"Database Creation and Testing \"\"\"\n",
    "\n",
    "# Builds working data for testing\n",
    "def initUsers():\n",
    "    with app.app_context():\n",
    "        \"\"\"Create database and tables\"\"\"\n",
    "        db.create_all()\n",
    "        \"\"\"Tester data for table\"\"\"\n",
    "        u1 = User(username=\"Mr. Cards\", streak=5)\n",
    "        u2 = User(username=\"Kard Kowntre\", streak=10)\n",
    "        u3 = User(username=\"Un Bea Table\", streak=15)\n",
    "\n",
    "        users = [u1, u2, u3]\n",
    "\n",
    "        \"\"\"Builds sample user/note(s) data\"\"\"\n",
    "        for user in users:\n",
    "            try:\n",
    "                user.create()\n",
    "                print(f'Created user with username \"{user.username}\".')\n",
    "            except IntegrityError:\n",
    "                '''fails with bad or duplicate data'''\n",
    "                db.session.remove()\n",
    "                print(f\"Records exist, duplicate email, or error: {user.username}\")"
   ]
  },
  {
   "cell_type": "markdown",
   "metadata": {},
   "source": [
    "## The init Fuction\n",
    "The __init__ method has one purpose which is to initialize the object's attributes. This is what is known as the **constructor**. In our project, the __init__ method initalizes the username and streak as variables. "
   ]
  },
  {
   "cell_type": "code",
   "execution_count": 73,
   "metadata": {},
   "outputs": [],
   "source": [
    "# constructor of a User object, initializes the instance variables within object (self)\n",
    "def __init__(self, username, streak):\n",
    "    self._username = username\n",
    "    self._score = streak"
   ]
  },
  {
   "attachments": {},
   "cell_type": "markdown",
   "metadata": {},
   "source": [
    "## Setters and Getters \n",
    "Setters and Getters are important methods used when writing code for databases.\n",
    "- **Setter**: a method that allows us to set or change the value of an attribute in a class.\n",
    "- **Getter**: a method that allows us to access an attribute in a given class.\n",
    "\n",
    "### Setter Example"
   ]
  },
  {
   "cell_type": "code",
   "execution_count": 74,
   "metadata": {},
   "outputs": [
    {
     "ename": "IndentationError",
     "evalue": "expected an indented block after function definition on line 3 (2008961262.py, line 4)",
     "output_type": "error",
     "traceback": [
      "\u001b[0;36m  Cell \u001b[0;32mIn[74], line 4\u001b[0;36m\u001b[0m\n\u001b[0;31m    self._streak = streak\u001b[0m\n\u001b[0m    ^\u001b[0m\n\u001b[0;31mIndentationError\u001b[0m\u001b[0;31m:\u001b[0m expected an indented block after function definition on line 3\n"
     ]
    }
   ],
   "source": [
    "# a setter function, allows streak to be updated after initial object creation\n",
    "@streak.setter\n",
    "def streak(self, streak):\n",
    "self._streak = streak"
   ]
  },
  {
   "cell_type": "markdown",
   "metadata": {},
   "source": [
    "### Getter Example"
   ]
  },
  {
   "cell_type": "code",
   "execution_count": null,
   "metadata": {},
   "outputs": [],
   "source": [
    "# a getter method, extracts streak from object\n",
    "@property\n",
    "def streak(self):\n",
    "return self._streak"
   ]
  },
  {
   "attachments": {},
   "cell_type": "markdown",
   "metadata": {},
   "source": [
    "## The Api File \n",
    "An API is an important part of having a functional database. \n",
    "- it acts as a messenger that allows programs to access data from the others \n",
    "- it connects all information \n",
    "- for a database, an api retrives the data requested in code for the user "
   ]
  },
  {
   "cell_type": "code",
   "execution_count": 22,
   "metadata": {},
   "outputs": [],
   "source": [
    "import json\n",
    "from flask import Blueprint, request, jsonify\n",
    "from flask_restful import Api, Resource # used for REST API building\n",
    "\n",
    "user_api = Blueprint('user_api', __name__,\n",
    "                   url_prefix='/api/users')\n",
    "\n",
    "api = Api(user_api)\n",
    "\n",
    "class UserAPI:        \n",
    "    class _CRUD(Resource):  # User API operation for Create, Read.  THe Update, Delete methods need to be implemeented\n",
    "        def post(self): # Create method\n",
    "            ''' Read data for json body '''\n",
    "            body = request.get_json()\n",
    "            \n",
    "            ''' Avoid garbage in, error checking '''\n",
    "            # validate name\n",
    "            username = body.get('username')\n",
    "            if username is None or len(username) < 1:\n",
    "                return {'message': f'Username is missing, or is less than a character'}, 400\n",
    "            # validate uid\n",
    "            streak = body.get('streak')\n",
    "            if streak is None or streak < 1:\n",
    "                return {'message': f'Streak is missing, or is less than 1'}, 400\n",
    "\n",
    "            ''' #1: Key code block, setup USER OBJECT '''\n",
    "            uo = User(username=username, \n",
    "                      streak=streak)\n",
    "            \n",
    "            ''' #2: Key Code block to add user to database '''\n",
    "            # create user in database\n",
    "            user = uo.create()\n",
    "            # success returns json of user\n",
    "            if user:\n",
    "                return jsonify(user.read())\n",
    "            # failure returns error\n",
    "            return {'message': f'Processed {username}, either a format error or a duplicate'}, 400\n",
    "\n",
    "        def get(self): # Read Method\n",
    "            users = User.query.all()    # read/extract all users from database\n",
    "            json_ready = [user.read() for user in users]  # prepare output in json\n",
    "            return jsonify(json_ready)  # jsonify creates Flask response object, more specific to APIs than json.dumps\n",
    "\n",
    "        def put(self):\n",
    "            body = request.get_json() # get the body of the request\n",
    "            id = body.get('id')\n",
    "            username = body.get('username')\n",
    "            streak = body.get('streak') # get the UID (Know what to reference)\n",
    "            user = User.query.get(id) # get the player (using the uid in this case)\n",
    "            user.update(username=username, streak=streak)\n",
    "            return f\"{user.read()} Updated\"\n",
    "\n",
    "        def delete(self):\n",
    "            body = request.get_json()\n",
    "            id = body.get('id')\n",
    "            player = User.query.get(id)\n",
    "            player.delete()\n",
    "            return f\"{player.read()} Has been deleted\"\n",
    "\n",
    "    # building RESTapi endpoint\n",
    "    api.add_resource(_CRUD, '/')"
   ]
  },
  {
   "cell_type": "markdown",
   "metadata": {},
   "source": [
    "This is important particularly in a full flask respository context, but in this case, you'll just need to run the `initUsers()` function."
   ]
  },
  {
   "cell_type": "code",
   "execution_count": 23,
   "metadata": {},
   "outputs": [
    {
     "name": "stdout",
     "output_type": "stream",
     "text": [
      "Created user with username \"Mr. Cards\".\n",
      "Created user with username \"Kard Kowntre\".\n",
      "Created user with username \"Un Bea Table\".\n"
     ]
    }
   ],
   "source": [
    "initUsers()"
   ]
  },
  {
   "cell_type": "markdown",
   "metadata": {},
   "source": [
    "### An Alternative Method of Making SQLite Databases\n",
    "\n",
    "In a previous lesson, we went over using the `cursor` object in SQLite3. Rather than go over all of that here, [this lesson](https://nighthawkcoders.github.io/APCSP//2023/03/16/AP-unit2-4b.html) goes over it thoroughly. (You may use this method for the homework below.)"
   ]
  },
  {
   "cell_type": "markdown",
   "metadata": {},
   "source": [
    "## Database Homework\n",
    "\n",
    "For this assignment, we'd like you to make your own database file as instructed above. Remember, the API file isn't necessary in this case; you'll be focusing on making the model and the `init` function.\n",
    "\n",
    "Your database must include these things:\n",
    "- A class with at least four **attributes** (if not the cursor method)\n",
    "- Setters and getters for this class (if not the cursor method)\n",
    "- Each of the CRUD functions\n",
    "- An `init` function with at least four entries\n",
    "- A screenshot showing proof that your SQLite file has been created correctly\n",
    "\n",
    "Feel free to base your database on the model provided above! Ask our group if you have any questions or concerns."
   ]
  },
  {
   "cell_type": "code",
   "execution_count": null,
   "metadata": {},
   "outputs": [],
   "source": [
    "# flask imports\n",
    "from flask import Flask\n",
    "from flask_sqlalchemy import SQLAlchemy\n",
    "\n",
    "# Setup of key Flask object (app)\n",
    "app = Flask(__name__)\n",
    "# Setup SQLAlchemy object and properties for the database (db)\n",
    "database = 'sqlite:///sqlite.db'  # path and filename of database\n",
    "app.config['SQLALCHEMY_TRACK_MODIFICATIONS'] = False\n",
    "app.config['SQLALCHEMY_DATABASE_URI'] = database\n",
    "app.config['SECRET_KEY'] = 'SECRET_KEY'\n",
    "db = SQLAlchemy()\n",
    "\n",
    "\n",
    "# This belongs in place where it runs once per project\n",
    "db.init_app(app)"
   ]
  },
  {
   "cell_type": "code",
   "execution_count": 85,
   "metadata": {},
   "outputs": [],
   "source": [
    "#importing necessary items\n",
    "import os, base64\n",
    "import json\n",
    "from sqlalchemy.exc import IntegrityError\n",
    "\n",
    "# Define the User class to manage actions in the 'users' table\n",
    "class Reader(db.Model):\n",
    "    __tablename__ = 'readers'  # table name is plural, class name is singular\n",
    "\n",
    "    # Define the User schema with \"vars\" from object\n",
    "    id = db.Column(db.Integer, primary_key=True)\n",
    "    _username = db.Column(db.String(255), unique=True, nullable=False)\n",
    "    _name = db.Column(db.String(255), unique=False, nullable=False)\n",
    "    _book = db.Column(db.String(255), unique=False, nullable=False)\n",
    "    _year = db.Column(db.Integer, unique=False, nullable=False)\n",
    "    _rating = db.Column(db.Integer, unique=False, nullable=False)\n",
    "\n",
    "    # constructor of a User object, initializes the instance variables within object (self)\n",
    "    def __init__(self, username, name, book, year, rating):\n",
    "        self._username = username\n",
    "        self._name = name\n",
    "        self._book = book\n",
    "        self._year = year\n",
    "        self._rating = rating\n",
    "\n",
    "    # a name getter method, extracts username from object\n",
    "    @property\n",
    "    def username(self):\n",
    "        return self._username\n",
    "    \n",
    "    # a setter function, allows username to be updated after initial object creation\n",
    "    @username.setter\n",
    "    def username(self, username):\n",
    "        self._username = username\n",
    "\n",
    "    # a name getter method, extracts name from object\n",
    "    @property\n",
    "    def name(self):\n",
    "        return self._name\n",
    "    \n",
    "    # a setter function, allows name to be updated after initial object creation\n",
    "    @name.setter\n",
    "    def name(self, name):\n",
    "        self._name = name\n",
    "    \n",
    "    # a getter method, extracts book from object\n",
    "    @property\n",
    "    def book(self):\n",
    "        return self._book\n",
    "    \n",
    "    # a setter function, allows book to be updated after initial object creation\n",
    "    @book.setter\n",
    "    def book(self, book):\n",
    "        self._book = book\n",
    "    \n",
    "    # a getter method, extracts year from object\n",
    "    @property\n",
    "    def year(self):\n",
    "        return self._year\n",
    "    \n",
    "    # a setter function, allows year to be updated after initial object creation\n",
    "    @year.setter\n",
    "    def year(self, year):\n",
    "        self._year = year\n",
    "    \n",
    "    # a getter method, extracts rating from object\n",
    "    @property\n",
    "    def rating(self):\n",
    "        return self._rating\n",
    "    \n",
    "    # a setter function, allows book to be updated after initial object creation\n",
    "    @rating.setter\n",
    "    def rating(self, rating):\n",
    "        self._rating = rating\n",
    "    \n",
    "    # output content using str(object) in human readable form, uses getter\n",
    "    # output content using json dumps, this is ready for API response\n",
    "    def __str__(self):\n",
    "        return json.dumps(self.read())\n",
    "\n",
    "    # CRUD create/add a new record to the table\n",
    "    # returns self or None on error\n",
    "    def create(self):\n",
    "        try:\n",
    "            # creates a person object from User(db.Model) class, passes initializers\n",
    "            db.session.add(self)  # add prepares to persist person object to Users table\n",
    "            db.session.commit()  # SqlAlchemy \"unit of work pattern\" requires a manual commit\n",
    "            return self\n",
    "        except IntegrityError:\n",
    "            db.session.remove()\n",
    "            return None\n",
    "\n",
    "    # CRUD read converts self to dictionary\n",
    "    # returns dictionary\n",
    "    def read(self):\n",
    "        return {\n",
    "            \"id\": self.id,\n",
    "            \"username\": self.username,\n",
    "            \"name\": self.name,\n",
    "            \"book\": self.book,\n",
    "            \"year\": self.year,\n",
    "            \"rating\": self.rating\n",
    "        }\n",
    "\n",
    "    # CRUD update: updates user name, password, phone\n",
    "    # returns self\n",
    "    def update(self, username, name, book, year, rating):\n",
    "        \"\"\"only updates values with length\"\"\"\n",
    "        if len(username) > 0:\n",
    "            self.username = username\n",
    "        if len(name) > 0:\n",
    "            self.username = name\n",
    "        if len(book) > 0:\n",
    "            self.book = book\n",
    "        if year > 0:\n",
    "            self.year = year\n",
    "        if 0 < rating < 5:\n",
    "            self.rating = rating\n",
    "        db.session.commit()\n",
    "        return self\n",
    "\n",
    "    # CRUD delete: remove self\n",
    "    # None\n",
    "    def delete(self):\n",
    "        db.session.delete(self)\n",
    "        db.session.commit()\n",
    "        return None\n",
    "\n",
    "\n",
    "\"\"\"Database Creation and Testing \"\"\"\n",
    "\n",
    "# Builds working data for testing\n",
    "def initReaders():\n",
    "    with app.app_context():\n",
    "        \"\"\"Create database and tables\"\"\"\n",
    "        db.create_all()\n",
    "        \"\"\"Tester data for table\"\"\"\n",
    "        r1 = Reader(username=\"rey444\", name=\"Shreya\", book =\"The Hunger Games\", year=2019, rating=5)\n",
    "        r2 = Reader(username=\"jiyu\", name=\"Jiya\", book =\"Divergent\", year=2021, rating=3)\n",
    "        r3 = Reader(username=\"vai\", name=\"Vaishavi\", book =\"Animal Farm\", year=2020, rating=4)\n",
    "\n",
    "        readers = [r1, r2, r3]\n",
    "\n",
    "        \"\"\"Builds sample user/note(s) data\"\"\"\n",
    "        for reader in readers:\n",
    "            try:\n",
    "                reader.create()\n",
    "                print(f'Created user with username \"{reader.username}\".')\n",
    "            except IntegrityError:\n",
    "                '''fails with bad or duplicate data'''\n",
    "                db.session.remove()\n",
    "                print(f\"Records exist, duplicate username, or error: {reader.username}\")"
   ]
  },
  {
   "cell_type": "code",
   "execution_count": 88,
   "metadata": {},
   "outputs": [],
   "source": [
    "import json\n",
    "from flask import Blueprint, request, jsonify\n",
    "from flask_restful import Api, Resource # used for REST API building\n",
    "\n",
    "user_api = Blueprint('reader_api', __name__,\n",
    "                   url_prefix='/api/readers')\n",
    "\n",
    "api = Api(user_api)\n",
    "\n",
    "class ReaderAPI:        \n",
    "    class _CRUD(Resource):  # User API operation for Create, Read.  THe Update, Delete methods need to be implemeented\n",
    "        def post(self): # Create method\n",
    "            ''' Read data for json body '''\n",
    "            body = request.get_json()\n",
    "            \n",
    "            ''' Avoid garbage in, error checking '''\n",
    "            # validate username\n",
    "            username = body.get('username')\n",
    "            if username is None or len(username) < 1:\n",
    "                return {'message': f'Username is missing, or is less than a character'}, 400\n",
    "            # validate name\n",
    "            name = body.get('name')\n",
    "            if name is None or len(name) < 1:\n",
    "                return {'message': f'Name is missing, or is less than a character'}, 400\n",
    "            # validate book\n",
    "            book = body.get('book')\n",
    "            if book is None or len(book) < 1:\n",
    "                return {'message': f'Book name is missing, or is less than a character'}, 400\n",
    "            # validate year\n",
    "            year = body.get('year')\n",
    "            if year is None or year < 1900:\n",
    "                return {'message': f'Year is missing, or is before 1900'}, 400\n",
    "            # validate rating\n",
    "            rating = body.get('rating')\n",
    "            if rating is None or rating < 0:\n",
    "                return {'message': f'Book rating is missing, or is below zero'}, 400\n",
    "            elif rating is None or rating > 5:\n",
    "                 return {'message': f'Book rating is missing, or is above five'}, 400\n",
    "\n",
    "            ''' #1: Key code block, setup USER OBJECT '''\n",
    "            uo = Reader(username=username, \n",
    "                      name=name,\n",
    "                      book=book,\n",
    "                      year=year,\n",
    "                      rating=rating)\n",
    "            \n",
    "            ''' #2: Key Code block to add user to database '''\n",
    "            # create user in database\n",
    "            reader = uo.create()\n",
    "            # success returns json of user\n",
    "            if reader:\n",
    "                return jsonify(reader.read())\n",
    "            # failure returns error\n",
    "            return {'message': f'Processed {username}, either a format error or a duplicate'}, 400\n",
    "\n",
    "        def get(self): # Read Method\n",
    "            readers = Reader.query.all()    # read/extract all users from database\n",
    "            json_ready = [reader.read() for reader in readers]  # prepare output in json\n",
    "            return jsonify(json_ready)  # jsonify creates Flask response object, more specific to APIs than json.dumps\n",
    "\n",
    "        def put(self):\n",
    "            body = request.get_json() # get the body of the request\n",
    "            id = body.get('id')\n",
    "            username = body.get('username')\n",
    "            name = body.get('name')\n",
    "            book = body.get('book') # get the book (Know what to reference)\n",
    "            year = body.get('year')\n",
    "            rating = body.get('rating')\n",
    "            reader = Reader.query.get(id) # get the player (using the uid in this case)\n",
    "            reader.update(username=username, name=name, book=book, year=year, rating=rating)\n",
    "            return f\"{reader.read()} Updated\"\n",
    "\n",
    "        def delete(self):\n",
    "            body = request.get_json()\n",
    "            id = body.get('id')\n",
    "            reader = Reader.query.get(id)\n",
    "            reader.delete()\n",
    "            return f\"{reader.read()} Has been deleted\"\n",
    "\n",
    "    # building RESTapi endpoint\n",
    "    api.add_resource(_CRUD, '/')"
   ]
  },
  {
   "cell_type": "code",
   "execution_count": 89,
   "metadata": {},
   "outputs": [
    {
     "name": "stdout",
     "output_type": "stream",
     "text": [
      "Created user with username \"rey444\".\n",
      "Created user with username \"jiyu\".\n",
      "Created user with username \"vai\".\n"
     ]
    }
   ],
   "source": [
    "initReaders()"
   ]
  },
  {
   "attachments": {
    "image.png": {
     "image/png": "[encoded data removed]"
    }
   },
   "cell_type": "markdown",
   "metadata": {},
   "source": [
    "![image.png](attachment:image.png)"
   ]
  },
  {
   "attachments": {},
   "cell_type": "markdown",
   "metadata": {},
   "source": [
    "## Create"
   ]
  },
  {
   "cell_type": "code",
   "execution_count": 92,
   "metadata": {},
   "outputs": [
    {
     "name": "stdout",
     "output_type": "stream",
     "text": [
      "(0, 'id', 'INTEGER', 1, None, 1)\n",
      "(1, '_name', 'VARCHAR(255)', 1, None, 0)\n",
      "(2, '_uid', 'VARCHAR(255)', 1, None, 0)\n",
      "(3, '_password', 'VARCHAR(255)', 1, None, 0)\n",
      "(4, '_dob', 'DATE', 0, None, 0)\n"
     ]
    }
   ],
   "source": [
    "import sqlite3\n",
    "\n",
    "readers = 'instance/sqlite.db' # this is location of database\n",
    "\n",
    "def schema():\n",
    "    \n",
    "    # Connect to the database file\n",
    "    conn = sqlite3.connect(readers)\n",
    "\n",
    "    # Create a cursor object to execute SQL queries\n",
    "    cursor = conn.cursor()\n",
    "    \n",
    "    # Fetch results of Schema\n",
    "    results = cursor.execute(\"PRAGMA table_info('users')\").fetchall()\n",
    "\n",
    "    # Print the results\n",
    "    for row in results:\n",
    "        print(row)\n",
    "\n",
    "    # Close the database connection\n",
    "    conn.close()\n",
    "    \n",
    "schema()"
   ]
  },
  {
   "cell_type": "code",
   "execution_count": 95,
   "metadata": {},
   "outputs": [
    {
     "name": "stdout",
     "output_type": "stream",
     "text": [
      "A new user record thv has been created\n"
     ]
    }
   ],
   "source": [
    "import sqlite3\n",
    "\n",
    "def create():\n",
    "    username = input(\"Enter your username:\")\n",
    "    name = input(\"Enter your name:\")\n",
    "    book = input(\"Enter the name of the book you would like to log:\")\n",
    "    year = input(\"Enter the year in which you read the book, in 'YYYY' format:\")\n",
    "    rating = input(\"Enter your rating of the book using numbers 0-5, with 0 being the worst and 5 being the best:\")\n",
    "    \n",
    "    # Connect to the database file\n",
    "    conn = sqlite3.connect(readers)\n",
    "\n",
    "    # Create a cursor object to execute SQL commands\n",
    "    cursor = conn.cursor()\n",
    "\n",
    "    try:\n",
    "        # Execute an SQL command to insert data into a table\n",
    "        cursor.execute(\"INSERT INTO readers (_username, _name, _book, _year, _rating) VALUES (?, ?, ?, ?, ?)\", (username, name, book, year, rating))\n",
    "        \n",
    "        # Commit the changes to the database\n",
    "        conn.commit()\n",
    "        print(f\"A new user record {username} has been created\")\n",
    "                \n",
    "    except sqlite3.Error as error:\n",
    "        print(\"Error while executing the INSERT:\", error)\n",
    "\n",
    "\n",
    "    # Close the cursor and connection objects\n",
    "    cursor.close()\n",
    "    conn.close()\n",
    "    \n",
    "create()"
   ]
  },
  {
   "attachments": {
    "image.png": {
     "image/png": "[encoded data removed]"
    }
   },
   "cell_type": "markdown",
   "metadata": {},
   "source": [
    "![image.png](attachment:image.png)"
   ]
  },
  {
   "attachments": {},
   "cell_type": "markdown",
   "metadata": {},
   "source": [
    "## Read"
   ]
  },
  {
   "cell_type": "code",
   "execution_count": 96,
   "metadata": {},
   "outputs": [
    {
     "name": "stdout",
     "output_type": "stream",
     "text": [
      "(1, 'rey444', 'Shreya', 'The Hunger Games', 2019, 5)\n",
      "(2, 'jiyu', 'Jiya', 'Divergent', 2021, 3)\n",
      "(3, 'vai', 'Vaishavi', 'Animal Farm', 2020, 4)\n",
      "(4, 'thv', 'Tae', 'Vision', 2009, 5)\n"
     ]
    }
   ],
   "source": [
    "import sqlite3\n",
    "\n",
    "def read():\n",
    "    # Connect to the database file\n",
    "    conn = sqlite3.connect(readers)\n",
    "\n",
    "    # Create a cursor object to execute SQL queries\n",
    "    cursor = conn.cursor()\n",
    "    \n",
    "    # Execute a SELECT statement to retrieve data from a table\n",
    "    results = cursor.execute('SELECT * FROM readers').fetchall()\n",
    "\n",
    "    # Print the results\n",
    "    if len(results) == 0: # results has data in it, so it could be an object; results has attributes\n",
    "        print(\"Table is empty\")\n",
    "    else:\n",
    "        for row in results:\n",
    "            print(row)\n",
    "\n",
    "    # Close the cursor and connection objects\n",
    "    cursor.close()\n",
    "    conn.close()\n",
    "    \n",
    "read()"
   ]
  },
  {
   "attachments": {},
   "cell_type": "markdown",
   "metadata": {},
   "source": [
    "## Update"
   ]
  },
  {
   "cell_type": "code",
   "execution_count": 98,
   "metadata": {},
   "outputs": [
    {
     "name": "stdout",
     "output_type": "stream",
     "text": [
      "The row with user id rey444 the book has been successfully updated\n"
     ]
    }
   ],
   "source": [
    "import sqlite3\n",
    "\n",
    "def update():\n",
    "    username = input(\"Enter username to update\")\n",
    "    book = input(\"Enter updated book name\")\n",
    "    if len(book) < 2:\n",
    "        message = \"invalid\"\n",
    "        book = 'invalidbook'\n",
    "    else:\n",
    "        message = \"successfully updated\"\n",
    "\n",
    "    # Connect to the database file\n",
    "    conn = sqlite3.connect(database)\n",
    "\n",
    "    # Create a cursor object to execute SQL commands\n",
    "    cursor = conn.cursor()\n",
    "\n",
    "    try:\n",
    "        # Execute an SQL command to update data in a table\n",
    "        cursor.execute(\"UPDATE readers SET _book = ? WHERE _username = ?\", (book, username))\n",
    "        if cursor.rowcount == 0:\n",
    "            # The uid was not found in the table\n",
    "            print(f\"No username {username} was not found in the table\")\n",
    "        else:\n",
    "            print(f\"The row with user id {username} the book has been {message}\")\n",
    "            conn.commit()\n",
    "    except sqlite3.Error as error:\n",
    "        print(\"Error while executing the UPDATE:\", error)\n",
    "        \n",
    "    \n",
    "    # Close the cursor and connection objects\n",
    "    cursor.close()\n",
    "    conn.close()\n",
    "    \n",
    "update()"
   ]
  },
  {
   "attachments": {
    "image.png": {
     "image/png": "[encoded data removed]"
    }
   },
   "cell_type": "markdown",
   "metadata": {},
   "source": [
    "![image.png](attachment:image.png)"
   ]
  },
  {
   "attachments": {},
   "cell_type": "markdown",
   "metadata": {},
   "source": [
    "## Delete"
   ]
  },
  {
   "cell_type": "code",
   "execution_count": 99,
   "metadata": {},
   "outputs": [
    {
     "name": "stdout",
     "output_type": "stream",
     "text": [
      "The row with uid jiyu was successfully deleted\n"
     ]
    }
   ],
   "source": [
    "import sqlite3\n",
    "\n",
    "def delete():\n",
    "    username = input(\"Enter username to delete\")\n",
    "\n",
    "    # Connect to the database file\n",
    "    conn = sqlite3.connect(readers)\n",
    "\n",
    "    # Create a cursor object to execute SQL commands\n",
    "    cursor = conn.cursor()\n",
    "    \n",
    "    try:\n",
    "        cursor.execute(\"DELETE FROM readers WHERE _username = ?\", (username,))\n",
    "        if cursor.rowcount == 0:\n",
    "            # The uid was not found in the table\n",
    "            print(f\"No uid {username} was not found in the table\")\n",
    "        else:\n",
    "            # The uid was found in the table and the row was deleted\n",
    "            print(f\"The row with uid {username} was successfully deleted\")\n",
    "        conn.commit()\n",
    "    except sqlite3.Error as error:\n",
    "        print(\"Error while executing the DELETE:\", error)\n",
    "        \n",
    "    # Close the cursor and connection objects\n",
    "    cursor.close()\n",
    "    conn.close()\n",
    "    \n",
    "delete()"
   ]
  },
  {
   "attachments": {
    "image.png": {
     "image/png": "[encoded data removed]"
    }
   },
   "cell_type": "markdown",
   "metadata": {},
   "source": [
    "![image.png](attachment:image.png)"
   ]
  },
  {
   "cell_type": "markdown",
   "metadata": {},
   "source": [
    "# Grading\n",
    "\n",
    "Your submission will be graded based on the following criteria:\n",
    "- Filling in the blank throughout the lesson and providing code in the given cells when applicable (0.9)\n",
    "- Simulation homework (0.9)\n",
    "- Database homework (0.9)\n",
    "\n",
    "Here are some ideas for ways to increase your score above a 2.7:\n",
    "- Make a frontend version of your simulation that can be interacted with on your blog\n",
    "- Connect your simulation to the database you create\n",
    "- Create a menu that allows a user to make an entry in your database (CRUD functions within it)\n",
    "- You can establish a relationship between two classes/tables in your database (see the relationship between the User and Note classes in the Nighthawk Coders flask repository)"
   ]
  }
 ],
 "metadata": {
  "kernelspec": {
   "display_name": "Python 3.9.12 ('base')",
   "language": "python",
   "name": "python3"
  },
  "language_info": {
   "codemirror_mode": {
    "name": "ipython",
    "version": 3
   },
   "file_extension": ".py",
   "mimetype": "text/x-python",
   "name": "python",
   "nbconvert_exporter": "python",
   "pygments_lexer": "ipython3",
   "version": "3.10.9"
  },
  "orig_nbformat": 4,
  "vscode": {
   "interpreter": {
    "hash": "56f7c0ddbd8295fccb7b65a09bceb7bda050a1a7ed2857cec799e2d3d977289f"
   }
  }
 },
 "nbformat": 4,
 "nbformat_minor": 2
}
