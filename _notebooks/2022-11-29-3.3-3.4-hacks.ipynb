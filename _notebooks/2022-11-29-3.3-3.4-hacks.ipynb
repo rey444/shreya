{
 "cells": [
  {
   "attachments": {},
   "cell_type": "markdown",
   "metadata": {},
   "source": [
    "# 3.3 - 3.4 Hacks\n",
    "\n",
    "- toc: true\n",
    "- branch: master\n",
    "- badges: true\n",
    "- comments: true\n",
    "- categories: [t2hacks]"
   ]
  },
  {
   "attachments": {},
   "cell_type": "markdown",
   "metadata": {},
   "source": [
    "# Hacks\n",
    "\n",
    "### [Algorithms & Flowcharts Hack Link](https://jamboard.google.com/d/1qpPFYt9cyjJOSzpT4ODND8Jj6gk8DUWPbLAksaOTCvA/viewer?f=10&pli=1)\n",
    "\n",
    "### Variables Hacks"
   ]
  },
  {
   "cell_type": "code",
   "execution_count": 1,
   "metadata": {},
   "outputs": [
    {
     "name": "stdout",
     "output_type": "stream",
     "text": [
      "20.4\n"
     ]
    }
   ],
   "source": [
    "# Variables Problem 1\n",
    "\n",
    "Num1 = 50 # define Num1 as 50\n",
    "Num2 = Num1 % 9 + 15  #  5 + 15 = 20, num2 = 20\n",
    "Num3 = Num2 / Num1 + ( Num2 * 2 ) # 20/50 + (20*2) = 20/50 + 40 = 40.4 = num3\n",
    "Num4 = Num3 + Num1 / 5 - 10 # 40.4 + 50/5 - 10 = 40.4 = num4\n",
    "Result = Num4 - Num2 # 40.4 - 20 = 20.4 = Result --> the result should be 20.4\n",
    "print(Result) # checking work"
   ]
  },
  {
   "cell_type": "code",
   "execution_count": 2,
   "metadata": {},
   "outputs": [
    {
     "name": "stdout",
     "output_type": "stream",
     "text": [
      "0\n"
     ]
    }
   ],
   "source": [
    "# Variables Problem 2\n",
    "\n",
    "Num1 = 10 # set Num1 as 10\n",
    "Num2 = Num1 % 3 * 4 # 10/3 is 3R3 --? 3*4 = 12 --> Num2 = 12\n",
    "Num1 = Num2 # Num1 = 12\n",
    "Num3 = Num1 * 3 # 12*3 = 36 --> Num3 = 36\n",
    "Result = Num3 % 2 # 36/2 = 18R0 --> Result = 0\n",
    "print(Result) # checking work"
   ]
  },
  {
   "cell_type": "code",
   "execution_count": 3,
   "metadata": {},
   "outputs": [
    {
     "name": "stdout",
     "output_type": "stream",
     "text": [
      "17\n"
     ]
    }
   ],
   "source": [
    "# Variables Problem 3\n",
    "\n",
    "valueA = 4 \n",
    "valueB = 90\n",
    "valueC = 17\n",
    "valueB = valueC - valueA # 17-4 = 13 --> valueB = 13\n",
    "valueA = valueA * 10 # 4*10 = 40 --> valueA = 40\n",
    "if valueB > 10: # this condition is met, since valueB = 13 and 13>10\n",
    "    print(valueC) # it should print 17"
   ]
  },
  {
   "cell_type": "code",
   "execution_count": 4,
   "metadata": {},
   "outputs": [
    {
     "name": "stdout",
     "output_type": "stream",
     "text": [
      "straightbrownshort\n"
     ]
    }
   ],
   "source": [
    "# Variables Problem 4 \n",
    "\n",
    "type = \"curly\"\n",
    "color = \"brown\"\n",
    "length = \"short\"\n",
    "type = \"straight\" # changes type from curly to straight\n",
    "hair = type + color + length\n",
    "print(hair) # should print straight brown short"
   ]
  },
  {
   "attachments": {},
   "cell_type": "markdown",
   "metadata": {},
   "source": [
    "### Strings Hacks\n",
    "\n",
    "Find the result of the following problems. Then convert the pseudocode to working python code using your knowledge of python string operators."
   ]
  },
  {
   "cell_type": "code",
   "execution_count": 5,
   "metadata": {},
   "outputs": [
    {
     "name": "stdout",
     "output_type": "stream",
     "text": [
      "Very handsome Yoongi is.\n"
     ]
    }
   ],
   "source": [
    "Noun = \"MinYoongi\" \n",
    "Adjective = \"handsome\" \n",
    "Adjective2 = \"Very\" \n",
    "Verb = \"is\" \n",
    "abrev =  Noun[3:9] # pseudocode: subtring(Noun, 1, 7) \n",
    "yoda = Adjective2 + \" \" + Adjective + \" \" + abrev + \" \" + Verb + \".\" # pseudocode: concat(Adjective2, \" \", Adjective, \" \", abrev, \" \",Verb, \".\") \n",
    "print(yoda) # pseudocode: display[yoda] # should print \"Very handsome Yoongi is.\""
   ]
  },
  {
   "cell_type": "code",
   "execution_count": 6,
   "metadata": {},
   "outputs": [
    {
     "name": "stdout",
     "output_type": "stream",
     "text": [
      "chocolate vote 270, raisin vote 4.5\n"
     ]
    }
   ],
   "source": [
    "# pseudocode\n",
    "# cookie = \"choclate\" \n",
    "# cookie2 = \"rasin\" \n",
    "# len1 = len(cookie) / 2 \n",
    "# len2 = len(cookie2) * 45 \n",
    "# vote1 = (cookie, \"vote\", len2) \n",
    "# vote2 = (cookie2, \"vote\", len1) \n",
    "# votes = concat(vote1, \" \", vote2) \n",
    "# display[votes]\n",
    "\n",
    "cookie = \"chocolate\" \n",
    "cookie2 = \"raisin\" \n",
    "len1 = (len(cookie) / 2)\n",
    "len2 = (len(cookie2) * 45)\n",
    "vote1 = (cookie + \" \" + \"vote\" + \" \" + str(len2)) \n",
    "vote2 = (cookie2 + \" \" + \"vote\" + \" \" + str(len1)) \n",
    "votes = vote1 + \", \" + vote2\n",
    "print(votes)"
   ]
  }
 ],
 "metadata": {
  "kernelspec": {
   "display_name": "base",
   "language": "python",
   "name": "python3"
  },
  "language_info": {
   "codemirror_mode": {
    "name": "ipython",
    "version": 3
   },
   "file_extension": ".py",
   "mimetype": "text/x-python",
   "name": "python",
   "nbconvert_exporter": "python",
   "pygments_lexer": "ipython3",
   "version": "3.9.12"
  },
  "orig_nbformat": 4,
  "vscode": {
   "interpreter": {
    "hash": "d4f40b15e6133daba1938c03094ab5050614a1b04d93d14e71faa6c0eef215a6"
   }
  }
 },
 "nbformat": 4,
 "nbformat_minor": 2
}
