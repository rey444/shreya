{
 "cells": [
  {
   "attachments": {},
   "cell_type": "markdown",
   "metadata": {},
   "source": [
    "# 3.5 - 3.7 Hacks\n",
    "\n",
    "- title: 3.5 - 3.7 Hacks\n",
    "- toc: true\n",
    "- branch: master\n",
    "- badges: true\n",
    "- comments: true\n",
    "- categories: [t2hacks]"
   ]
  },
  {
   "cell_type": "markdown",
   "metadata": {},
   "source": [
    "## Hacks Assignments - Shreya Sapkal\n",
    "**Conditionals**:\n",
    "\n",
    "- Write a program that fits these conditions using nested conditionals:\n",
    "    - If the product is expired, print \"this product is no good\"\n",
    "    - If the cost is above 50 dollars, and the product isn't expired, print \"this product is too expensive\"\n",
    "    - If the cost is 25 dollars but under 50, and the product isn't expired, print \"this is a regular product\"\n",
    "    - If the cost is under 25 dollars, print \"this is a cheap product\""
   ]
  },
  {
   "cell_type": "code",
   "execution_count": 1,
   "metadata": {},
   "outputs": [
    {
     "name": "stdout",
     "output_type": "stream",
     "text": [
      "This is a regular product!\n"
     ]
    }
   ],
   "source": [
    "# Feel free to use JS or Python - we won't discriminate whilst grading you!\n",
    "# Here is a python template for you to use.\n",
    "\n",
    "expired = False\n",
    "cost = 50\n",
    "if expired == True: \n",
    "    print(\"This product is no good!\")\n",
    "else:\n",
    "    if cost > 50:\n",
    "        print(\"This product is too expensive!\")\n",
    "    elif cost >= 25:\n",
    "        print(\"This is a regular product!\")\n",
    "    else:\n",
    "        print(\"This is a cheap product!\")"
   ]
  },
  {
   "cell_type": "markdown",
   "metadata": {},
   "source": [
    "**Boolean/Conditionals**:\n",
    "- Create a multiple choice quiz that ...\n",
    "    - uses Boolean expressions\n",
    "    - uses Logical operators\n",
    "    - uses Conditional statements\n",
    "    - prompts quiz-taker with multiple options (only one can be right)\n",
    "    - has at least 3 questions\n",
    "- Points will be awarded for creativity, intricacy, and how well Boolean/Binary concepts have been intertwined"
   ]
  },
  {
   "cell_type": "code",
   "execution_count": 3,
   "metadata": {},
   "outputs": [
    {
     "name": "stdout",
     "output_type": "stream",
     "text": [
      "Hello, shreyasapkal\n",
      "You will be asked 3 questions.\n",
      "Question: What year was the last major recession in the US? | a) 2008 | b) 2010 | c) 2020\n",
      "a is correct!\n",
      "Question: Who recently bought Twitter? | a) Jeff Bezos | b) Elon Musk | c) Oprah Winfrey\n",
      "c is incorrect! The correct answer was b\n",
      "Question: What element causes the sky to look blue? | a) Oxygen | b) Nitrogen | c) Carbon\n",
      "b is correct!\n",
      " you scored 2/3\n"
     ]
    }
   ],
   "source": [
    "import getpass, sys\n",
    "\n",
    "def question_with_response(prompt): # use of a function\n",
    "    print(\"Question: \" + prompt)\n",
    "    msg = input()\n",
    "    return msg\n",
    "\n",
    "questions = 3\n",
    "correct = 0\n",
    "question_and_answer = input \n",
    "\n",
    "print('Hello, ' + getpass.getuser())\n",
    "print(\"You will be asked \" + str(questions) + \" questions.\")\n",
    "question_and_answer(\"Are you ready to take a test?\")\n",
    "\n",
    "rsp = question_with_response(\"What year was the last major recession in the US? | a) 2008 | b) 2010 | c) 2020\")\n",
    "if rsp == \"a\":\n",
    "    print(rsp + \" is correct!\")\n",
    "    correct += 1\n",
    "else:\n",
    "    print(rsp + \" is incorrect! The correct answer was a\")\n",
    "\n",
    "rsp = question_with_response(\"Who recently bought Twitter? | a) Jeff Bezos | b) Elon Musk | c) Oprah Winfrey\")\n",
    "if rsp == \"b\":\n",
    "    print(rsp + \" is correct!\")\n",
    "    correct += 1\n",
    "else:\n",
    "    print(rsp + \" is incorrect! The correct answer was b\")\n",
    "\n",
    "rsp = question_with_response(\"What element causes the sky to look blue? | a) Oxygen | b) Nitrogen | c) Carbon\")\n",
    "if rsp == \"b\":\n",
    "    print(rsp + \" is correct!\")\n",
    "    correct += 1\n",
    "else:\n",
    "    print(rsp + \" is incorrect! The correct answer was b\")\n",
    "\n",
    "print(\" you scored \" + str(correct) +\"/\" + str(questions))"
   ]
  }
 ],
 "metadata": {
  "kernelspec": {
   "display_name": "Python 3.9.12 ('base')",
   "language": "python",
   "name": "python3"
  },
  "language_info": {
   "codemirror_mode": {
    "name": "ipython",
    "version": 3
   },
   "file_extension": ".py",
   "mimetype": "text/x-python",
   "name": "python",
   "nbconvert_exporter": "python",
   "pygments_lexer": "ipython3",
   "version": "3.9.12"
  },
  "orig_nbformat": 4,
  "vscode": {
   "interpreter": {
    "hash": "d4f40b15e6133daba1938c03094ab5050614a1b04d93d14e71faa6c0eef215a6"
   }
  }
 },
 "nbformat": 4,
 "nbformat_minor": 2
}
