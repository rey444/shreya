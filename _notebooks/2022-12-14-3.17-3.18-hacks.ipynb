{
 "cells": [
  {
   "attachments": {},
   "cell_type": "markdown",
   "metadata": {},
   "source": [
    "# 3.17 - 3.18 Hacks\n",
    "\n",
    "- title: 3.17 - 3.18 Hacks\n",
    "- toc: true\n",
    "- branch: master\n",
    "- badges: true\n",
    "- comments: true\n",
    "- categories: [t2hacks]"
   ]
  },
  {
   "attachments": {},
   "cell_type": "markdown",
   "metadata": {},
   "source": [
    "## Hacks\n",
    "\n",
    "**Come up with one situation in which a computer runs into an undecidable problem. Explain why it is considered an undecidable problem.**\n",
    "\n",
    "An example of an undecidable problem is determining how many even numbers exist. There are an infinite number of even numbers, so the algorithm would just keep running forever and producing higher and higher values."
   ]
  },
  {
   "attachments": {},
   "cell_type": "markdown",
   "metadata": {},
   "source": [
    "## 3.17 Homework \n",
    "Your homework for Algorithmic Efficiency is pretty simple.\n",
    "1. Use the 1st code below and graph it (Desmos, TI Inpire Cas, e.t.c), change the x value only! (Plot 5 Points Minimum)\n",
    "2. Label the number of loops done as x and the time (microseconds) to find the index as y\n",
    "3. Connect the points \n",
    "4. Do the same thing with the 2nd code\n",
    "5. Compare the two graphs and explain which one of the two is more efficient and why (min. 2 sentences)\n",
    "6. Insert images of the graph either in your blog or on review ticket"
   ]
  },
  {
   "cell_type": "code",
   "execution_count": 1,
   "metadata": {},
   "outputs": [
    {
     "name": "stdout",
     "output_type": "stream",
     "text": [
      "Found element after 3000 loops in 127 microseconds\n",
      "Your number was found at 2999\n"
     ]
    }
   ],
   "source": [
    "import time\n",
    "\n",
    "def linear_search(lst, x):\n",
    "    start_time = time.perf_counter_ns() # records time (nanoseconds)\n",
    "    for i in range(len(lst)): # loops through the entire list \n",
    "\n",
    "        if lst[i] == x: # until the x value we are looking for is found\n",
    "            end_time = time.perf_counter_ns() # records time again\n",
    "            total_time = (end_time - start_time) // 1000 # subtracts last recorded time and first recorded time\n",
    "            print(\"Found element after {} loops in {} microseconds\".format(i+1, total_time)) # prints the results\n",
    "            return print(\"Your number was found at\", i)\n",
    "            \n",
    "    end_time = time.perf_counter_ns() # records the time again\n",
    "    total_time = (end_time - start_time) // 1000 # subtracts last recorded time and first recorded time\n",
    "    print(\"Element not found after {} loops in {} microseconds\".format(len(lst), total_time)) # prints the results\n",
    "    return \"Your number wasn't found :(\"\n",
    "\n",
    "\n",
    "lst = list(range(1, 10001)) # list with numbers 1-10000\n",
    "\n",
    "x = 3000 # replace with an integer between 1 and 10000 (I suggest big numbers like 500, 2000, so on)\n",
    "\n",
    "linear_search(lst, x) # runs procedure"
   ]
  },
  {
   "cell_type": "code",
   "execution_count": 2,
   "metadata": {},
   "outputs": [
    {
     "name": "stdout",
     "output_type": "stream",
     "text": [
      "Element found after 13 loops in 4 microseconds\n"
     ]
    },
    {
     "data": {
      "text/plain": [
       "148"
      ]
     },
     "execution_count": 2,
     "metadata": {},
     "output_type": "execute_result"
    }
   ],
   "source": [
    "import time \n",
    "\n",
    "def binary_search(lt, x):\n",
    "    start_time = time.perf_counter_ns() # starts timer\n",
    "    low = 0 # sets the lower side \n",
    "    mid = 0 # sets mid value\n",
    "    high = len(lt) -1 # sets the higher side\n",
    "    num_loops = 0 # number of loops the search undergoes to find the x value\n",
    "\n",
    "    while low<=high: # Loop ran until mid is reached\n",
    "        num_loops += 1 # adds one loop each time process is repeated\n",
    "        mid = (low + high) // 2 # takes the lowest and highest possible numbers and divides by 2 and rounds to closest whole #\n",
    "\n",
    "        if lt[mid] == x:\n",
    "            end_time = time.perf_counter_ns() # records time\n",
    "            total_time = (end_time - start_time) // 1000 # time in microseconds\n",
    "            print(\"Element found after {} loops in {} microseconds\".format(num_loops, total_time)) # prints the results\n",
    "            return mid # returns the index value\n",
    "\n",
    "        elif lt[mid] > x: # if mid was higher than x value, then sets new highest value as mid -1 \n",
    "            high = mid -1 \n",
    "\n",
    "        elif lt[mid] < x:\n",
    "            low = mid + 1 # if mid was lower than x, sets the new low as mid + 1\n",
    "            \n",
    "    end_time = time.perf_counter_ns()\n",
    "    total_time = (end_time - start_time) // 1000 \n",
    "    print(\"Element not found after {} loops in {} microseconds\".format(num_loops, total_time)) # prints the results\n",
    "    return \"Your number wasn't found :(\"\n",
    "\n",
    "\n",
    "lt = list(range(1, 10001)) # list with numbers 1-10000\n",
    "\n",
    "x = 149 # replace with an integer between 1 and 10000 (I suggest big numbers like 500, 2000, so on)\n",
    "\n",
    "binary_search(lt, x) # runs procedure"
   ]
  },
  {
   "attachments": {},
   "cell_type": "markdown",
   "metadata": {},
   "source": [
    "## 3.18 Homework:\n",
    "\n",
    "1. Use the Jupyter notebook to write an algorithm that solves a decidable problem. You can use math or whatever else you would like to do.\n",
    "2. Write code to get the computer to run forever. Check [this example](https://mmaxwu.github.io/Tri2-GroupFastpages/lesson#An-Example-of-a-Forever-Running-Code) if you need help, but please come up with your own idea.\n",
    "\n",
    "##### Homeworks, hacks, and classwork(filled in blanks) for both 3.17 and 3.18 are due on Thursday at 9:00 pm. -0.1 points for each day late."
   ]
  },
  {
   "cell_type": "code",
   "execution_count": 16,
   "metadata": {},
   "outputs": [
    {
     "name": "stdout",
     "output_type": "stream",
     "text": [
      "30 is even\n",
      "None\n",
      "15 is not even\n",
      "None\n"
     ]
    }
   ],
   "source": [
    "# Problem 1 - Decidable Problem\n",
    "\n",
    "def checkEven(number):\n",
    "    if number % 2 == 0:\n",
    "        print(str(number) + \" is even\")\n",
    "    else:\n",
    "        print(str(number) + \" is not even\")\n",
    "\n",
    "print(checkEven(30)) \n",
    "print(checkEven(15))"
   ]
  },
  {
   "cell_type": "code",
   "execution_count": 18,
   "metadata": {},
   "outputs": [
    {
     "ename": "KeyboardInterrupt",
     "evalue": "",
     "output_type": "error",
     "traceback": [
      "\u001b[0;31m---------------------------------------------------------------------------\u001b[0m",
      "\u001b[0;31mKeyboardInterrupt\u001b[0m                         Traceback (most recent call last)",
      "\u001b[1;32m/home/shreyasapkal/shreya-2/_notebooks/2022-12-14-3.17-3.18-hacks.ipynb Cell 8\u001b[0m in \u001b[0;36m<cell line: 12>\u001b[0;34m()\u001b[0m\n\u001b[1;32m     <a href='vscode-notebook-cell://wsl%2Bubuntu/home/shreyasapkal/shreya-2/_notebooks/2022-12-14-3.17-3.18-hacks.ipynb#X11sdnNjb2RlLXJlbW90ZQ%3D%3D?line=11'>12</a>\u001b[0m \u001b[39mwhile\u001b[39;00m i \u001b[39m==\u001b[39m \u001b[39m0\u001b[39m:\n\u001b[1;32m     <a href='vscode-notebook-cell://wsl%2Bubuntu/home/shreyasapkal/shreya-2/_notebooks/2022-12-14-3.17-3.18-hacks.ipynb#X11sdnNjb2RlLXJlbW90ZQ%3D%3D?line=12'>13</a>\u001b[0m     number \u001b[39m+\u001b[39m\u001b[39m=\u001b[39m \u001b[39m1\u001b[39m\n\u001b[0;32m---> <a href='vscode-notebook-cell://wsl%2Bubuntu/home/shreyasapkal/shreya-2/_notebooks/2022-12-14-3.17-3.18-hacks.ipynb#X11sdnNjb2RlLXJlbW90ZQ%3D%3D?line=13'>14</a>\u001b[0m     \u001b[39mif\u001b[39;00m integerTest(number) \u001b[39m==\u001b[39m \u001b[39mFalse\u001b[39;00m:\n\u001b[1;32m     <a href='vscode-notebook-cell://wsl%2Bubuntu/home/shreyasapkal/shreya-2/_notebooks/2022-12-14-3.17-3.18-hacks.ipynb#X11sdnNjb2RlLXJlbW90ZQ%3D%3D?line=14'>15</a>\u001b[0m         i \u001b[39m+\u001b[39m\u001b[39m=\u001b[39m\u001b[39m1\u001b[39m\n\u001b[1;32m     <a href='vscode-notebook-cell://wsl%2Bubuntu/home/shreyasapkal/shreya-2/_notebooks/2022-12-14-3.17-3.18-hacks.ipynb#X11sdnNjb2RlLXJlbW90ZQ%3D%3D?line=15'>16</a>\u001b[0m         \u001b[39mprint\u001b[39m(\u001b[39m\"\u001b[39m\u001b[39mDone\u001b[39m\u001b[39m\"\u001b[39m)\n",
      "\u001b[1;32m/home/shreyasapkal/shreya-2/_notebooks/2022-12-14-3.17-3.18-hacks.ipynb Cell 8\u001b[0m in \u001b[0;36mintegerTest\u001b[0;34m(n)\u001b[0m\n\u001b[1;32m      <a href='vscode-notebook-cell://wsl%2Bubuntu/home/shreyasapkal/shreya-2/_notebooks/2022-12-14-3.17-3.18-hacks.ipynb#X11sdnNjb2RlLXJlbW90ZQ%3D%3D?line=4'>5</a>\u001b[0m \u001b[39mdef\u001b[39;00m \u001b[39mintegerTest\u001b[39m(n):\n\u001b[1;32m      <a href='vscode-notebook-cell://wsl%2Bubuntu/home/shreyasapkal/shreya-2/_notebooks/2022-12-14-3.17-3.18-hacks.ipynb#X11sdnNjb2RlLXJlbW90ZQ%3D%3D?line=5'>6</a>\u001b[0m     \u001b[39m# Testing if the number is an integer\u001b[39;00m\n\u001b[0;32m----> <a href='vscode-notebook-cell://wsl%2Bubuntu/home/shreyasapkal/shreya-2/_notebooks/2022-12-14-3.17-3.18-hacks.ipynb#X11sdnNjb2RlLXJlbW90ZQ%3D%3D?line=6'>7</a>\u001b[0m     \u001b[39mif\u001b[39;00m n\u001b[39m%\u001b[39;49m\u001b[39m1\u001b[39;49m \u001b[39m==\u001b[39m\u001b[39m0\u001b[39m:\n\u001b[1;32m      <a href='vscode-notebook-cell://wsl%2Bubuntu/home/shreyasapkal/shreya-2/_notebooks/2022-12-14-3.17-3.18-hacks.ipynb#X11sdnNjb2RlLXJlbW90ZQ%3D%3D?line=7'>8</a>\u001b[0m         \u001b[39mreturn\u001b[39;00m \u001b[39mTrue\u001b[39;00m\n\u001b[1;32m      <a href='vscode-notebook-cell://wsl%2Bubuntu/home/shreyasapkal/shreya-2/_notebooks/2022-12-14-3.17-3.18-hacks.ipynb#X11sdnNjb2RlLXJlbW90ZQ%3D%3D?line=8'>9</a>\u001b[0m     \u001b[39melse\u001b[39;00m:\n",
      "\u001b[0;31mKeyboardInterrupt\u001b[0m: "
     ]
    }
   ],
   "source": [
    "# Problem 2 - Undecidable Problem\n",
    "\n",
    "i = 0\n",
    "number = 1\n",
    "def integerTest(n):\n",
    "    # Testing if the number is an integer\n",
    "    if n%1 ==0:\n",
    "        return True\n",
    "    else:\n",
    "        return False\n",
    "# Using while loop to keep searching an a non-integer above 1. Note that the computer runs forever.\n",
    "while i == 0:\n",
    "    number += 1\n",
    "    if integerTest(number) == False:\n",
    "        i +=1\n",
    "        print(\"Done\")"
   ]
  }
 ],
 "metadata": {
  "kernelspec": {
   "display_name": "base",
   "language": "python",
   "name": "python3"
  },
  "language_info": {
   "codemirror_mode": {
    "name": "ipython",
    "version": 3
   },
   "file_extension": ".py",
   "mimetype": "text/x-python",
   "name": "python",
   "nbconvert_exporter": "python",
   "pygments_lexer": "ipython3",
   "version": "3.9.12 (main, Apr  5 2022, 06:56:58) \n[GCC 7.5.0]"
  },
  "orig_nbformat": 4,
  "vscode": {
   "interpreter": {
    "hash": "d4f40b15e6133daba1938c03094ab5050614a1b04d93d14e71faa6c0eef215a6"
   }
  }
 },
 "nbformat": 4,
 "nbformat_minor": 2
}
