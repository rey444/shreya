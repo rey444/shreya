{
 "cells": [
  {
   "attachments": {},
   "cell_type": "markdown",
   "metadata": {},
   "source": [
    "#  SASS Lesson\n",
    "> Trimester 3 SASS Lesson\n",
    "- toc: true\n",
    "- categories: [t3lessons]\n",
    "- week: 31"
   ]
  },
  {
   "attachments": {},
   "cell_type": "markdown",
   "metadata": {},
   "source": [
    "# Why SASS?\n",
    "\n",
    "SASS is an improvement on CSS in that there are methods of abstraction. It is a stylesheet language that is compiled into CSS, which means that Sass will translate the Sass code you wrote into CSS, which is what your web browser can read.\n",
    "\n",
    "# SASS vs SCSS\n",
    "As you learn about Sass, you might notice something called Scss. They are basically the same thing except that Scss uses curly braces and semicolons to distinguish between lines. Sass uses indentation and newlines instead.\n",
    "\n",
    "We will be teaching the *Scss* syntax because it is more commonly used."
   ]
  },
  {
   "attachments": {},
   "cell_type": "markdown",
   "metadata": {},
   "source": [
    "# Getting started\n",
    "\n",
    "A easy way to write SASS and have it preprocessed into CSS is by using a Jekyll powered website, such as GitHub pages or Fastpages.\n",
    "\n",
    "The first step is to clone a GitHub pages repo, such as this [one](https://github.com/lwu1822/sassy_squad).\n",
    "\n",
    "Within the repository, head over to `assets/css/`, and open `style.scss`.\n",
    "\n",
    "This is where you can create your SASS code.\n",
    "\n",
    "To see your CSS-translated SASS code, head over to `_site/assets/css/style.css`\n",
    "\n",
    "Note: You will need to run bundle exec jekyll serve before the _site directory appears.\n",
    "\n",
    "The first few hundred lines are used to style Github's theme. Make sure to scroll to the very bottom to see the SASS code that you wrote, which is in the form of CSS."
   ]
  },
  {
   "attachments": {},
   "cell_type": "markdown",
   "metadata": {},
   "source": [
    "# Nesting\n",
    "\n",
    "- Many selectors share the same element\n",
    "- nesting allows you to write styling code in a way that looks like an HTML hierarchy\n",
    "- have a div element that controls font --> within that div element, create two other div elements that control the font size"
   ]
  },
  {
   "attachments": {},
   "cell_type": "markdown",
   "metadata": {},
   "source": [
    "```\n",
    ".font {\n",
    "\n",
    "\t.title {\n",
    "\n",
    "\tfont-family: \"Times New Roman\", serif;\n",
    "\n",
    "\tfont-size: 3em;\n",
    "\n",
    "\t.text {\n",
    "\n",
    "\tfont-family: \"Times New Roman\", serif;\n",
    "\n",
    "\tfont-size: 1em;/div>\n",
    "            \n",
    "}\n",
    "\n",
    "<div class=\"font\">\n",
    "\n",
    "\t<div class=\"title\">\n",
    "\n",
    "\t<p>Title</p>\n",
    "\n",
    "\t</div>\n",
    "\n",
    "\t<div class=\"text\">\n",
    "\n",
    "\t<p>This is some text</p>\n",
    "\n",
    "\t</div>\n",
    "\n",
    "</div>\n",
    "\n",
    "```    "
   ]
  },
  {
   "attachments": {},
   "cell_type": "markdown",
   "metadata": {},
   "source": [
    "# Mini-hack\n",
    "\n",
    "Write out the SASS equivalent for the following CSS code:\n",
    "\n",
    "```\n",
    "CSS\n",
    ".a .b {\n",
    "    color: green;\n",
    "}\n",
    "\n",
    ".a .c {\n",
    "    color: blue;\n",
    "}\n",
    "```\n",
    "```\n",
    "SASS\n",
    ".a {\n",
    "  .b {\n",
    "    color: green;\n",
    "  }\n",
    "  \n",
    "  .c {\n",
    "    color: blue;\n",
    "  }\n",
    "}\n",
    "```"
   ]
  },
  {
   "attachments": {},
   "cell_type": "markdown",
   "metadata": {},
   "source": [
    "# Extend/Inheritance\n",
    "\n",
    "- The buttons on the home page have different colors\n",
    "- They have different color fill patterns: some are solid color, and some are ombre\n",
    "- Same width and height\n",
    "- Same font color\n",
    "- Same spacing between each button\n",
    "- We can create a placeholder class that stores the code we want to reuse\n",
    "- Example of placeholder:\n",
    "`%class-name { }`"
   ]
  },
  {
   "attachments": {},
   "cell_type": "markdown",
   "metadata": {},
   "source": [
    "**1. Creation of a Placeholder class for Button Layout**\n",
    "- `%buttonLayout` is like template for specific buttons we want to make"
   ]
  },
  {
   "attachments": {},
   "cell_type": "markdown",
   "metadata": {},
   "source": [
    "```\n",
    "%buttonLayout {\n",
    "\n",
    "\twidth: 15em;\n",
    "\n",
    "\theight: 15em;\n",
    "\n",
    "\tcolor: #ffffff;\n",
    "\n",
    "\tmargin-right: 10%;\n",
    "\n",
    "}\n",
    "```"
   ]
  },
  {
   "attachments": {},
   "cell_type": "markdown",
   "metadata": {},
   "source": [
    "**2. Create a selector for each button**\n",
    "- call code from the placeholder class using `@extend %class-name`"
   ]
  },
  {
   "attachments": {},
   "cell_type": "markdown",
   "metadata": {},
   "source": [
    "```\n",
    ".gettingStartedButton, .nestingButton, .extendButton {\n",
    "\n",
    "\t@extend %buttonLayout;\n",
    "\n",
    "}\n",
    "```"
   ]
  },
  {
   "attachments": {},
   "cell_type": "markdown",
   "metadata": {},
   "source": [
    "**3. Customize each button.**\n",
    "- Since each button has a different background color, we need to individually code the background color within each selector"
   ]
  },
  {
   "attachments": {},
   "cell_type": "markdown",
   "metadata": {},
   "source": [
    "```\n",
    ".gettingStartedButton {\n",
    "\n",
    "\tbackground: radial-gradient( #1539db, #8a8ce6);\n",
    "\n",
    "}\n",
    "\n",
    ".nestingButton {\n",
    "\n",
    "\tbackground: radial-gradient( #3a9fa7, #8ae0e6);\n",
    "\n",
    "}\n",
    "\n",
    ".extendButton {\n",
    "\n",
    "\tbackground: radial-gradient( #643aa7, #d78ae6);\n",
    "\n",
    "}\n",
    "```"
   ]
  },
  {
   "attachments": {},
   "cell_type": "markdown",
   "metadata": {},
   "source": [
    "# Mixin\n",
    "\n",
    "- use `background: radial-gradient();` to give buttons background color\n",
    "- could also use mixin to code for background\n",
    "- mixin creates code template that can be reused\n",
    "- mixin can take in parameters --> you can create dynamic styling\n",
    "- can create `@mixin` that takes in two colors to create a gradient\n"
   ]
  },
  {
   "attachments": {},
   "cell_type": "markdown",
   "metadata": {},
   "source": [
    "```\n",
    "@mixin buttonLayout($innerColor, $outerColor) {\n",
    "\n",
    "\tbackground: radial-gradient($innerColor, $outerColor);\n",
    "\n",
    "}\n",
    "```"
   ]
  },
  {
   "attachments": {},
   "cell_type": "markdown",
   "metadata": {},
   "source": [
    "- to call mixin, create a selector \n",
    "- call the mixin using `@include`\n",
    "- code below sets the background color of the Getting Started button to a gradient blue"
   ]
  },
  {
   "attachments": {},
   "cell_type": "markdown",
   "metadata": {},
   "source": [
    "```\n",
    ".gettingStartedButton {\n",
    "\n",
    "\t@include buttonLayout(#1539db, #8a8ce6);\n",
    "\n",
    "}\n",
    "```"
   ]
  },
  {
   "attachments": {},
   "cell_type": "markdown",
   "metadata": {},
   "source": [
    "- can place sytling rules that don't take in variables within mixin\n",
    "- code below shows how to style the rest of the button within a mixin"
   ]
  },
  {
   "attachments": {},
   "cell_type": "markdown",
   "metadata": {},
   "source": [
    "```\n",
    "@mixin buttonLayout($innerColor, $outerColor) {\n",
    "\n",
    "\tbackground: radial-gradient($innerColor, $outerColor);\n",
    "\n",
    "\twidth: 15em;\n",
    "\n",
    "\theight: 15em;\n",
    "\n",
    "\tcolor: #ffffff;\n",
    "\n",
    "\tmargin-right: 10%;\n",
    "\n",
    "\tborder-radius: 2em;\n",
    "\n",
    "}\n",
    "```"
   ]
  },
  {
   "attachments": {},
   "cell_type": "markdown",
   "metadata": {},
   "source": [
    "# Mini-Hack\n",
    "\n",
    "Write out a mixin in SASS that takes in a color and a font size as the parameter. Within the mixin, set the background color and font color to the color parameter, and set the font size to the font size parameter. Then create a selector that calls the mixin, and pass in a color and font size of your choice as the arguments."
   ]
  },
  {
   "attachments": {},
   "cell_type": "markdown",
   "metadata": {},
   "source": [
    "```\n",
    "@mixin newFont($background-color, $font-color, $font-size) {\n",
    "\n",
    "\tbackground-color: $color;\n",
    "\tfont-color: $color;\n",
    "\tfont-size: $font-size\n",
    "\n",
    "}\n",
    "\n",
    ".selector {\n",
    "\t@include newFont(#FF5733, #000000, 14px);\n",
    "}\n",
    "\n",
    "```"
   ]
  },
  {
   "attachments": {},
   "cell_type": "markdown",
   "metadata": {},
   "source": [
    "# Function\n",
    "\n",
    "**Example of Functions in SASS**"
   ]
  },
  {
   "attachments": {},
   "cell_type": "markdown",
   "metadata": {},
   "source": [
    "```\n",
    "@function name(parameters) {\n",
    "\n",
    "\t//code\n",
    "\n",
    "\t@return value;\n",
    "\n",
    "}\n",
    "```"
   ]
  },
  {
   "attachments": {},
   "cell_type": "markdown",
   "metadata": {},
   "source": [
    "- to change between light and dark mode, an `invert` function is created in SASS\n",
    "- function takes in an rbg value and returns inverted rbg color\n",
    "- to invert colors, subtract each rgb value from 255\n",
    "\n",
    "```\n",
    "@function sassInvert($r, $g, $b) {\n",
    "\n",
    "\t$newColor: rgb(255 - $r, 255 - $g, 255 - $b);\n",
    "\n",
    "\t@return $newColor;\n",
    "\n",
    "}\n",
    "```\n",
    "\n",
    "- you can call functions by specifying the function name with parenthesis\n",
    "- within the parenthesis, you specify the arguments\n",
    "\n",
    "```\n",
    ".invert {\n",
    "\n",
    "\tbackground-color: sassInvert(0, 0, 0);\n",
    "\n",
    "\tcolor: sassInvert(211,202,202);\n",
    "\n",
    "}\n",
    "```"
   ]
  },
  {
   "attachments": {},
   "cell_type": "markdown",
   "metadata": {},
   "source": [
    "# Import\n",
    "\n",
    "- SASS file can get cluttered if we are configuring a lot of styling for each page\n",
    "- Can split code into multiple files, and import them into one file\n",
    "- For instance, to put the styling for `function.html` in another SASS file, first create a directory called `_sass`.\n",
    "- Within the directory, create another SASS file. In this case, the file is called `functionStyle.scss`\n",
    "- Write your SASS code in that file. Once you are finished, switch back to `style.scss` and import the file with `@import \"file-name\"`\n",
    "- For instance, to import the `functionStyle.scss` file into `style.scss` , the import statement would be `@import \"functionStyle\"`."
   ]
  },
  {
   "attachments": {},
   "cell_type": "markdown",
   "metadata": {},
   "source": [
    "# SASS Hacks\n",
    "\n",
    "1. Take notes and complete the mini-hacks. (0.9)\n",
    "\n",
    "2. Complete the [quiz questions](https://lwu1822.github.io/sassy_squad/quizQuestions) and provide your answers in this notebook. (0.9)\n",
    "\n",
    "3. Use SASS to create something that uses either extend or mixin. (0.9)\n",
    "\n",
    "4. Extra credit: Research other SASS features and blog about what you learned or add to your SASS project with any extra features not covered in this lesson. More points will be given if both are done."
   ]
  },
  {
   "attachments": {},
   "cell_type": "markdown",
   "metadata": {},
   "source": [
    "## Multiple Choice Quiz Questions\n",
    "\n",
    "1. What is SASS? \n",
    "- b. A scripting language that has many styling operations\n",
    "\n",
    "2. What is the difference between SASS and SCSS?\n",
    "- a. They are very similar in their function, but their syntax is slightly different\n",
    "\n",
    "3. What is an example of an advantage of using SASS over just CSS?\n",
    "- a. SASS has more functions than CSS\n",
    "\n",
    "4. What does SASS stand for?\n",
    "- a. Systematically Arranged Sample Sheets\n",
    "\n",
    "5. Which of the following is NOT an example of an available SASS directive?\n",
    "- d. compute\n",
    "\n",
    "6. The __ directive is used to share rules and relationships between selectors.\n",
    "- b. extend\n",
    "\n",
    "7. What is “@___” called?\n",
    "- b. Directive\n"
   ]
  },
  {
   "attachments": {},
   "cell_type": "markdown",
   "metadata": {},
   "source": [
    "## Use SASS to create something that uses either extend or mixin\n",
    "\n",
    "```\n",
    ".button {\n",
    "  padding: 10px;\n",
    "  border: 1px solid #000000;\n",
    "}\n",
    "\n",
    ".submit-button {\n",
    "  @extend .button;\n",
    "  background-color: #007bff;\n",
    "  color: #fff;\n",
    "}\n",
    "```\n",
    "\n",
    "Here, I am creating a basic button selector, `.button`, which can be extended to different kinds of buttons. For the `.submit-button` selector, I inherit the styles from the `.button` selector to include it in the submit button, in addition to the new styles I want to use/have defined for the `submit-button`."
   ]
  },
  {
   "attachments": {},
   "cell_type": "markdown",
   "metadata": {},
   "source": [
    "## Research of Additional SASS Features\n",
    "\n",
    "- There are many SASS directives, which can be called using `@`\n",
    "- `@import`: used to import one SASS file into another.\n",
    "- `@extend`: used to inherit styles from one selector to another.\n",
    "- `@mixin`: used to define a reusable set of styles.\n",
    "- `@include`: used to include a mixin in a selector.\n",
    "- `@if`: used to control the flow of code based on conditions.\n",
    "- `@else`: used to define an alternate code path for an `@if` statement.\n",
    "- `@for`: used to create a loop that iterates a specific number of times.\n",
    "- `@while`: used to create a loop that continues as long as a condition is true.\n",
    "- `@each`: used to iterate over a list or map.\n",
    "- `@function`: used to define a reusable block of code that returns a value.\n",
    "- `@return`: used to return a value from a function.\n",
    "- `@debug`: used to print a debug message to the console during compilation.\n",
    "- `@warn`: used to print a warning message to the console during compilation.\n",
    "- `@error`: used to throw an error during compilation.\n",
    "\n",
    "SASS is cool because unlike CSS which mostly just allows you to do styling, you can also use SASS to create programs like other programming languages such as JavaScript and Python, using the directives `@if`, `@else`, `@for`, `@while`, `@each`, `@function`, and `@return`. You can even go as far as to debug your SASS code, print warning messages, and warn for errors."
   ]
  }
 ],
 "metadata": {
  "kernelspec": {
   "display_name": "base",
   "language": "python",
   "name": "python3"
  },
  "language_info": {
   "name": "python",
   "version": "3.10.9"
  },
  "orig_nbformat": 4
 },
 "nbformat": 4,
 "nbformat_minor": 2
}
