{
 "cells": [
  {
   "attachments": {},
   "cell_type": "markdown",
   "metadata": {},
   "source": [
    "#  SASS Lesson\n",
    "> Trimester 3 SASS Lesson\n",
    "- toc: true\n",
    "- categories: [t3lessons]\n",
    "- week: 31"
   ]
  },
  {
   "attachments": {},
   "cell_type": "markdown",
   "metadata": {},
   "source": [
    "# Why SASS?\n",
    "\n",
    "SASS is an improvement on CSS in that there are methods of abstraction. It is a stylesheet language that is compiled into CSS, which means that Sass will translate the Sass code you wrote into CSS, which is what your web browser can read.\n",
    "\n",
    "# SASS vs SCSS\n",
    "As you learn about Sass, you might notice something called Scss. They are basically the same thing except that Scss uses curly braces and semicolons to distinguish between lines. Sass uses indentation and newlines instead.\n",
    "\n",
    "We will be teaching the Scss syntax because it is more commonly used."
   ]
  },
  {
   "attachments": {},
   "cell_type": "markdown",
   "metadata": {},
   "source": [
    "# Getting started\n",
    "\n",
    "A easy way to write SASS and have it preprocessed into CSS is by using a Jekyll powered website, such as GitHub pages or Fastpages.\n",
    "\n",
    "The first step is to clone a GitHub pages repo, such as this [one](https://github.com/lwu1822/sassy_squad).\n",
    "\n",
    "Within the repository, head over to `assets/css/`, and open `style.scss`.\n",
    "\n",
    "This is where you can create your SASS code.\n",
    "\n",
    "To see your CSS-translated SASS code, head over to `_site/assets/css/style.css`\n",
    "\n",
    "Note: You will need to run bundle exec jekyll serve before the _site directory appears.\n",
    "\n",
    "The first few hundred lines are used to style Github's theme. Make sure to scroll to the very bottom to see the SASS code that you wrote, which is in the form of CSS."
   ]
  },
  {
   "attachments": {},
   "cell_type": "markdown",
   "metadata": {},
   "source": [
    "# Nesting\n",
    "\n",
    "- Many selectors share the same element"
   ]
  },
  {
   "attachments": {},
   "cell_type": "markdown",
   "metadata": {},
   "source": [
    "# Mini-hack\n",
    "\n",
    "Write out the SASS equivalent for the following CSS code:\n",
    "\n",
    "```\n",
    ".a .b {\n",
    "    color: green;\n",
    "}\n",
    "\n",
    ".a .c {\n",
    "    color: blue;\n",
    "}\n",
    "```"
   ]
  },
  {
   "attachments": {},
   "cell_type": "markdown",
   "metadata": {},
   "source": [
    "# Extend/Inheritance\n",
    "\n",
    "- The buttons on the home page have different colors\n",
    "- They have different color fill patterns: some are solid color, and some are ombre\n",
    "- Same width and height\n",
    "- Same font color\n",
    "- Same spacing between each button\n",
    "- We can create a placeholder class that stores the code we want to reuse\n",
    "- Example of placeholder:\n",
    "`%class-name { }`"
   ]
  },
  {
   "attachments": {},
   "cell_type": "markdown",
   "metadata": {},
   "source": [
    "**1. Creation of a Placeholder class for Button Layout**\n",
    "- `%buttonLayout` is like template for specific buttons we want to make"
   ]
  },
  {
   "cell_type": "code",
   "execution_count": null,
   "metadata": {
    "vscode": {
     "languageId": "plaintext"
    }
   },
   "outputs": [],
   "source": [
    "%buttonLayout {\n",
    "\n",
    "\twidth: 15em;\n",
    "\n",
    "\theight: 15em;\n",
    "\n",
    "\tcolor: #ffffff;\n",
    "\n",
    "\tmargin-right: 10%;\n",
    "\n",
    "}"
   ]
  },
  {
   "attachments": {},
   "cell_type": "markdown",
   "metadata": {},
   "source": [
    "**2. Create a selector for each button**\n",
    "- call code from the placeholder class using `@extend %class-name`"
   ]
  },
  {
   "cell_type": "code",
   "execution_count": null,
   "metadata": {
    "vscode": {
     "languageId": "plaintext"
    }
   },
   "outputs": [],
   "source": [
    ".gettingStartedButton, .nestingButton, .extendButton {\n",
    "\n",
    "\t@extend %buttonLayout;\n",
    "\n",
    "}\n"
   ]
  },
  {
   "attachments": {},
   "cell_type": "markdown",
   "metadata": {},
   "source": [
    "**3. Customize each button.**\n",
    "- Since each button has a different background color, we need to individually code the background color within each selector"
   ]
  },
  {
   "cell_type": "code",
   "execution_count": null,
   "metadata": {
    "vscode": {
     "languageId": "plaintext"
    }
   },
   "outputs": [],
   "source": [
    ".gettingStartedButton {\n",
    "\n",
    "\tbackground: radial-gradient( #1539db, #8a8ce6);\n",
    "\n",
    "}\n",
    "\n",
    ".nestingButton {\n",
    "\n",
    "\tbackground: radial-gradient( #3a9fa7, #8ae0e6);\n",
    "\n",
    "}\n",
    "\n",
    ".extendButton {\n",
    "\n",
    "\tbackground: radial-gradient( #643aa7, #d78ae6);\n",
    "\n",
    "}\n"
   ]
  },
  {
   "attachments": {},
   "cell_type": "markdown",
   "metadata": {},
   "source": [
    "# Mixin\n",
    "\n",
    "Take notes here"
   ]
  },
  {
   "attachments": {},
   "cell_type": "markdown",
   "metadata": {},
   "source": [
    "# Mini-hack\n",
    "\n",
    "Write out a mixin in SASS that takes in a color and a font size as the parameter. Within the mixin, set the background color and font color to the color parameter, and set the font size to the font size parameter. Then create a selector that calls the mixin, and pass in a color and font size of your choice as the arguments."
   ]
  },
  {
   "attachments": {},
   "cell_type": "markdown",
   "metadata": {},
   "source": [
    "# Function\n",
    "\n",
    "Take notes here"
   ]
  },
  {
   "attachments": {},
   "cell_type": "markdown",
   "metadata": {},
   "source": [
    "# Import\n",
    "\n",
    "- SASS file can get cluttered if we are configuring a lot of styling for each page\n",
    "- Can split code into multiple files, and import them into one file\n",
    "\n",
    "![](ghtop_impages/sassForMultipleFile.jpg)"
   ]
  },
  {
   "attachments": {},
   "cell_type": "markdown",
   "metadata": {},
   "source": [
    "# SASS Hacks\n",
    "\n",
    "1. Take notes and complete the mini-hacks. (0.9)\n",
    "\n",
    "2. Complete the [quiz questions](https://lwu1822.github.io/sassy_squad/quizQuestions) and provide your answers in this notebook. (0.9)\n",
    "\n",
    "3. Use SASS to create something that uses either extend or mixin. (0.9)\n",
    "\n",
    "4. Extra credit: Research other SASS features and blog about what you learned or add to your SASS project with any extra features not covered in this lesson. More points will be given if both are done."
   ]
  }
 ],
 "metadata": {
  "language_info": {
   "name": "python"
  },
  "orig_nbformat": 4
 },
 "nbformat": 4,
 "nbformat_minor": 2
}
