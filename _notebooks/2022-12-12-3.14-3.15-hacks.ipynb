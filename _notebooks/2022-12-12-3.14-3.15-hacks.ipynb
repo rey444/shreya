{
 "cells": [
  {
   "attachments": {},
   "cell_type": "markdown",
   "metadata": {},
   "source": [
    "# 3.14 - 3.15 Hacks\n",
    "\n",
    "- title: 3.14 - 3.15 Hacks\n",
    "- toc: true\n",
    "- branch: master\n",
    "- badges: true\n",
    "- comments: true\n",
    "- categories: [t2hacks]"
   ]
  },
  {
   "attachments": {},
   "cell_type": "markdown",
   "metadata": {},
   "source": [
    "## 3.14 Hacks\n",
    "\n",
    "**Research two other Python Libraries NOT DISCUSSED DURING LESSON and make a markdown post, explaining their function and how it helps programmers code.**\n",
    "\n",
    "1. Pandas\n",
    "    - A Berkeley Software Distribution licensed open source library\n",
    "    - used in data science\n",
    "    - used for data analysis, manipulation, and cleaning\n",
    "    - makes programming easier by allowing for simple data modeling and data analysis operations without switching to other languages\n",
    "    - can slice data frames\n",
    "    - can join and merge data frames\n",
    "    - can concatenate columns from 2 data frames\n",
    "    - can change index values in a data frame\n",
    "    - can change column headers\n",
    "    - can convert data into many forms\n",
    "\n",
    "2. Scikit Learn\n",
    "    - open source library for machine learning algorithms\n",
    "    - can be used with both supervised and unsupervised learning algorithms\n",
    "    - does cross validation: checking the accurary of supervised models on unseen data\n",
    "        - most common use is for music suggestions on spotify\n",
    "    - has Unsupervised learning algorithms: ex. clustering, factor analysis, principal component analysis, and unsupervised neural networks\n",
    "    - can extract features from photos and text\n",
    "    - helps programmers code because it includes many algorithms and can be used to perform machine learning and data mining tasks\n",
    "        - applications in dimensionality reduction, classification, regression, clustering, and model selection"
   ]
  },
  {
   "attachments": {},
   "cell_type": "markdown",
   "metadata": {},
   "source": [
    "## 3.15 Hacks\n",
    "\n",
    "1. Write a procedure that generates n random numbers, then sorts those numbers into lists of even and odd numbers (JS or Python, Python will be easier).\n",
    "\n",
    "2. Using NumPy and only coding in python cell, find the answer to the following questions: a. What is the derivative of 2x^5 - 6x^2 + 24x? b. What is the derivative of (13x^4 + 4x^2) / 2 when x = 9?\n",
    "\n",
    "3. Suppose you have a group of 10 dogs and 10 cats, and you want to create a random order for them. Show how random number generation could be used to create this random order."
   ]
  },
  {
   "cell_type": "code",
   "execution_count": 24,
   "metadata": {},
   "outputs": [
    {
     "name": "stdout",
     "output_type": "stream",
     "text": [
      "Your list of 10 random numbers: [77, 24, 11, 92, 47, 15, 27, 28, 58, 10]\n",
      "Your sorted list of even numbers: [24, 92, 28, 58, 10]\n",
      "Your sorted list of odd numbers: [77, 11, 47, 15, 27]\n"
     ]
    }
   ],
   "source": [
    "# Problem 1 - Random Number Generator and Even/Odd Sorter\n",
    "\n",
    "import random # import all numbers\n",
    "\n",
    "def sortList(numList): # define a function sortList\n",
    "    \n",
    "    numList = random.sample(range(1, 100), 10) # generate a list of 10 numbers between 1 and 100, and assign it to variable \"numList\"\n",
    "    print(\"Your list of 10 random numbers: \" + str(numList)) # print the list of 10 random numbers between 1 and 100\n",
    "    evenList = [] # create an empty list for even numbers\n",
    "    oddList = [] # create an empty list for odd numbers\n",
    "    \n",
    "    for i in numList: # iterate through numList\n",
    "        if i % 2 == 0: # check if number is divisible by 2 -- remainder must be 0\n",
    "            evenList.append(i) # if the number is divisible by 2, add it to evenList\n",
    "        else:\n",
    "            oddList.append(i) # if the number is not divisible by 2, add it to oddList\n",
    "    print(\"Your sorted list of even numbers: \" + str(evenList)) # print the evenList\n",
    "    print(\"Your sorted list of odd numbers: \" + str(oddList)) # print the oddList\n",
    "\n",
    "newList = (str(sortList(str(numList)))) # calling the function"
   ]
  },
  {
   "cell_type": "code",
   "execution_count": 51,
   "metadata": {},
   "outputs": [
    {
     "name": "stdout",
     "output_type": "stream",
     "text": [
      "Polynomial function f(x)=\n",
      "    5     2\n",
      "2 x - 6 x + 24 x\n",
      "Derivative f'(x)=     4\n",
      "10 x - 12 x + 24\n"
     ]
    }
   ],
   "source": [
    "# Problem 2A - NumPy Use - What is the derivative of 2x^5 - 6x^2 + 24x?\n",
    "\n",
    "import numpy as np\n",
    " \n",
    "# defining polynomial function\n",
    "var = np.poly1d([2, 0, 0, -6, 24, 0]) # kept trying different zero placement until i got the right polynomial; left is highest power and right is lowest power\n",
    "print(\"Polynomial function f(x)=\\n\", var)\n",
    " \n",
    "# calculating the derivative\n",
    "derivative = var.deriv()\n",
    "print(\"Derivative f'(x)=\", derivative)"
   ]
  },
  {
   "cell_type": "code",
   "execution_count": 67,
   "metadata": {},
   "outputs": [
    {
     "name": "stdout",
     "output_type": "stream",
     "text": [
      "f(x)=\n",
      "      4     2\n",
      "6.5 x + 2 x\n",
      "f'(x)=     3\n",
      "26 x + 4 x\n",
      "When x=9  f'(x)= 18990.0\n"
     ]
    }
   ],
   "source": [
    "# Problem 2B - NumPy Use - What is the derivative of (13x^4 + 4x^2) / 2 when x = 9?\n",
    "\n",
    "import numpy as np\n",
    " \n",
    "# defining polynomial function\n",
    "var = np.poly1d([13, 0, 4, 0, 0])\n",
    "function = var / 2\n",
    "print(\"f(x)=\\n\", function)\n",
    " \n",
    "# calculating the derivative\n",
    "derivative = function.deriv()\n",
    "print(\"f'(x)=\", derivative)\n",
    " \n",
    "# calculates the derivative of after\n",
    "# given value of x\n",
    "print(\"When x=9  f'(x)=\", derivative(9))\n"
   ]
  },
  {
   "cell_type": "code",
   "execution_count": 98,
   "metadata": {},
   "outputs": [
    {
     "name": "stdout",
     "output_type": "stream",
     "text": [
      "Shuffled dog name list: ['mocha', 'leo', 'sunny', 'mothi', 'daisy', 'bubba', 'lilly', 'buddy', 'coffee', 'oreo']\n",
      "Shuffled cat name list: ['kyoto', 'basil', 'whiskers', 'mitten', 'bobby', 'cora', 'gwen', 'simba', 'billy', 'mimi']\n"
     ]
    }
   ],
   "source": [
    "# Problem 3 - 3. Suppose you have a group of 10 dogs and 10 cats, and you want to create a random order for them. Show how random number generation could be used to create this random order.\n",
    "\n",
    "import random\n",
    "\n",
    "dogs = [\"oreo\", \"mocha\", \"coffee\", \"lilly\", \"daisy\", \"buddy\", \"bubba\", \"mothi\", \"leo\", \"sunny\"] # create list of 10 dog names\n",
    "cats = [\"mimi\", \"kyoto\", \"billy\", \"whiskers\", \"bobby\", \"basil\", \"simba\", \"mitten\", \"cora\", \"gwen\"] # create list of 10 cat names\n",
    "\n",
    "random.shuffle(dogs) # use \"random.shuffle\" command to shuffle the elements in the list of 10 dog names\n",
    "print(\"Shuffled dog name list: \" + str(dogs))\n",
    "\n",
    "random.shuffle(cats) # use \"random.shuffle\" command to shuffle the elements in the list of 10 cat names\n",
    "print(\"Shuffled cat name list: \" + str(cats))"
   ]
  }
 ],
 "metadata": {
  "kernelspec": {
   "display_name": "base",
   "language": "python",
   "name": "python3"
  },
  "language_info": {
   "codemirror_mode": {
    "name": "ipython",
    "version": 3
   },
   "file_extension": ".py",
   "mimetype": "text/x-python",
   "name": "python",
   "nbconvert_exporter": "python",
   "pygments_lexer": "ipython3",
   "version": "3.9.12"
  },
  "orig_nbformat": 4,
  "vscode": {
   "interpreter": {
    "hash": "d4f40b15e6133daba1938c03094ab5050614a1b04d93d14e71faa6c0eef215a6"
   }
  }
 },
 "nbformat": 4,
 "nbformat_minor": 2
}
