{
 "cells": [
  {
   "attachments": {},
   "cell_type": "markdown",
   "metadata": {},
   "source": [
    "# Big Idea 5.2 Digital Divide\n",
    "\n",
    "- title: Big Idea 5.2 Digital Divide\n",
    "- toc: true\n",
    "- branch: master\n",
    "- badges: true\n",
    "- comments: true\n",
    "- categories: [t2]"
   ]
  },
  {
   "attachments": {},
   "cell_type": "markdown",
   "metadata": {},
   "source": [
    "### Digital Divide\n",
    "\n",
    "- \"have\" vs. \"have not\" in terms of computers, internet, or access to technology\n",
    "    - some areas of the country/world may have little to no access to technology\n",
    "    - some countries have restricted internet access\n",
    "    - divide in digital services allowed in countries\n",
    "\n",
    "**Factors that Contribute to the Digital Divide**\n",
    "\n",
    "- socioeconomic status\n",
    "- geographic location\n",
    "    - san diego area itself has discrepancies in access to technology between the northern and southern regions\n",
    "    - sunnyvale is considered to be a \"tech hub\" for the US\n",
    "    - at the start of the pandemic, 90,000 kids in New Jersey didn't have access to computers for distance learning\n",
    "- education level\n",
    "- nationality\n",
    "- religion\n",
    "    - some religious groups choose not to use technology, ex. the Amish\n",
    "- age\n",
    "- ethnicity\n",
    "- people may be working on older versions of technology and not have access to the latest updates\n",
    "    - older generations of computers, older software versions, etc."
   ]
  },
  {
   "attachments": {},
   "cell_type": "markdown",
   "metadata": {},
   "source": [
    "### Computers in the Classroom\n",
    "\n",
    "- Del Norte prefers that students bring computers to school + provide chromebooks to all students who don't have access to a computer\n",
    "- at school, there are internet blockers and limitations on what chromebooks or school computers can do, thus giving those with a personal computer an advantage"
   ]
  },
  {
   "attachments": {},
   "cell_type": "markdown",
   "metadata": {},
   "source": [
    "### 5.2 Hacks Questions\n",
    "\n",
    "1. What do you think of investments being made in protection versus investments being made in technology education? Are digital fears expanding digital divide?\n",
    "\n",
    "2. How does someone empower themselves in a digital world?\n",
    "\n",
    "3. How does someone that is empowered help someone that is not empowered? Describe something you could do at Del Norte HS.\n",
    "\n",
    "4. Is paper or red tape blocking digital empowerment? Are there such barriers at Del Norte? Elsewhere?"
   ]
  }
 ],
 "metadata": {
  "kernelspec": {
   "display_name": "base",
   "language": "python",
   "name": "python3"
  },
  "language_info": {
   "name": "python",
   "version": "3.9.12 (main, Apr  5 2022, 06:56:58) \n[GCC 7.5.0]"
  },
  "orig_nbformat": 4,
  "vscode": {
   "interpreter": {
    "hash": "d4f40b15e6133daba1938c03094ab5050614a1b04d93d14e71faa6c0eef215a6"
   }
  }
 },
 "nbformat": 4,
 "nbformat_minor": 2
}
