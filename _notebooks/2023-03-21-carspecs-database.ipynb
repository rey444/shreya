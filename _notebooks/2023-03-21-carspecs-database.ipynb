{
 "cells": [
  {
   "attachments": {},
   "cell_type": "markdown",
   "metadata": {},
   "source": [
    "#  Unit 2.4a Using Programs with Data, SQLAlchemy\n",
    "> Using Programs with Data is focused on SQL and database actions.  Part A focuses on SQLAlchemy and an OOP programming style,\n",
    "- toc: true\n",
    "- categories: [t3]"
   ]
  },
  {
   "attachments": {},
   "cell_type": "markdown",
   "metadata": {},
   "source": [
    "# Database and SQLAlchemy\n",
    "> In this blog we will explore using programs with data, focused on Databases.  We will use SQLite Database to learn more about using Programs with Data.  ***Use Debugging through these examples to examine Objects created in Code***.\n",
    "\n",
    "- College Board talks about ideas like \n",
    "    - Program Usage. \"iterative and interactive way when processing information\"\n",
    "    - Managing Data.  \"classifying data are part of the process in using programs\", \"data files in a Table\"\n",
    "    - Insight \"insight and knowledge can be obtained from ...  digitally represented information\"\n",
    "    - Filter systems. 'tools for finding information and recognizing patterns\"\n",
    "    - Application. \"the preserve has two databases\", \"an employee wants to count the number of book\"\n",
    "\n",
    "- PBL, Databases, Iterative/OOP\n",
    "    - Iterative. Refers to a sequence of instructions or code being repeated until a specific end result is achieved\n",
    "    - OOP. A computer programming model that organizes software design around data, or objects, rather than functions and logic\n",
    "    - SQL. Structured Query Language, abbreviated as SQL, is a language used in programming, managing, and structuring data \n"
   ]
  },
  {
   "attachments": {},
   "cell_type": "markdown",
   "metadata": {},
   "source": [
    "## Imports and Flask Objects\n",
    "> Defines and key object creations\n",
    "\n",
    "- Comment on where you have observed these working?  Provide a defintion of purpose.\n",
    "    1. Flask app object\n",
    "    2. SQLAlchemy db object\n"
   ]
  },
  {
   "cell_type": "code",
   "execution_count": 1,
   "metadata": {},
   "outputs": [],
   "source": [
    "\"\"\"\n",
    "These imports define the key objects\n",
    "\"\"\"\n",
    "\n",
    "from flask import Flask\n",
    "from flask_sqlalchemy import SQLAlchemy\n",
    "\n",
    "\"\"\"\n",
    "These object and definitions are used throughout the Jupyter Notebook.\n",
    "\"\"\"\n",
    "\n",
    "# Setup of key Flask object (app)\n",
    "app = Flask(__name__)\n",
    "# Setup SQLAlchemy object and properties for the database (db)\n",
    "database = 'sqlite:///sqlite.db'  # path and filename of database\n",
    "app.config['SQLALCHEMY_TRACK_MODIFICATIONS'] = False\n",
    "app.config['SQLALCHEMY_DATABASE_URI'] = database\n",
    "app.config['SECRET_KEY'] = 'SECRET_KEY'\n",
    "db = SQLAlchemy()\n",
    "\n",
    "\n",
    "# This belongs in place where it runs once per project\n",
    "db.init_app(app)\n"
   ]
  },
  {
   "attachments": {},
   "cell_type": "markdown",
   "metadata": {},
   "source": [
    "## Model Definition\n",
    "> Define columns, initialization, and CRUD methods for users table in sqlite.db\n",
    "\n",
    "- Comment on these items in the class, purpose and definition.\n",
    "    - User class: certain information we are collecting about the user\n",
    "        - a set of developer-defined attributes (characteristics) and methods (behaviors) that you can use to refer to multiple data items as a single entity --> object\n",
    "    - _init_ method: used to define the attributes/data that we are going to store for each user\n",
    "    - db.Model inheritance: a parameter\n",
    "        - you are taking something from db.Model, therefore \"inheritance\"\n",
    "        - you take from db.Model so you are able to use the attributes in it\n",
    "    - ```@property```, ```@<column>.setter```\n",
    "        - needed for each of the attributes\n",
    "        - another name for @property is a \"getter\" --> function called to read the data (R in CRUD) in database\n",
    "        - @<column>.setter --> function called to create (create = adding user into the object) or update data in database\n",
    "    - create, read, update, delete methods"
   ]
  },
  {
   "cell_type": "code",
   "execution_count": 2,
   "metadata": {},
   "outputs": [],
   "source": [
    "\"\"\" database dependencies to support sqlite examples \"\"\"\n",
    "import datetime\n",
    "from datetime import datetime\n",
    "import json\n",
    "\n",
    "from sqlalchemy.exc import IntegrityError\n",
    "from werkzeug.security import generate_password_hash, check_password_hash\n",
    "\n",
    "\n",
    "''' Tutorial: https://www.sqlalchemy.org/library.html#tutorials, try to get into a Python shell and follow along '''\n",
    "\n",
    "# Define the User class to manage actions in the 'users' table\n",
    "# -- Object Relational Mapping (ORM) is the key concept of SQLAlchemy\n",
    "# -- a.) db.Model is like an inner layer of the onion in ORM\n",
    "# -- b.) User represents data we want to store, something that is built on db.Model\n",
    "# -- c.) SQLAlchemy ORM is layer on top of SQLAlchemy Core, then SQLAlchemy engine, SQL\n",
    "class CarSpec(db.Model):\n",
    "    __tablename__ = 'carspecs'  # table name is plural, class name is singular\n",
    "\n",
    "    # Define the User schema with \"vars\" from object\n",
    "    id = db.Column(db.Integer, unique=True, primary_key=True)\n",
    "    _name = db.Column(db.String(255), unique=False, nullable=False)\n",
    "    _type = db.Column(db.String(255), unique=False, nullable=False)\n",
    "    _seatingCapacity = db.Column(db.String(255), unique=False, nullable=False)\n",
    "    _powerSource = db.Column(db.String(255), unique=False, nullable=False)\n",
    "    _transmission = db.Column(db.String(255), unique=False, nullable=False)\n",
    "    _mileage = db.Column(db.String(255), unique=False, nullable=False)\n",
    "    _range = db.Column(db.String(255), unique=False, nullable=False)\n",
    "\n",
    "    # constructor of a User object, initializes the instance variables within object (self)\n",
    "    def __init__(self, name, type, seatingCapacity, powerSource, transmission, mileage, range):\n",
    "        self._name = name   # variables with self prefix become part of the object, \n",
    "        self._type = type\n",
    "        self._seatingCapacity = seatingCapacity\n",
    "        self._powerSource = powerSource\n",
    "        self._transmission = transmission\n",
    "        self._mileage = mileage\n",
    "        self._range = range\n",
    "\n",
    "    # gets the name of the car\n",
    "    @property\n",
    "    def name(self):\n",
    "        return self._name\n",
    "    \n",
    "    # a setter function, allows name to be updated after initial object creation\n",
    "    @name.setter\n",
    "    def name(self, name):\n",
    "        self._name = name\n",
    "\n",
    "     # gets the type of the car\n",
    "    @property\n",
    "    def type(self):\n",
    "        return self._type\n",
    "    \n",
    "    # a setter function, allows type to be updated after initial object creation\n",
    "    @type.setter\n",
    "    def type(self, type):\n",
    "        self._type = type \n",
    "\n",
    "    # gets the type of the seating capacity of the car\n",
    "    @property\n",
    "    def seatingCapacity(self):\n",
    "        return self._seatingCapacity\n",
    "    \n",
    "    # a setter function, allows seating capacity to be updated after initial object creation\n",
    "    @seatingCapacity.setter\n",
    "    def seatingCapacity(self, seatingCapacity):\n",
    "        self._seatingCapacity = seatingCapacity\n",
    "    \n",
    "    # a powerSource getter\n",
    "    @property\n",
    "    def powerSource(self):\n",
    "        return self._powerSource\n",
    "\n",
    "    # a setter function to set the car's powerSource\n",
    "    @powerSource.setter\n",
    "    def powerSource(self, powerSource):\n",
    "        self._powerSource = powerSource\n",
    "    \n",
    "     # a transmission getter\n",
    "    @property\n",
    "    def transmission(self):\n",
    "        return self._transmission\n",
    "\n",
    "    # a setter function to set the car's transmission\n",
    "    @transmission.setter\n",
    "    def transmission(self, transmission):\n",
    "        self._transmission = transmission\n",
    "        \n",
    "     # a mileage getter\n",
    "    @property\n",
    "    def mileage(self):\n",
    "        return self._mileage\n",
    "\n",
    "    # a setter function to set the car's mileage\n",
    "    @mileage.setter\n",
    "    def mileage(self, mileage):\n",
    "        self._mileage = mileage\n",
    "    \n",
    "     # a range getter\n",
    "    @property\n",
    "    def range(self):\n",
    "        return self._range\n",
    "\n",
    "    # a setter function to set the car's mileage\n",
    "    @range.setter\n",
    "    def range(self, range):\n",
    "        self._range = range\n",
    "    \n",
    "    # output content using str(object) is in human readable form\n",
    "    # output content using json dumps, this is ready for API response\n",
    "    def __str__(self):\n",
    "        return json.dumps(self.read())\n",
    "\n",
    "    # CRUD create/add a new record to the table\n",
    "    # returns self or None on error\n",
    "    def create(self):\n",
    "        try:\n",
    "            # creates a person object from User(db.Model) class, passes initializers\n",
    "            db.session.add(self)  # add prepares to persist person object to Users table\n",
    "            db.session.commit()  # SqlAlchemy \"unit of work pattern\" requires a manual commit\n",
    "            return self\n",
    "        except IntegrityError:\n",
    "            db.session.remove()\n",
    "            return None\n",
    "\n",
    "    # CRUD read converts self to dictionary\n",
    "    # returns dictionary\n",
    "    def read(self):\n",
    "        return {\n",
    "            \"id\": self.id,\n",
    "            \"name\" : self.name,\n",
    "            \"type\" : self.type,\n",
    "            \"seatingCapacity\" : self.seatingCapacity,\n",
    "            \"powerSource\" : self.powerSource,\n",
    "            \"transmission\" : self.transmission,\n",
    "            \"mileage\" : self.mileage,\n",
    "            \"range\" : self.range\n",
    "        }\n",
    "\n",
    "    # CRUD update: updates user name, password, phone\n",
    "    # returns self\n",
    "    def update(self, name=\"\", type=\"\", seatingCapacity=\"\", powerSource=\"\", transmission=\"\", mileage=\"\", range=\"\"):\n",
    "        \"\"\"only updates values with length\"\"\"\n",
    "        if len(name) > 0:\n",
    "            self.name = name\n",
    "        if len(type) > 0:\n",
    "            self.type = type\n",
    "        if len(seatingCapacity) > 0:\n",
    "            self.seatingCapacity = seatingCapacity\n",
    "        if len(powerSource) > 0:\n",
    "            self.powerSource = powerSource\n",
    "        if len(transmission) > 0:\n",
    "            self.transmission = transmission\n",
    "        if len(mileage) > 0:\n",
    "            self.mileage = mileage\n",
    "        if len(range) > 0:\n",
    "            self.range = range\n",
    "        # self.price_range = price_range\n",
    "        db.session.commit()\n",
    "        return self\n",
    "\n",
    "    # CRUD delete: remove self\n",
    "    # None\n",
    "    def delete(self):\n",
    "        db.session.delete(self)\n",
    "        db.session.commit()\n",
    "        return None\n",
    "    "
   ]
  },
  {
   "attachments": {},
   "cell_type": "markdown",
   "metadata": {},
   "source": [
    "## Initial Data\n",
    "> Uses SQLALchemy db.create_all() to initialize rows into sqlite.db\n",
    "\n",
    "- Comment on how these work?\n",
    "    1. Create All Tables from db Object\n",
    "    2. User Object Constructors\n",
    "    3. Try / Except \n"
   ]
  },
  {
   "cell_type": "code",
   "execution_count": 5,
   "metadata": {},
   "outputs": [
    {
     "name": "stdout",
     "output_type": "stream",
     "text": [
      "Records exist name Chevrolet Blazer, or error.\n",
      "Records exist name Chevrolet Blazer EV, or error.\n",
      "Records exist name Chevrolet Bolt EV, or error.\n",
      "Records exist name Chevrolet Equinox, or error.\n",
      "Records exist name Chevrolet Equinox EV, or error.\n",
      "Records exist name Chevrolet Trailblazer, or error.\n",
      "Records exist name Chevrolet Traverse, or error.\n",
      "Records exist name Chevrolet Seeker, or error.\n",
      "Records exist name Chevrolet Suburban, or error.\n",
      "Records exist name Chevrolet Tahoe, or error.\n",
      "Records exist name Chevrolet Colorado, or error.\n"
     ]
    }
   ],
   "source": [
    "\"\"\"Database Creation and Testing \"\"\"\n",
    "\n",
    "\n",
    "# Builds working data for testing\n",
    "def initCarSpecs():\n",
    "    with app.app_context():\n",
    "        \"\"\"Create database and tables\"\"\"\n",
    "        db.create_all()\n",
    "        \"\"\"Tester data for table\"\"\"\n",
    "        s1 = CarSpec(name='Chevrolet Blazer', type='SUV', seatingCapacity='5', powerSource='Gasoline', transmission='Automatic', mileage='24', range='Non-Electric')\n",
    "        s2 = CarSpec(name='Chevrolet Blazer EV', type='SUV', seatingCapacity='5', powerSource='Electric', transmission='Automatic', mileage='Non-Gasoline', range='400') \n",
    "        s3 = CarSpec(name='Chevrolet Bolt EV', type='SUV', seatingCapacity='5', powerSource='Electric', transmission='Automatic', mileage='Non-Gasoline', range='Non-Electric')\n",
    "        s4 = CarSpec(name='Chevrolet Equinox', type='SUV', seatingCapacity='5', powerSource='Gasoline', transmission='Automatic', mileage='25', range='Non-Gasoline')\n",
    "        s5 = CarSpec(name='Chevrolet Equinox EV', type='SUV', seatingCapacity='5', powerSource='Electric', transmission='Automatic', mileage='Non-Gasoline', range='300')\n",
    "        s6 = CarSpec(name='Chevrolet Trailblazer', type='SUV', seatingCapacity='5', powerSource='Gasoline', transmission='Automatic', mileage='17', range='Non-Electric') \n",
    "        s7 = CarSpec(name='Chevrolet Traverse', type='SUV', seatingCapacity='7', powerSource='Gasoline', transmission='Automatic', mileage='15', range='Non-Electric')\n",
    "        s8 = CarSpec(name='Chevrolet Seeker', type='SUV', seatingCapacity='5', powerSource='Gasoline', transmission='Automatic', mileage='30', range='Non-Electric')\n",
    "        s9 = CarSpec(name='Chevrolet Suburban', type='SUV', seatingCapacity='8', powerSource='Gasoline', transmission='Automatic', mileage='15', range='Non-Electric')\n",
    "        s10 = CarSpec(name='Chevrolet Tahoe', type='SUV', seatingCapacity='8', powerSource='Gasoline', transmission='Automatic', mileage='17', range='Non-Electric') \n",
    "        s11 = CarSpec(name='Chevrolet Colorado', type='Pickup Truck', seatingCapacity='5', powerSource='Gasoline', transmission='Automatic', mileage='16', range='Non-Electric')\n",
    "\n",
    "    carspecs = [s1, s2, s3, s4, s5, s6, s7, s8, s9, s10, s11]\n",
    "\n",
    "    \"\"\"Builds sample user/note(s) data\"\"\"\n",
    "    for carspec in carspecs:\n",
    "            try:\n",
    "                '''add user to table'''\n",
    "                object = carspec.create()\n",
    "                print(f\"Created new uid {object.name}\")\n",
    "            except:  # error raised if object nit created\n",
    "                '''fails with bad or duplicate data'''\n",
    "                print(f\"Records exist name {carspec.name}, or error.\")\n",
    "                \n",
    "initCarSpecs()"
   ]
  },
  {
   "attachments": {},
   "cell_type": "markdown",
   "metadata": {},
   "source": [
    "## Check for given Credentials in users table in sqlite.db\n",
    "> Use of ORM Query object and custom methods to identify user to credentials uid and password\n",
    "\n",
    "- Comment on purpose of following\n",
    "    1. User.query.filter_by\n",
    "        - when you do a query.filter_by, you are looking for a user id/checking if it exists\n",
    "        - `check_credentials` function checks if any existing user IDs are the same one as the current input --> if they're not, then nothing is going to happen\n",
    "    2. user.password\n",
    "        - secondary check\n",
    "        - if there is a user id that is the same as the current input, it does a second check comparing the existing passwords to the password that was inputted\n",
    "        - if the password is the same, then it returns True. The user already exists"
   ]
  },
  {
   "cell_type": "code",
   "execution_count": 4,
   "metadata": {},
   "outputs": [
    {
     "data": {
      "text/plain": [
       "False"
      ]
     },
     "execution_count": 4,
     "metadata": {},
     "output_type": "execute_result"
    }
   ],
   "source": [
    "# SQLAlchemy extracts single user from database matching User ID\n",
    "def find_by_uid(uid):\n",
    "    with app.app_context():\n",
    "        user = cars[CarSpec].query.filter_by(_uid=uid).first() \n",
    "    return user # returns user object\n",
    "\n",
    "# Check credentials by finding user and verify password\n",
    "def check_credentials(uid, password):\n",
    "    # query email and return user record\n",
    "    user = find_by_uid(uid)\n",
    "    if user == None:\n",
    "        return False\n",
    "    if (user.is_password(password)):\n",
    "        return True\n",
    "    return False\n",
    "        \n",
    "check_credentials(\"rey444\", \"123qwerty\")"
   ]
  },
  {
   "attachments": {},
   "cell_type": "markdown",
   "metadata": {},
   "source": [
    "## Create a new User in table in Sqlite.db\n",
    "> Uses SQLALchemy and custom user.create() method to add row.\n",
    "\n",
    "- Comment on purpose of following\n",
    "    1. user.find_by_uid() and try/except\n",
    "        - allows us to check whether or not a uid with the same name already exists\n",
    "    2. user = User(...)\n",
    "        - allows us to initialize the object, which is User\n",
    "    3. user.dob and try/except\n",
    "        - if no dob is provided by the user, it sets the user's dob to the current date\n",
    "    4. user.create() and try/except\n",
    "        - allows us to know whether or not the object was correctly created"
   ]
  },
  {
   "cell_type": "code",
   "execution_count": 24,
   "metadata": {},
   "outputs": [
    {
     "name": "stdout",
     "output_type": "stream",
     "text": [
      "Created\n",
      " {'id': 7, 'name': 'Shreya Sapkal', 'uid': 'rey444', 'dob': '12-21-2004', 'age': 18}\n"
     ]
    }
   ],
   "source": [
    "# Inputs, Try/Except, and SQLAlchemy work together to build a valid database object\n",
    "def create():\n",
    "    # optimize user time to see if uid exists\n",
    "    uid = input(\"Enter your user id:\")\n",
    "    user = find_by_uid(uid)\n",
    "    try:\n",
    "        print(\"Found\\n\", user.read())\n",
    "        return\n",
    "    except:\n",
    "        pass # keep going\n",
    "    \n",
    "    # request value that ensure creating valid object\n",
    "    name = input(\"Enter your name:\")\n",
    "    password = input(\"Enter your password\")\n",
    "    \n",
    "    # Initialize User object before date\n",
    "    user = User(name=name, \n",
    "                uid=uid, \n",
    "                password=password\n",
    "                )\n",
    "    \n",
    "    # create user.dob, fail with today as dob\n",
    "    dob = input(\"Enter your date of birth 'YYYY-MM-DD'\")\n",
    "    try:\n",
    "        user.dob = datetime.strptime(dob, '%Y-%m-%d').date()\n",
    "    except ValueError:\n",
    "        user.dob = datetime.today()\n",
    "        print(f\"Invalid date {dob} require YYYY-mm-dd, date defaulted to {user.dob}\")\n",
    "           \n",
    "    # write object to database\n",
    "    with app.app_context():\n",
    "        try:\n",
    "            object = user.create()\n",
    "            print(\"Created\\n\", object.read())\n",
    "        except:  # error raised if object not created\n",
    "            print(\"Unknown error uid {uid}\")\n",
    "        \n",
    "create()"
   ]
  },
  {
   "attachments": {},
   "cell_type": "markdown",
   "metadata": {},
   "source": [
    "## Reading users table in sqlite.db\n",
    "> Uses SQLALchemy query.all method to read data\n",
    "\n",
    "- Comment on purpose of following\n",
    "    1. User.query.all\n",
    "        - used to extract all the user data from the database\n",
    "    2. json_ready assignment, google List Comprehension\n",
    "        - all users are extracted from databse --> users are turned into JSON formatting\n",
    "        - why JSON? Because JSON is universal; it is easier to move around the data and use it in other applications."
   ]
  },
  {
   "cell_type": "code",
   "execution_count": 4,
   "metadata": {},
   "outputs": [
    {
     "data": {
      "text/plain": [
       "[]"
      ]
     },
     "execution_count": 4,
     "metadata": {},
     "output_type": "execute_result"
    }
   ],
   "source": [
    "\n",
    "# SQLAlchemy extracts all users from database, turns each user into JSON\n",
    "def read():\n",
    "    with app.app_context():\n",
    "        table = CarSpec.query.all()\n",
    "    json_ready = [user.read() for user in table] # \"List Comprehensions\", for each user add user.read() to list\n",
    "    return json_ready\n",
    "\n",
    "read()"
   ]
  },
  {
   "attachments": {},
   "cell_type": "markdown",
   "metadata": {},
   "source": [
    "# Hacks\n",
    "- Add this Blog to you own Blogging site.  In the Blog add notes and observations on each code cell.\n",
    "- Change blog to your own database.\n",
    "- Add additional CRUD\n",
    "    - Add Update functionality to this blog.\n",
    "    - Add Delete functionality to this blog."
   ]
  },
  {
   "attachments": {},
   "cell_type": "markdown",
   "metadata": {},
   "source": [
    "### Adding Update Functionality"
   ]
  },
  {
   "cell_type": "code",
   "execution_count": 3,
   "metadata": {},
   "outputs": [
    {
     "name": "stdout",
     "output_type": "stream",
     "text": [
      "(0, 'id', 'INTEGER', 1, None, 1)\n",
      "(1, '_name', 'VARCHAR(255)', 1, None, 0)\n",
      "(2, '_uid', 'VARCHAR(255)', 1, None, 0)\n",
      "(3, '_password', 'VARCHAR(255)', 1, None, 0)\n",
      "(4, '_dob', 'DATE', 0, None, 0)\n"
     ]
    }
   ],
   "source": [
    "import sqlite3\n",
    "\n",
    "database = 'instance/sqlite.db' # this is location of database\n",
    "\n",
    "def schema():\n",
    "    \n",
    "    # Connect to the database file\n",
    "    conn = sqlite3.connect(database)\n",
    "\n",
    "    # Create a cursor object to execute SQL queries\n",
    "    cursor = conn.cursor()\n",
    "    \n",
    "    # Fetch results of Schema\n",
    "    results = cursor.execute(\"PRAGMA table_info('users')\").fetchall()\n",
    "\n",
    "    # Print the results\n",
    "    for row in results:\n",
    "        print(row)\n",
    "\n",
    "    # Close the database connection\n",
    "    conn.close()\n",
    "    \n",
    "schema()"
   ]
  },
  {
   "cell_type": "code",
   "execution_count": 4,
   "metadata": {},
   "outputs": [
    {
     "name": "stdout",
     "output_type": "stream",
     "text": [
      "The row with user id rey444 the password has been successfully updated\n"
     ]
    }
   ],
   "source": [
    "import sqlite3\n",
    "\n",
    "def update():\n",
    "    uid = input(\"Enter user id to update\")\n",
    "    password = input(\"Enter updated password\")\n",
    "    if len(password) < 2:\n",
    "        message = \"hacked\"\n",
    "        password = 'gothackednewpassword123'\n",
    "    else:\n",
    "        message = \"successfully updated\"\n",
    "\n",
    "    # Connect to the database file\n",
    "    conn = sqlite3.connect(database)\n",
    "\n",
    "    # Create a cursor object to execute SQL commands\n",
    "    cursor = conn.cursor()\n",
    "\n",
    "    try:\n",
    "        # Execute an SQL command to update data in a table\n",
    "        cursor.execute(\"UPDATE users SET _password = ? WHERE _uid = ?\", (password, uid))\n",
    "        if cursor.rowcount == 0:\n",
    "            # The uid was not found in the table\n",
    "            print(f\"No uid {uid} was not found in the table\")\n",
    "        else:\n",
    "            print(f\"The row with user id {uid} the password has been {message}\")\n",
    "            conn.commit()\n",
    "    except sqlite3.Error as error:\n",
    "        print(\"Error while executing the UPDATE:\", error)\n",
    "        \n",
    "    \n",
    "    # Close the cursor and connection objects\n",
    "    cursor.close()\n",
    "    conn.close()\n",
    "    \n",
    "update()"
   ]
  },
  {
   "attachments": {},
   "cell_type": "markdown",
   "metadata": {},
   "source": [
    "### Adding Delete Functionality"
   ]
  },
  {
   "cell_type": "code",
   "execution_count": 5,
   "metadata": {},
   "outputs": [
    {
     "name": "stdout",
     "output_type": "stream",
     "text": [
      "The row with uid whit was successfully deleted\n"
     ]
    }
   ],
   "source": [
    "import sqlite3\n",
    "\n",
    "def delete():\n",
    "    uid = input(\"Enter user id to delete\")\n",
    "\n",
    "    # Connect to the database file\n",
    "    conn = sqlite3.connect(database)\n",
    "\n",
    "    # Create a cursor object to execute SQL commands\n",
    "    cursor = conn.cursor()\n",
    "    \n",
    "    try:\n",
    "        cursor.execute(\"DELETE FROM users WHERE _uid = ?\", (uid,))\n",
    "        if cursor.rowcount == 0:\n",
    "            # The uid was not found in the table\n",
    "            print(f\"No uid {uid} was not found in the table\")\n",
    "        else:\n",
    "            # The uid was found in the table and the row was deleted\n",
    "            print(f\"The row with uid {uid} was successfully deleted\")\n",
    "        conn.commit()\n",
    "    except sqlite3.Error as error:\n",
    "        print(\"Error while executing the DELETE:\", error)\n",
    "        \n",
    "    # Close the cursor and connection objects\n",
    "    cursor.close()\n",
    "    conn.close()\n",
    "    \n",
    "delete()"
   ]
  }
 ],
 "metadata": {
  "kernelspec": {
   "display_name": "base",
   "language": "python",
   "name": "python3"
  },
  "language_info": {
   "codemirror_mode": {
    "name": "ipython",
    "version": 3
   },
   "file_extension": ".py",
   "mimetype": "text/x-python",
   "name": "python",
   "nbconvert_exporter": "python",
   "pygments_lexer": "ipython3",
   "version": "3.9.12"
  },
  "orig_nbformat": 4,
  "vscode": {
   "interpreter": {
    "hash": "8b82d5009c68ba5675978267e2b13a671f2a7143d61273c5a3813c97e0b2493d"
   }
  }
 },
 "nbformat": 4,
 "nbformat_minor": 2
}
