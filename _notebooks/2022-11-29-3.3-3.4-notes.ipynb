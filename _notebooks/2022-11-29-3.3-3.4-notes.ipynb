{
 "cells": [
  {
   "cell_type": "markdown",
   "metadata": {},
   "source": [
    "# 3.3 - 3.4 Notes & Hacks\n",
    "\n",
    "- toc: true\n",
    "- branch: master\n",
    "- badges: true\n",
    "- comments: true\n",
    "- categories: [t2notes]"
   ]
  },
  {
   "cell_type": "markdown",
   "metadata": {},
   "source": [
    "## Vocab\n",
    "\n",
    "- algorithm: a set of instructions that can accomplish a specific task\n",
    "- variables: a method to store data"
   ]
  },
  {
   "cell_type": "markdown",
   "metadata": {},
   "source": [
    "# What is an Algorithm?\n",
    "\n",
    "a set of instructions that can accomplish a specific task\n",
    "\n",
    "# 3 Components of an Algorithm\n",
    "\n",
    "1. Sequencing: Algorithms do tasks in the order of specification.\n",
    "2. Selection: Helps choose two different outcomes based off a decision.\n",
    "3. Iteration: If a condition is true, then the code can repeat.\n",
    "\n",
    "# Representing Algorithms\n",
    "\n",
    "1. Flowcharts: Use shapes and arrows to represent the steps of an algorithm.\n",
    "2. Pseudocode: A blend of human language and coding format.\n",
    "\n"
   ]
  },
  {
   "cell_type": "markdown",
   "metadata": {},
   "source": [
    "# Arithmetic Operations"
   ]
  },
  {
   "cell_type": "markdown",
   "metadata": {},
   "source": [
    "**Subtraction** - represented by \"-\""
   ]
  },
  {
   "cell_type": "code",
   "execution_count": 1,
   "metadata": {},
   "outputs": [],
   "source": [
    "num1 = 2 - 1"
   ]
  },
  {
   "cell_type": "markdown",
   "metadata": {},
   "source": [
    "**Addition** - Represented by \"+\""
   ]
  },
  {
   "cell_type": "code",
   "execution_count": 7,
   "metadata": {},
   "outputs": [],
   "source": [
    "num1 = 2 + 1"
   ]
  },
  {
   "cell_type": "markdown",
   "metadata": {},
   "source": [
    "**Multiplication** - Represented by “*”"
   ]
  },
  {
   "cell_type": "code",
   "execution_count": 6,
   "metadata": {},
   "outputs": [],
   "source": [
    "num1 = 2 * 1"
   ]
  },
  {
   "cell_type": "markdown",
   "metadata": {},
   "source": [
    "**Division** - Represented by “/”"
   ]
  },
  {
   "cell_type": "code",
   "execution_count": 5,
   "metadata": {},
   "outputs": [],
   "source": [
    "num1 = 2 / 1"
   ]
  },
  {
   "cell_type": "markdown",
   "metadata": {},
   "source": [
    "**Getting the Remainder** - Represented by “MOD” (% in python)"
   ]
  },
  {
   "cell_type": "code",
   "execution_count": 4,
   "metadata": {},
   "outputs": [],
   "source": [
    "num1 = 5 % 2"
   ]
  },
  {
   "cell_type": "markdown",
   "metadata": {},
   "source": [
    "# Application of Mathematical Expressions"
   ]
  },
  {
   "cell_type": "markdown",
   "metadata": {},
   "source": [
    "> Note: collegeboard pseudocode starts at 1"
   ]
  },
  {
   "cell_type": "markdown",
   "metadata": {},
   "source": [
    "1. items can be numbers or variables"
   ]
  },
  {
   "cell_type": "code",
   "execution_count": 3,
   "metadata": {},
   "outputs": [],
   "source": [
    "num1 = 10 # \"num1\", \"num2\", etc. are variables\n",
    "num2 = num1 - 25 # we can perform mathematical expressions on the variables as well\n",
    "num3 = 100 * num1\n",
    "num4 = num1 / num2\n",
    "num5 = 9 % num4 "
   ]
  },
  {
   "cell_type": "markdown",
   "metadata": {},
   "source": [
    "2. order of operations (same as in normal math)"
   ]
  },
  {
   "cell_type": "code",
   "execution_count": 8,
   "metadata": {},
   "outputs": [
    {
     "name": "stdout",
     "output_type": "stream",
     "text": [
      "10.0\n"
     ]
    }
   ],
   "source": [
    "num1 = 9 % 2 * ( 8 - 2 ) + 8 / ( 6 - 4 )\n",
    "print(num1) # should print 10"
   ]
  },
  {
   "cell_type": "markdown",
   "metadata": {},
   "source": [
    "# Variables\n",
    "\n",
    "**4 Different Ways to Store Variables**\n",
    "\n",
    "1. Numerical value stored in a variable \n",
    "\n",
    "ex. `score = 0`\n",
    "\n",
    "2. Value of another variable stored in a variable\n",
    "\n",
    "ex. `score = newScore`\n",
    "\n",
    "3. Performing mathematical expressions on a variable/Result of an operation stored in a variable\n",
    "\n",
    "ex. `score = newScore + 1`\n",
    "\n",
    "4. Result of a procedure call stored in a variable\n",
    "\n",
    "ex. `avgScore = allScores(20, 60, 80)`"
   ]
  },
  {
   "cell_type": "markdown",
   "metadata": {},
   "source": [
    "**Sequencing**\n",
    "\n",
    "- every time a new value is assigned to a variable, it overrides the last value which was assigned to the same variable\n",
    "- changing order of steps changes overall outcome"
   ]
  },
  {
   "cell_type": "code",
   "execution_count": 9,
   "metadata": {},
   "outputs": [],
   "source": [
    "num1 = 2\n",
    "num2 = 4\n",
    "num3 = 6\n",
    "num1 = num2 + num3      # num1 is now 4 + 6, which is 10\n",
    "num2 = num1 + num3      # num2 is now (the new num1) 10 + 6, which is 16\n",
    "# output: num1 = 10, num2 = 16, num3 = 6\n",
    "\n",
    "#vs.\n",
    "\n",
    "num1 = 2\n",
    "num2 = 4\n",
    "num3 = 6\n",
    "num2 = num1 + num3  #num2 is now 8\n",
    "num1 = num2 + num3  # num1 is now 14\n",
    "# output: num1 = 14, num2 = 8, num3 = 6"
   ]
  },
  {
   "cell_type": "markdown",
   "metadata": {},
   "source": [
    "**Tracking Variables - AP Exam Question**\n",
    "\n",
    "- make sure to account for every time a variable changes when writing code"
   ]
  },
  {
   "cell_type": "code",
   "execution_count": 10,
   "metadata": {},
   "outputs": [
    {
     "name": "stdout",
     "output_type": "stream",
     "text": [
      "7\n",
      "6\n",
      "7.0\n"
     ]
    }
   ],
   "source": [
    "# example of variable tracking question\n",
    "\n",
    "var1 = 9\n",
    "var2 = 7\n",
    "var3 = 2\n",
    "\n",
    "var = var1 + 5\n",
    "var2 = var1 - var3\n",
    "var1 = var2\n",
    "var3 = (var1 + var2) / 2\n",
    "var2 = 6\n",
    "\n",
    "print(var1) # question would ask something like, what's the value of var1, var2, and var3\n",
    "print(var2)\n",
    "print(var3)"
   ]
  },
  {
   "cell_type": "markdown",
   "metadata": {},
   "source": [
    "# Strings\n",
    "\n",
    "- A string is a collection of characters. What is a character as character can be anything from numbers, letters, spaces, special symbols, etc\n",
    "-  Certain procedures may be used with strings and they vary from programming language to language Python examples"
   ]
  },
  {
   "cell_type": "markdown",
   "metadata": {},
   "source": [
    "## String Commands for AP Exam Pseudocode\n",
    "\n",
    "- **len()** to find the length of a string\n",
    "- **lower()** to convert to lowercase\n",
    "- **concat()** returns a string made up of the concatenated \n",
    "- **substring()** returns the characters from the string beginning at the at the first position to the last"
   ]
  },
  {
   "cell_type": "markdown",
   "metadata": {},
   "source": [
    "**Substring Example**"
   ]
  },
  {
   "cell_type": "code",
   "execution_count": null,
   "metadata": {},
   "outputs": [],
   "source": [
    "substring(\"abcdefghijkl\", 2, 5) would print bcde"
   ]
  },
  {
   "cell_type": "markdown",
   "metadata": {},
   "source": [
    "## String Concatenation\n",
    "\n",
    "- combining 2 or more strings to make a new strings in order to create a new string\n",
    "\n",
    "**Example of String Concatenation**\n",
    "\n",
    "`concat(\"cookie\", \"monster\")` returns `cookiemonster`"
   ]
  },
  {
   "cell_type": "markdown",
   "metadata": {},
   "source": [
    "## Substrings\n",
    "\n",
    "- a part of an already existing string\n",
    "\n",
    "**Example of Substrings**\n",
    "\n",
    "`concat(\"My dogs are cute\" 1,2)` would return `My`\n",
    "\n"
   ]
  },
  {
   "cell_type": "markdown",
   "metadata": {},
   "source": [
    "# Hacks\n",
    "\n",
    "### [Algorithms & Flowcharts Hack Link](https://jamboard.google.com/d/1qpPFYt9cyjJOSzpT4ODND8Jj6gk8DUWPbLAksaOTCvA/viewer?f=10&pli=1)\n",
    "\n",
    "### Variables Hacks"
   ]
  },
  {
   "cell_type": "code",
   "execution_count": 2,
   "metadata": {},
   "outputs": [
    {
     "name": "stdout",
     "output_type": "stream",
     "text": [
      "20.4\n"
     ]
    }
   ],
   "source": [
    "# Variables Problem 1\n",
    "\n",
    "Num1 = 50 # define Num1 as 50\n",
    "Num2 = Num1 % 9 + 15  #  5 + 15 = 20, num2 = 20\n",
    "Num3 = Num2 / Num1 + ( Num2 * 2 ) # 20/50 + (20*2) = 20/50 + 40 = 40.4 = num3\n",
    "Num4 = Num3 + Num1 / 5 - 10 # 40.4 + 50/5 - 10 = 40.4 = num4\n",
    "Result = Num4 - Num2 # 40.4 - 20 = 20.4 = Result --> the result should be 20.4\n",
    "print(Result) # checking work"
   ]
  },
  {
   "cell_type": "code",
   "execution_count": 3,
   "metadata": {},
   "outputs": [
    {
     "name": "stdout",
     "output_type": "stream",
     "text": [
      "0\n"
     ]
    }
   ],
   "source": [
    "# Variables Problem 2\n",
    "\n",
    "Num1 = 10 # set Num1 as 10\n",
    "Num2 = Num1 % 3 * 4 # 10/3 is 3R3 --? 3*4 = 12 --> Num2 = 12\n",
    "Num1 = Num2 # Num1 = 12\n",
    "Num3 = Num1 * 3 # 12*3 = 36 --> Num3 = 36\n",
    "Result = Num3 % 2 # 36/2 = 18R0 --> Result = 0\n",
    "print(Result) # checking work"
   ]
  },
  {
   "cell_type": "code",
   "execution_count": 4,
   "metadata": {},
   "outputs": [
    {
     "name": "stdout",
     "output_type": "stream",
     "text": [
      "17\n"
     ]
    }
   ],
   "source": [
    "# Variables Problem 3\n",
    "\n",
    "valueA = 4 \n",
    "valueB = 90\n",
    "valueC = 17\n",
    "valueB = valueC - valueA # 17-4 = 13 --> valueB = 13\n",
    "valueA = valueA * 10 # 4*10 = 40 --> valueA = 40\n",
    "if valueB > 10: # this condition is met, since valueB = 13 and 13>10\n",
    "    print(valueC) # it should print 17"
   ]
  },
  {
   "cell_type": "code",
   "execution_count": 6,
   "metadata": {},
   "outputs": [
    {
     "name": "stdout",
     "output_type": "stream",
     "text": [
      "straightbrownshort\n"
     ]
    }
   ],
   "source": [
    "# Variables Problem 4 \n",
    "\n",
    "type = \"curly\"\n",
    "color = \"brown\"\n",
    "length = \"short\"\n",
    "type = \"straight\" # changes type from curly to straight\n",
    "hair = type + color + length\n",
    "print(hair) # should print straight brown short"
   ]
  },
  {
   "cell_type": "markdown",
   "metadata": {},
   "source": [
    "### Strings Hacks\n",
    "\n",
    "Find the result of the following problems. Then convert the pseudocode to working python code using your knowledge of python string operators."
   ]
  },
  {
   "cell_type": "code",
   "execution_count": 13,
   "metadata": {},
   "outputs": [
    {
     "name": "stdout",
     "output_type": "stream",
     "text": [
      "Very handsome Yoongi is.\n"
     ]
    }
   ],
   "source": [
    "Noun = \"MinYoongi\" \n",
    "Adjective = \"handsome\" \n",
    "Adjective2 = \"Very\" \n",
    "Verb = \"is\" \n",
    "abrev =  Noun[3:9] # pseudocode: subtring(Noun, 1, 7) \n",
    "yoda = Adjective2 + \" \" + Adjective + \" \" + abrev + \" \" + Verb + \".\" # pseudocode: concat(Adjective2, \" \", Adjective, \" \", abrev, \" \",Verb, \".\") \n",
    "print(yoda) # pseudocode: display[yoda] # should print \"Very handsome Yoongi is.\""
   ]
  },
  {
   "cell_type": "code",
   "execution_count": 24,
   "metadata": {},
   "outputs": [
    {
     "name": "stdout",
     "output_type": "stream",
     "text": [
      "chocolate vote 270, raisin vote 4.5\n"
     ]
    }
   ],
   "source": [
    "# pseudocode\n",
    "# cookie = \"choclate\" \n",
    "# cookie2 = \"rasin\" \n",
    "# len1 = len(cookie) / 2 \n",
    "# len2 = len(cookie2) * 45 \n",
    "# vote1 = (cookie, \"vote\", len2) \n",
    "# vote2 = (cookie2, \"vote\", len1) \n",
    "# votes = concat(vote1, \" \", vote2) \n",
    "# display[votes]\n",
    "\n",
    "cookie = \"chocolate\" \n",
    "cookie2 = \"raisin\" \n",
    "len1 = (len(cookie) / 2)\n",
    "len2 = (len(cookie2) * 45)\n",
    "vote1 = (cookie + \" \" + \"vote\" + \" \" + str(len2)) \n",
    "vote2 = (cookie2 + \" \" + \"vote\" + \" \" + str(len1)) \n",
    "votes = vote1 + \", \" + vote2\n",
    "print(votes)"
   ]
  }
 ],
 "metadata": {
  "kernelspec": {
   "display_name": "Python 3.9.12 ('base')",
   "language": "python",
   "name": "python3"
  },
  "language_info": {
   "codemirror_mode": {
    "name": "ipython",
    "version": 3
   },
   "file_extension": ".py",
   "mimetype": "text/x-python",
   "name": "python",
   "nbconvert_exporter": "python",
   "pygments_lexer": "ipython3",
   "version": "3.9.12"
  },
  "orig_nbformat": 4,
  "vscode": {
   "interpreter": {
    "hash": "d4f40b15e6133daba1938c03094ab5050614a1b04d93d14e71faa6c0eef215a6"
   }
  }
 },
 "nbformat": 4,
 "nbformat_minor": 2
}
