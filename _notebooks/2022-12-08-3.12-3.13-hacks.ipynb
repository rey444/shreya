{
 "cells": [
  {
   "attachments": {},
   "cell_type": "markdown",
   "metadata": {},
   "source": [
    "# 3.12 - 3.13 Hacks\n",
    "\n",
    "- title: 3.12 - 3.13 Hacks\n",
    "- toc: true\n",
    "- branch: master\n",
    "- badges: true\n",
    "- comments: true\n",
    "- categories: [t2hacks]"
   ]
  }
 ],
 "metadata": {
  "kernelspec": {
   "display_name": "base",
   "language": "python",
   "name": "python3"
  },
  "language_info": {
   "name": "python",
   "version": "3.9.12 (main, Apr  5 2022, 06:56:58) \n[GCC 7.5.0]"
  },
  "orig_nbformat": 4,
  "vscode": {
   "interpreter": {
    "hash": "d4f40b15e6133daba1938c03094ab5050614a1b04d93d14e71faa6c0eef215a6"
   }
  }
 },
 "nbformat": 4,
 "nbformat_minor": 2
}
