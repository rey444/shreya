{
 "cells": [
  {
   "attachments": {},
   "cell_type": "markdown",
   "metadata": {},
   "source": [
    "# 3.12 - 3.13 Hacks\n",
    "\n",
    "- title: 3.12 - 3.13 Hacks\n",
    "- toc: true\n",
    "- branch: master\n",
    "- badges: true\n",
    "- comments: true\n",
    "- categories: [t2hacks]"
   ]
  },
  {
   "attachments": {},
   "cell_type": "markdown",
   "metadata": {},
   "source": [
    "1. Write and call a python procedure about something which can help you in school, for example the teacher’s function we spoke about earlier.\n",
    "2. Points will be awarded based on creativity and functionality\n"
   ]
  },
  {
   "cell_type": "code",
   "execution_count": 1,
   "metadata": {},
   "outputs": [
    {
     "name": "stdout",
     "output_type": "stream",
     "text": [
      "How many points did you get on your most recent quiz attempt, out of 40?\n",
      "38/40\n",
      "Your new grade is 95.0\n"
     ]
    }
   ],
   "source": [
    "# Quiz out of 40 Points - New Grade Calculator\n",
    "quizGrade = 35 # set the quiz grade that the student currently has to 35\n",
    "\n",
    "def changeQuizGrade (currentPoints): # procedure\n",
    "    currentGrade = currentPoints / 40 # divide currentPoints by 40 and set equal to currentGrade\n",
    "    currentGrade = currentGrade * 100 # calculate a percentage value for the current grade by multiplying currentGrade by 100\n",
    "    return currentGrade \n",
    "\n",
    "newPoints = int(input(print(\"How many points did you get on your most recent quiz attempt, out of 40?\"))) # get an integer input for the student's most recent test score\n",
    "print(str(newPoints) + \"/40\") # print the student's most recent score\n",
    "newGrade = (changeQuizGrade(int(newPoints))) # get the new grade by calling the procedure defined as changeQuizGrade\n",
    "\n",
    "if newPoints > quizGrade: # if the new grade is greater than the student's current grade:\n",
    "    newQuizGrade = newGrade # create a new variable for the new quiz grade, and set it equal to newGrade. which we calculated by using the procedure\n",
    "    print(\"Your new grade is \" + str(newQuizGrade)) # print newGrade/the most recent test score\n",
    "else:\n",
    "    print(\"Your quiz score is still \" + str(quizGrade)) # if the latest score isn't  greater than the current score, keep the student's score the same"
   ]
  }
 ],
 "metadata": {
  "kernelspec": {
   "display_name": "base",
   "language": "python",
   "name": "python3"
  },
  "language_info": {
   "codemirror_mode": {
    "name": "ipython",
    "version": 3
   },
   "file_extension": ".py",
   "mimetype": "text/x-python",
   "name": "python",
   "nbconvert_exporter": "python",
   "pygments_lexer": "ipython3",
   "version": "3.9.12"
  },
  "orig_nbformat": 4,
  "vscode": {
   "interpreter": {
    "hash": "d4f40b15e6133daba1938c03094ab5050614a1b04d93d14e71faa6c0eef215a6"
   }
  }
 },
 "nbformat": 4,
 "nbformat_minor": 2
}
