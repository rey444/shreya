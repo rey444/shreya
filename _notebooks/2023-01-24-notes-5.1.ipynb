{
 "cells": [
  {
   "attachments": {},
   "cell_type": "markdown",
   "metadata": {},
   "source": [
    "# Big Idea 5.1 Beneficial and Harmful Effects Notes\n",
    "\n",
    "- title: Big Idea 5.1 Beneficial and Harmful Effects Notes\n",
    "- toc: true\n",
    "- branch: master\n",
    "- badges: true\n",
    "- comments: true\n",
    "- categories: [t2]"
   ]
  },
  {
   "attachments": {},
   "cell_type": "markdown",
   "metadata": {},
   "source": [
    "### ChatGPT\n",
    "\n",
    "- **disruptive technology:** changes the way we do things in everyday life\n",
    "- owned by OpenAI --> owned by microsoft\n",
    "- what does it do: can give you answers to coding problems, can do your math homework, can do history homework, can write code for you, and more\n",
    "- who is concerned about it?\n",
    "    - artists\n",
    "    - poets\n",
    "    - authors\n",
    "    - teachers/schools: some schools are banning it\n",
    "    - google: Platform shift, money disrupter, revenue model for Google changes\n",
    "    - github complement: can suggest code in real time\n",
    "- chatGPT doesn't cause you to click links for getting money through advertising like google does\n",
    "- it's basically stuff that we already have access to, but now we get it through less clicks\n",
    "- might hinder students' learning and hinder the development of critical thinking\n",
    "    - **induces bias:** only gives one answer to a single problem rather than considering multiple different perspectives; propagates one perspective\n",
    "    - dangers of limited perspective and bias is important to consider in CS\n",
    "    - bias is brought up by collegeboard as well in MCQ\n",
    "\n"
   ]
  },
  {
   "attachments": {},
   "cell_type": "markdown",
   "metadata": {},
   "source": [
    "### Dopamine/Tech Addiction\n",
    "\n",
    "- games, social media, etc. can become addicting and prevent us from living healthy lives\n",
    "- anything in moderation is good, but too much of anything can lead to negative drawbacks in lifestyle, physical health, and mental health\n",
    "- we become less conscious of our real lives and focus on our virtual lives"
   ]
  },
  {
   "attachments": {},
   "cell_type": "markdown",
   "metadata": {},
   "source": [
    "### Automated Telephone Trees\n",
    "\n",
    "- basically when a robot/pre-programmed voice answers the phone\n",
    "    - voice recognition and keypad use --> customers can find answers quickly\n",
    "- designed to save companies money\n",
    "- reduce hold time for customers\n",
    "\n",
    "### Automated Telephone Tree Questions\n",
    "\n",
    "**1. What are innovation you would like to see in phone tree?**\n",
    "\n",
    "An innovation I would like to see in a phone tree is the ability to take orders for restaurants. For example, you could use the keypad to select menu items as prompted by the phone tree, and it records you order.\n",
    "\n",
    "**2. Will this phone tree transfer you to relevant department during office hours?**\n",
    "\n",
    "Phone trees are already used by many schools to help transfer callers between departments.\n",
    "\n",
    "**3. Will it always enable you the opportunity for human response?**\n",
    "\n",
    "Human response should be an opportunity in most cases, because the technology obviously isn't perfect and the needs of all callers can't be met using a call tree."
   ]
  },
  {
   "attachments": {},
   "cell_type": "markdown",
   "metadata": {},
   "source": [
    "### 5.1 Hacks Questions\n",
    "\n",
    "**1. Come up with three of your own Beneficial and corresponding Harmful Effects of Computing**\n",
    "\n",
    "    - Benefit: faster communication\n",
    "    - Drawback: social media addiction\n",
    "    - Benefit: ability to automate phone calls and redirect phone calls automatically, and use robots for manufacturing\n",
    "    - Drawback: job loss for humans\n",
    "    - Benefit: new safety technology for vehicles, like blindspot warnings and self-driving systems\n",
    "    - Drawback: putting your life into the hands of AI\n",
    "\n",
    "**2. Talk about dopamine issues above. Real? Parent conspiracy? Anything that is impacting your personal study and success in High School?**\n",
    "\n",
    "    I think that the dopamine issues discussed above are real. Ever since I got social media, I have observed that I do spend more time on it--time which could be spent doing other things. I have also seen the impact our phones have had on in-person social interaction, as it has become more difficult to stay in the moment and engage with those who are in the room with us, since it is so easy to text people. Sometimes, my phone has distracted me from studying, because I'll sometimes want to text or call a friend instead of working. I never really got into video games, however, which was probably for the best. I try to take breaks from social media occasionally by deleting the app for a coupe days or sometimes even weeks, and have tried to create a schedule for myself which balances texting friends/socializing and work.\n",
    "\n",
    "### 5.1 & 5.2 Reflection Questions\n",
    "\n",
    "**1. Think of three beneficial effects of your projects based on 5.1 Unit**\n",
    "\n",
    "    - Saving Time: Users can use our website to help them decide which chevrolet car is best suited for them to buy. This is beneficial, because there are many cars available on the market and it is very time consuming to go through the process of deciding which new car to buy, because there are so many specifications which vary across different models.\n",
    "    - Advertisement: Chevrolet's cars are the cars on our website, which means that users will be directed towards buying a chevy since chevys are the only car brand whose cars are in our API.\n",
    "    - Convenient: Instead of having to go to the dealership to figure out the features of a car or sort through a car company's website which has hundreds of cars on it, it's easier to just plug your needs into our questionnaire and get suggested a car which is a good match for your needs!\n",
    "\n",
    "**2. Think of a potential harmful effect of your project.**\n",
    "\n",
    "    A potential harmful effect of our CPT project is that it can draw people away from visiting car dealerships or car companies' websites. If a person already knows exactly which car they want to buy after being helped from our site, their visit to the dealership will be much shorter. Additionally, since users will be able to use our site to find which car is the best fit to them, this could decrease internet traffic to the websites of actual car companies which provide a plethora of information about their car models, which you'd normally have to browse through when considering which new car to buy.\n",
    "\n",
    "**3. Answer with an opinion and learnings so far this year:  What are pros/cons on internet blockers at router and lack of admin password on lab machines at school?**\n",
    "\n",
    "    Pros of internet blockers at school are that they can keep students away from distracting sites, so they can't waste time in class. A con of having internet blockers and admin passwords at school is that they can sometimes hinder learning in computer based classes like CSP, which require visiting many sites and accessing many features, some of which are blocked by the school wifi.\n",
    "\n",
    "**4. What concerns do you have personally about the digital divide?  For yourself or for others.**\n",
    "\n",
    "    A concern I have about the digital divide lies in the ability to find jobs. Today, many jobs require having basic software skills--skills which are difficult for people who grew up in some developing countries to have, with unreliable internet and lack of access to devices which can run various softwares."
   ]
  }
 ],
 "metadata": {
  "kernelspec": {
   "display_name": "base",
   "language": "python",
   "name": "python3"
  },
  "language_info": {
   "name": "python",
   "version": "3.9.12 (main, Apr  5 2022, 06:56:58) \n[GCC 7.5.0]"
  },
  "orig_nbformat": 4,
  "vscode": {
   "interpreter": {
    "hash": "d4f40b15e6133daba1938c03094ab5050614a1b04d93d14e71faa6c0eef215a6"
   }
  }
 },
 "nbformat": 4,
 "nbformat_minor": 2
}
