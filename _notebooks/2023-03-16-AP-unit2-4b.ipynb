{
 "cells": [
  {
   "attachments": {},
   "cell_type": "markdown",
   "metadata": {},
   "source": [
    "#  Unit 2.4b Using Programs with Data, SQL\n",
    "> Using Programs with Data is focused on SQL and database actions.  Part B focuses on learning SQL commands, connections, and curses using an Imperative programming style,\n",
    "- toc: true\n",
    "- categories: [t3]"
   ]
  },
  {
   "attachments": {},
   "cell_type": "markdown",
   "metadata": {},
   "source": [
    "# Database Programming is Program with Data\n",
    "> Each Tri 2 Final Project should be an example of a Program with Data. \n",
    "\n",
    ">  Prepare to use SQLite in common Imperative Technique\n",
    "- Explore [SQLite Connect object](https://www.tutorialspoint.com/python_data_access/python_sqlite_establishing_connection.htm) to establish database connection\n",
    "- Explore [SQLite Cursor Object](https://www.tutorialspoint.com/python_data_access/python_sqlite_cursor_object.htm) to fetch data from a table within a database\n"
   ]
  },
  {
   "attachments": {},
   "cell_type": "markdown",
   "metadata": {},
   "source": [
    "## Schema of Users table in Sqlite.db\n",
    "> Uses PRAGMA statement to read schema.\n",
    "\n",
    "Describe Schema, here is resource [Resource](https://www.sqlite.org/index.html)\n",
    "- What is a database schema?\n",
    "    - blueprint describing the organization of a databse\n",
    "    - columns of a database\n",
    "- What is the purpose of identity Column in SQL database?\n",
    "    - to differentiate between columns\n",
    "    - helps you to get data from certain columns\n",
    "    - you should label columns with specific names\n",
    "    - easy to access\n",
    "- What is the purpose of a primary key in SQL database?\n",
    "    - some specific value that's associated with each individual user\n",
    "    - ex. user ID\n",
    "- What are the Data Types in SQL table?\n",
    "    - integer\n",
    "    - string\n",
    "    - text\n",
    "    - boolean\n",
    "    - images\n",
    "    - any data type\n",
    "    - list\n",
    "    - dictionary\n",
    "    - class"
   ]
  },
  {
   "cell_type": "code",
   "execution_count": 1,
   "metadata": {},
   "outputs": [
    {
     "name": "stdout",
     "output_type": "stream",
     "text": [
      "(0, 'id', 'INTEGER', 1, None, 1)\n",
      "(1, '_name', 'VARCHAR(255)', 1, None, 0)\n",
      "(2, '_uid', 'VARCHAR(255)', 1, None, 0)\n",
      "(3, '_password', 'VARCHAR(255)', 1, None, 0)\n",
      "(4, '_dob', 'DATE', 0, None, 0)\n"
     ]
    }
   ],
   "source": [
    "import sqlite3\n",
    "\n",
    "database = 'instance/sqlite.db' # this is location of database\n",
    "\n",
    "def schema():\n",
    "    \n",
    "    # Connect to the database file\n",
    "    conn = sqlite3.connect(database)\n",
    "\n",
    "    # Create a cursor object to execute SQL queries\n",
    "    cursor = conn.cursor()\n",
    "    \n",
    "    # Fetch results of Schema\n",
    "    results = cursor.execute(\"PRAGMA table_info('users')\").fetchall()\n",
    "\n",
    "    # Print the results\n",
    "    for row in results:\n",
    "        print(row)\n",
    "\n",
    "    # Close the database connection\n",
    "    conn.close()\n",
    "    \n",
    "schema()\n"
   ]
  },
  {
   "attachments": {},
   "cell_type": "markdown",
   "metadata": {},
   "source": [
    "^^ this code cell outputted the different variables (outputted the schema)\n",
    "- shows data types contained in table, ex. integer, character, etc.\n",
    "- VARCHAR(255) means that the data type is a string with a character limit of 255"
   ]
  },
  {
   "attachments": {},
   "cell_type": "markdown",
   "metadata": {},
   "source": [
    "## Reading Users table in Sqlite.db\n",
    "> Uses SQL SELECT statement to read data\n",
    "\n",
    "- What is a connection object?  After you google it, what do you think it does?\n",
    "- Same for cursor object?\n",
    "- Look at conn object and cursor object in VSCode debugger.  What attributes are in the object?\n",
    "- Is \"results\" an object?  How do you know?"
   ]
  },
  {
   "cell_type": "code",
   "execution_count": 4,
   "metadata": {},
   "outputs": [
    {
     "name": "stdout",
     "output_type": "stream",
     "text": [
      "(1, 'Thomas Edison', 'toby', 'sha256$zfnsqIPEAKoeZMf2$890504297f31e7a002c6d63fb520e6bf8b9ff5e53ead6fa095520d0da223fa2a', '1847-02-11')\n",
      "(2, 'Nikola Tesla', 'niko', 'sha256$DhTSX1uSdNW12e66$5c56bd8cfac971f6208f4169fafc794b59eafa28eed29e858d2280bf67f4fb36', '2023-03-15')\n",
      "(3, 'Alexander Graham Bell', 'lex', 'sha256$WYXdAAUsb9SqyRlQ$4968219d252cc37477dd467038cce4a1a26c22aad9d9d7374f75557b23e83495', '2023-03-15')\n",
      "(4, 'Eli Whitney', 'whit', 'sha256$Hn4HMsO2553pYQLp$6085a296175563b2363eb4293a208698ca31e760a5e8a74394a35510817c15a0', '2023-03-15')\n",
      "(5, 'Indiana Jones', 'indi', 'sha256$hU2hgumB7IAvIajn$7504fb225c6c87f6cb376f16b8389e4bc732a7422d50399be8d38ff164feb088', '1920-10-21')\n",
      "(6, 'Marion Ravenwood', 'raven', 'sha256$3PtcQmsM9uih20Xg$a9111d8240ae3e1e7dc904f153b364cf7e294060425a6b279bddfd6c440c41f2', '1921-10-21')\n"
     ]
    }
   ],
   "source": [
    "import sqlite3\n",
    "\n",
    "def read():\n",
    "    # Connect to the database file\n",
    "    conn = sqlite3.connect(database)\n",
    "\n",
    "    # Create a cursor object to execute SQL queries\n",
    "    cursor = conn.cursor()\n",
    "    \n",
    "    # Execute a SELECT statement to retrieve data from a table\n",
    "    results = cursor.execute('SELECT * FROM users').fetchall()\n",
    "\n",
    "    # Print the results\n",
    "    if len(results) == 0: # results has data in it, so it could be an object; results has attributes\n",
    "        print(\"Table is empty\")\n",
    "    else:\n",
    "        for row in results:\n",
    "            print(row)\n",
    "\n",
    "    # Close the cursor and connection objects\n",
    "    cursor.close()\n",
    "    conn.close()\n",
    "    \n",
    "read()\n"
   ]
  },
  {
   "attachments": {},
   "cell_type": "markdown",
   "metadata": {},
   "source": [
    "## Create a new User in table in Sqlite.db\n",
    "> Uses SQL INSERT to add row\n",
    "-  Compore create() in both SQL lessons.  What is better or worse in the two implementations?\n",
    "-  Explain purpose of SQL INSERT.   Is this the same as User __init__?"
   ]
  },
  {
   "cell_type": "code",
   "execution_count": 5,
   "metadata": {},
   "outputs": [
    {
     "name": "stdout",
     "output_type": "stream",
     "text": [
      "A new user record rey444 has been created\n"
     ]
    }
   ],
   "source": [
    "import sqlite3\n",
    "\n",
    "def create():\n",
    "    name = input(\"Enter your name:\")\n",
    "    uid = input(\"Enter your user id:\")\n",
    "    password = input(\"Enter your password\")\n",
    "    dob = input(\"Enter your date of birth 'YYYY-MM-DD'\")\n",
    "    \n",
    "    # Connect to the database file\n",
    "    conn = sqlite3.connect(database)\n",
    "\n",
    "    # Create a cursor object to execute SQL commands\n",
    "    cursor = conn.cursor()\n",
    "\n",
    "    try:\n",
    "        # Execute an SQL command to insert data into a table\n",
    "        cursor.execute(\"INSERT INTO users (_name, _uid, _password, _dob) VALUES (?, ?, ?, ?)\", (name, uid, password, dob))\n",
    "        \n",
    "        # Commit the changes to the database\n",
    "        conn.commit()\n",
    "        print(f\"A new user record {uid} has been created\")\n",
    "                \n",
    "    except sqlite3.Error as error:\n",
    "        print(\"Error while executing the INSERT:\", error)\n",
    "\n",
    "\n",
    "    # Close the cursor and connection objects\n",
    "    cursor.close()\n",
    "    conn.close()\n",
    "    \n",
    "create()"
   ]
  },
  {
   "attachments": {},
   "cell_type": "markdown",
   "metadata": {},
   "source": [
    "Why is this create function better than the one from the lesson yesterday?\n",
    "1. It reads nicely; you can understand what the functionality of each line is \n",
    "2. Moves almost chronologically in order of what you need it to do, compared to yesterday's, which seems to jump around\n",
    "3. Fewer try-excepts\n",
    "4. Working directly through sqlite3\n",
    "5. Shorter (procedural abstraction)\n",
    "6. Less complicated (procedural abstraction)\n",
    "7. Using objects --> makes it easier to understand"
   ]
  },
  {
   "attachments": {},
   "cell_type": "markdown",
   "metadata": {},
   "source": [
    "## Updating a User in table in Sqlite.db\n",
    "> Uses SQL UPDATE to modify password\n",
    "- What does the hacked part do?\n",
    "- Explain try/except, when would except occur?\n",
    "- What code seems to be repeated in each of these examples to point, why is it repeated?"
   ]
  },
  {
   "cell_type": "code",
   "execution_count": null,
   "metadata": {},
   "outputs": [],
   "source": [
    "import sqlite3\n",
    "\n",
    "def update():\n",
    "    uid = input(\"Enter user id to update\")\n",
    "    password = input(\"Enter updated password\")\n",
    "    if len(password) < 2:\n",
    "        message = \"hacked\"\n",
    "        password = 'gothackednewpassword123'\n",
    "    else:\n",
    "        message = \"successfully updated\"\n",
    "\n",
    "    # Connect to the database file\n",
    "    conn = sqlite3.connect(database)\n",
    "\n",
    "    # Create a cursor object to execute SQL commands\n",
    "    cursor = conn.cursor()\n",
    "\n",
    "    try:\n",
    "        # Execute an SQL command to update data in a table\n",
    "        cursor.execute(\"UPDATE users SET _password = ? WHERE _uid = ?\", (password, uid))\n",
    "        if cursor.rowcount == 0:\n",
    "            # The uid was not found in the table\n",
    "            print(f\"No uid {uid} was not found in the table\")\n",
    "        else:\n",
    "            print(f\"The row with user id {uid} the password has been {message}\")\n",
    "            conn.commit()\n",
    "    except sqlite3.Error as error:\n",
    "        print(\"Error while executing the UPDATE:\", error)\n",
    "        \n",
    "    \n",
    "    # Close the cursor and connection objects\n",
    "    cursor.close()\n",
    "    conn.close()\n",
    "    \n",
    "#update()\n"
   ]
  },
  {
   "attachments": {},
   "cell_type": "markdown",
   "metadata": {},
   "source": [
    "## Delete a User in table in Sqlite.db\n",
    "> Uses a delete function to remove a user based on a user input of the id.\n",
    "- Is DELETE a dangerous operation?  Why?\n",
    "- In the print statemements, what is the \"f\" and what does {uid} do?"
   ]
  },
  {
   "cell_type": "code",
   "execution_count": null,
   "metadata": {},
   "outputs": [],
   "source": [
    "import sqlite3\n",
    "\n",
    "def delete():\n",
    "    uid = input(\"Enter user id to delete\")\n",
    "\n",
    "    # Connect to the database file\n",
    "    conn = sqlite3.connect(database)\n",
    "\n",
    "    # Create a cursor object to execute SQL commands\n",
    "    cursor = conn.cursor()\n",
    "    \n",
    "    try:\n",
    "        cursor.execute(\"DELETE FROM users WHERE _uid = ?\", (uid,))\n",
    "        if cursor.rowcount == 0:\n",
    "            # The uid was not found in the table\n",
    "            print(f\"No uid {uid} was not found in the table\")\n",
    "        else:\n",
    "            # The uid was found in the table and the row was deleted\n",
    "            print(f\"The row with uid {uid} was successfully deleted\")\n",
    "        conn.commit()\n",
    "    except sqlite3.Error as error:\n",
    "        print(\"Error while executing the DELETE:\", error)\n",
    "        \n",
    "    # Close the cursor and connection objects\n",
    "    cursor.close()\n",
    "    conn.close()\n",
    "    \n",
    "#delete()"
   ]
  },
  {
   "attachments": {},
   "cell_type": "markdown",
   "metadata": {},
   "source": [
    "# Menu Interface to CRUD operations\n",
    "> CRUD and Schema interactions from one location by running menu. Observe input at the top of VSCode, observe output underneath code cell.\n",
    "- Why does the menu repeat?\n",
    "- Could you refactor this menu?  Make it work with a List?"
   ]
  },
  {
   "cell_type": "code",
   "execution_count": 7,
   "metadata": {},
   "outputs": [
    {
     "name": "stdout",
     "output_type": "stream",
     "text": [
      "(1, 'Thomas Edison', 'toby', 'sha256$zfnsqIPEAKoeZMf2$890504297f31e7a002c6d63fb520e6bf8b9ff5e53ead6fa095520d0da223fa2a', '1847-02-11')\n",
      "(2, 'Nikola Tesla', 'niko', 'sha256$DhTSX1uSdNW12e66$5c56bd8cfac971f6208f4169fafc794b59eafa28eed29e858d2280bf67f4fb36', '2023-03-15')\n",
      "(3, 'Alexander Graham Bell', 'lex', 'sha256$WYXdAAUsb9SqyRlQ$4968219d252cc37477dd467038cce4a1a26c22aad9d9d7374f75557b23e83495', '2023-03-15')\n",
      "(4, 'Eli Whitney', 'whit', 'sha256$Hn4HMsO2553pYQLp$6085a296175563b2363eb4293a208698ca31e760a5e8a74394a35510817c15a0', '2023-03-15')\n",
      "(5, 'Indiana Jones', 'indi', 'sha256$hU2hgumB7IAvIajn$7504fb225c6c87f6cb376f16b8389e4bc732a7422d50399be8d38ff164feb088', '1920-10-21')\n",
      "(6, 'Marion Ravenwood', 'raven', 'sha256$3PtcQmsM9uih20Xg$a9111d8240ae3e1e7dc904f153b364cf7e294060425a6b279bddfd6c440c41f2', '1921-10-21')\n",
      "(7, 'Shreya Sapkal', 'rey444', 'password', '2004-12-21')\n",
      "(1, 'Thomas Edison', 'toby', 'sha256$zfnsqIPEAKoeZMf2$890504297f31e7a002c6d63fb520e6bf8b9ff5e53ead6fa095520d0da223fa2a', '1847-02-11')\n",
      "(2, 'Nikola Tesla', 'niko', 'sha256$DhTSX1uSdNW12e66$5c56bd8cfac971f6208f4169fafc794b59eafa28eed29e858d2280bf67f4fb36', '2023-03-15')\n",
      "(3, 'Alexander Graham Bell', 'lex', 'sha256$WYXdAAUsb9SqyRlQ$4968219d252cc37477dd467038cce4a1a26c22aad9d9d7374f75557b23e83495', '2023-03-15')\n",
      "(4, 'Eli Whitney', 'whit', 'sha256$Hn4HMsO2553pYQLp$6085a296175563b2363eb4293a208698ca31e760a5e8a74394a35510817c15a0', '2023-03-15')\n",
      "(5, 'Indiana Jones', 'indi', 'sha256$hU2hgumB7IAvIajn$7504fb225c6c87f6cb376f16b8389e4bc732a7422d50399be8d38ff164feb088', '1920-10-21')\n",
      "(6, 'Marion Ravenwood', 'raven', 'sha256$3PtcQmsM9uih20Xg$a9111d8240ae3e1e7dc904f153b364cf7e294060425a6b279bddfd6c440c41f2', '1921-10-21')\n",
      "(7, 'Shreya Sapkal', 'rey444', 'password', '2004-12-21')\n"
     ]
    }
   ],
   "source": [
    "# Menu, to run other cells from one control point\n",
    "def menu():\n",
    "    operation = input(\"Enter: (C)reate (R)ead (U)pdate or (D)elete or (S)chema\")\n",
    "    if operation.lower() == 'c': # checks if input is C\n",
    "        create()\n",
    "    elif operation.lower() == 'r': # checks if input is R\n",
    "        read()\n",
    "    elif operation.lower() == 'u': # checks if input is U\n",
    "        update()\n",
    "    elif operation.lower() == 'd': # checks if input is D\n",
    "        delete()\n",
    "    elif operation.lower() == 's': # checks if input is S\n",
    "        schema()\n",
    "    elif len(operation)==0: # Escape Key # checks if input is the escape key\n",
    "        return # if the input is escape key, then stop the function\n",
    "    else:\n",
    "        print(\"Please enter c, r, u, or d\") # if the input is not the escape key, show this message and restart the function\n",
    "    menu() # recursion, repeat menu; the function is calling itself\n",
    "        \n",
    "try:\n",
    "    menu() # start menu\n",
    "except:\n",
    "    print(\"Perform Jupyter 'Run All' prior to starting menu\")\n"
   ]
  },
  {
   "attachments": {},
   "cell_type": "markdown",
   "metadata": {},
   "source": [
    "`elif len(operation)==0: # Escape Key`\n",
    "This says that keep prompting to type in C, R, U, or D until the escape key is pressed\n"
   ]
  },
  {
   "attachments": {},
   "cell_type": "markdown",
   "metadata": {},
   "source": [
    "# Hacks\n",
    "- Add this Blog to you own Blogging site.  In the Blog add notes and observations on each code cell.\n",
    "- In this implementation, do you see procedural abstraction?\n",
    "- In 2.4a or 2.4b lecture\n",
    "    - Do you see data abstraction?  Complement this with Debugging example.\n",
    "    - Use Imperative or OOP style to Create a new Table or do something that applies to your CPT project.\n",
    "    \n",
    "\n",
    "Reference... [sqlite documentation](https://www.sqlitetutorial.net/sqlite-python/creating-tables/)\n"
   ]
  }
 ],
 "metadata": {
  "kernelspec": {
   "display_name": "base",
   "language": "python",
   "name": "python3"
  },
  "language_info": {
   "codemirror_mode": {
    "name": "ipython",
    "version": 3
   },
   "file_extension": ".py",
   "mimetype": "text/x-python",
   "name": "python",
   "nbconvert_exporter": "python",
   "pygments_lexer": "ipython3",
   "version": "3.9.12"
  },
  "orig_nbformat": 4,
  "vscode": {
   "interpreter": {
    "hash": "8b82d5009c68ba5675978267e2b13a671f2a7143d61273c5a3813c97e0b2493d"
   }
  }
 },
 "nbformat": 4,
 "nbformat_minor": 2
}
