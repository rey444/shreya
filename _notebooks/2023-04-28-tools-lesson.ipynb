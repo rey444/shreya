{
 "cells": [
  {
   "attachments": {},
   "cell_type": "markdown",
   "metadata": {},
   "source": [
    "# Developing with Frontend & Backend Lesson\n",
    "> To get started with development, you need tools. You'll learn how to get the necessary tools here using Conda scripts.\n",
    "\n",
    "- toc: true\n",
    "- categories: [t3lessons]\n",
    "- week: 31"
   ]
  },
  {
   "attachments": {},
   "cell_type": "markdown",
   "metadata": {},
   "source": [
    "# Setting up Machines with Conda Scripts "
   ]
  },
  {
   "attachments": {},
   "cell_type": "markdown",
   "metadata": {},
   "source": [
    "## GitHub\n",
    "\n",
    "- What is GitHub?\n",
    "    - website where you can develop and share code\n",
    "- Why do we use GitHub? Why not Google Drive or messages?\n",
    "    - we use GitHub because it's created specifically for creating and sharing code\n",
    "- What's the difference between Git and GitHub?\n",
    "    - git is a way to store code and access it\n",
    "    - has various commands we can use to access and store code\n",
    "- Name as many Git commands as you can:\n",
    "    - clone, push, config, pull, push, fork"
   ]
  },
  {
   "attachments": {},
   "cell_type": "markdown",
   "metadata": {},
   "source": [
    "## Two Main Machines\n",
    "- Which is better, MacOS or Windows?\n",
    "    - Both are good and have their own advantages\n",
    "    - Linux is best for development\n",
    "- Give some differences between MacOS and Windows in terms of the development we use in APCSP\n",
    "- If you are on Windows, you want to skip the MacOS Setup instructions."
   ]
  },
  {
   "attachments": {},
   "cell_type": "markdown",
   "metadata": {},
   "source": [
    "## Our Tools:\n",
    "\n",
    "- What is the first tool you remember installing?\n",
    "    - I remember installing wsl first\n",
    "    - I also remember installing vscode\n",
    "- Why was installations so hard the first time?\n",
    "    - Because we hadn't ever done them before\n",
    "    - We didn't know how to read and interpret the error messages at first\n",
    "- Without looking back at previous notes, name three tools you remember installing. This can be kernels, extensions, any installation for APCSP, and also write why it is needed.\n",
    "    - jupyter kernel\n",
    "    - docker\n",
    "    - vscode\n",
    "    - node.js\n",
    "    - python3"
   ]
  },
  {
   "attachments": {},
   "cell_type": "markdown",
   "metadata": {},
   "source": [
    "## Actual Installations:\n",
    "\n",
    "Tool setup is a week 0 thing. You should already have the knowledge to set up your machine. There is also a high chance you had to remove your environments and set up your machine again due to errors. If, for some reason, these don't apply to you, go [here](https://nighthawkcoders.github.io/APCSP//techtalk/tools) to set up your machine, [here](https://nighthawkcoders.github.io/APCSP//techtalk/bash) to check everything working with Bash, and [here](https://nighthawkcoders.github.io/APCSP//c7.1/2022/09/12/PBL-fastpages-docker.html) for Docker setup, which are the main tools on our machine needed to develop in APCSP."
   ]
  },
  {
   "attachments": {},
   "cell_type": "markdown",
   "metadata": {},
   "source": [
    "### MacOS Conda Scripts\n",
    "\n",
    "After installing Homebrew, VSCode, and Python2, you'll need to run these Homebrew commands:"
   ]
  },
  {
   "cell_type": "code",
   "execution_count": null,
   "metadata": {
    "vscode": {
     "languageId": "shellscript"
    }
   },
   "outputs": [],
   "source": [
    "brew list # list packages\n",
    "brew update # update package list\n",
    "brew upgrade # upgrade packages\n",
    "brew install git  # install latest git\n",
    "brew install python # install python3 for development\n",
    "python --version # version of python3 installed\n",
    "brew install java # openjdk install"
   ]
  },
  {
   "attachments": {},
   "cell_type": "markdown",
   "metadata": {},
   "source": [
    "### Windows Conda Scripts\n",
    "\n",
    "To get set up, run these commands:"
   ]
  },
  {
   "cell_type": "code",
   "execution_count": null,
   "metadata": {
    "vscode": {
     "languageId": "shellscript"
    }
   },
   "outputs": [],
   "source": [
    "wsl --install\n",
    "wsl --list\n",
    "wsl --install -d Ubuntu-20.04\n",
    "# restart machine\n",
    "wsl\n",
    "cd ~\n",
    "mkdir vscode\n",
    "ls\n",
    "cd ~/vscode  # changes the directory to path for vscode files\n",
    "git clone https://github.com/nighthawkcoders/APCSP.git # clone repo\n",
    "cd APCSP  # changes the directory to path for APCSP repos assets\n",
    "code .  # opens APCSP in VSCode\n",
    "cd ..    # changes the directory to the previous/parent directory\n",
    "git config --global user.email mygmail@gmail.com  # tell git your email\n",
    "git config --global user.name mygithub   # tell git your github id\n",
    "shay@MSI:/mnt/c/Users/ShayM$ git config --global user.email your@email.here\n",
    "shay@MSI:/mnt/c/Users/ShayM$ git config --global user.name yourusernamehere\n",
    "# restart machine\n",
    "PS C:\\Users\\UserName> wsl  # Windows prompt to WSL command\n",
    "cd /tmp\n",
    "wget https://repo.anaconda.com/archive/Anaconda3-2022.05-Linux-x86_64.sh\n",
    "chmod +x Anaconda3-2022.05-Linux-x86_64.sh\n",
    "# Answer yes to all the prompts\n",
    "./Anaconda3-2022.05-Linux-x86_64.sh\n",
    "# run apt package commands now\n",
    "sudo apt list # list packages\n",
    "sudo apt update # update package list\n",
    "sudo apt upgrade # upgrade packages\n",
    "sudo apt install python2 # install python2 for package dependencies\n",
    "sudo apt install python3 python3-pip # install python3 and pip3 for development\n",
    "python --version  # version of python3 should be shown\n",
    "sudo apt install default-jdk default-jre  # java install\n",
    "java --version  # java runtime version\n",
    "javac --version # java compiler version\n",
    "sudo apt install unzip  # unzip utility"
   ]
  },
  {
   "attachments": {},
   "cell_type": "markdown",
   "metadata": {},
   "source": [
    "### Setting Up Kernels\n",
    "\n",
    "Now that you have everything installed on MacOS/Windows, we need to get kernels installed so that we can develop inside Fastpages notebooks. To do that, run these commands on both MacOS and Windows:"
   ]
  },
  {
   "cell_type": "code",
   "execution_count": null,
   "metadata": {
    "vscode": {
     "languageId": "shellscript"
    }
   },
   "outputs": [],
   "source": [
    "(base) id:~$ conda --version \n",
    "(base) id:~$ conda install jupyter # install jupyter\n",
    "(base) id:~$ jupyter kernelspec list # list installed kernels\n",
    "Available kernels:\n",
    "  python3    /home/shay/.local/share/jupyter/kernels/python3\n",
    "\n",
    "(base) id:~$ # start in home directory\n",
    "(base) id:~$ pip install bash_kernel # download bash kernel\n",
    "Collecting bash_kernel\n",
    "  Downloading bash_kernel-0.7.2-py2.py3-none-any.whl (15 kB)\n",
    "Requirement already satisfied: pexpect>=4.0 in ./anaconda3/lib/python3.9/site-packages (from bash_kernel) (4.8.0)\n",
    "Requirement already satisfied: ptyprocess>=0.5 in ./anaconda3/lib/python3.9/site-packages (from pexpect>=4.0->bash_kernel) (0.7.0)\n",
    "Installing collected packages: bash-kernel\n",
    "Successfully installed bash-kernel-0.7.2\n",
    "(base) id:~$ python -m bash_kernel.install # install kernel\n",
    "Installing IPython kernel spec\n",
    "(base) id:~$ jupyter kernelspec list # list kernels\n",
    "Available kernels:\n",
    "  bash       /home/shay/.local/share/jupyter/kernels/bash\n",
    "  python3    /home/shay/.local/share/jupyter/kernels/python3\n",
    "\n",
    "(base) id:~$ conda install nodejs # node is framework for JavaScript kernel\n",
    "(base) id:~$ npm -version  # node package manager comes with nodejs\n",
    "(base) id:~$ npm install -g ijavascript  # get the kernel\n",
    "(base) id:~$ ijsinstall # install javascript kernel\n",
    "(base) id:~$ jupyter kernelspec list # list kernels\n",
    "Available kernels:\n",
    "  bash          /home/shay/.local/share/jupyter/kernels/bash\n",
    "  javascript    /home/shay/.local/share/jupyter/kernels/javascript\n",
    "  python3       /home/shay/.local/share/jupyter/kernels/python3"
   ]
  },
  {
   "attachments": {},
   "cell_type": "markdown",
   "metadata": {},
   "source": [
    "By now, you should already know how to clone Git repositories into your VSCode directory. Once you do that, you're all set for developing with GitHub Pages and Fastpages!"
   ]
  },
  {
   "attachments": {},
   "cell_type": "markdown",
   "metadata": {},
   "source": [
    "## Before We Set Up Pages, A Guide to Git\n",
    "\n",
    "As we've discussed, Git is different from GitHub. Because GitHub is merely the place where we store Git repos, we use Git's commands to help us get, open, and configure these repositories. Here are some of the Git commands you should be using a lot (In the comments, tell what each Git command does):"
   ]
  },
  {
   "cell_type": "code",
   "execution_count": null,
   "metadata": {
    "vscode": {
     "languageId": "shellscript"
    }
   },
   "outputs": [],
   "source": [
    "git clone {repos-name-here.git} # clone a remote repository locally\n",
    "git checkout [branch] # used to switch from one branch to another\n",
    "git fork {repos-name-here.git} # make a copy of someone else's repository that you can edit \n",
    "git commit -m {\"commit-msg\"} # saves changes made to the tracked files in a git repository; tells Git to create a new commit with the changes made to the tracked files --> commit is added to the local repo on the computer and can be pushed to a remote repo to share the changes with others\n",
    "git pull # fetches changes from a remote repository and merges them into the current branch\n",
    "git push # pushes changes that you've made to your remote repository so others can see it\n",
    "\n",
    "# After this line, name other commands that you can use and what they do. This should be easy, as you've already answered the qeue\n",
    "git init # initializes a new Git repository in the current directory.\n",
    "git add # stages changes to be committed.\n",
    "git status # shows the status of the working directory and staged changes.\n",
    "git log # shows a history of commits in the repository.\n",
    "git branch # lists all the local branches in the repository.\n",
    "git checkout # switches between branches or to a specific commit.\n",
    "git merge # merges changes from one branch into another.\n",
    "git remote # shows a list of remote repositories.\n",
    "git fetch # fetches changes from a remote repository without merging them into the local branch.\n",
    "git diff # shows the differences between the working directory, staging area, and the most recent commit."
   ]
  },
  {
   "attachments": {},
   "cell_type": "markdown",
   "metadata": {},
   "source": [
    "## Setting Up GitHub Pages\n",
    "\n",
    "Some of you may have come to know that GitHub Pages is starting to become outdated. So why do we still use it? The answer is that we are in a class, and following a curriculum with something like GitHub Pages is much easier than creating portfolio content from scratch, which becomes quite unecessary. Therefore, we can use GitHub Pages to create this content instead. On the topic of unecessary vs necessary coding, we don't need to make GitHub Pages from scratch as opposed to using a template that our very own Mr. Mortensen created for us. To do that, we can go to the [Leuck Reunion](https://github.com/jm1021/leuck_reunion) repository and use the template to make our own GitHub Pages. Then, in Ubuntu, we can ```git clone``` our repository and open it in VSCode. After we have it open, the last thing we want to do is set up local hosting for this website, so that we can preview it and make changes in real time. To do that, head [here](https://jekyllrb.com/docs/installation/ubuntu/) to install Jekyll for Ubuntu, [here](https://www.ruby-lang.org/en/documentation/installation/) to install Ruby next, and [here](https://bundler.io/) to finalize the process by installing Bundler."
   ]
  },
  {
   "attachments": {},
   "cell_type": "markdown",
   "metadata": {},
   "source": [
    "## Setting Up FastPages\n",
    "\n",
    "In Setting Up Github Pages, we talked about how it is easier to use a template to create portfolio content. It is also easier to use a template when creating the portfolio itself. To do that, we can use Fastpages, which is what we have been using to show our blogs, code, and projects. However, Fastpages has been deprecated for some time now, so the instructions in Week 0 won't be effective. So, we need to fork the APCSP Fastpages. To do that, follow [this]() video to get started developing with Fastpages."
   ]
  },
  {
   "attachments": {},
   "cell_type": "markdown",
   "metadata": {},
   "source": [
    "# Hacks\n",
    "\n",
    "- Show how you incorporate three tools that we have installed into your project. 0.1 points for each feature. (0.3). This can include code, but definitely blog about it.\n",
    "- frontend hack goes here\n",
    "- backend hack goes here"
   ]
  }
 ],
 "metadata": {
  "kernelspec": {
   "display_name": "Bash",
   "language": "bash",
   "name": "bash"
  },
  "language_info": {
   "codemirror_mode": "shell",
   "file_extension": ".sh",
   "mimetype": "text/x-sh",
   "name": "bash",
   "version": "3.9.12"
  },
  "orig_nbformat": 4
 },
 "nbformat": 4,
 "nbformat_minor": 2
}
